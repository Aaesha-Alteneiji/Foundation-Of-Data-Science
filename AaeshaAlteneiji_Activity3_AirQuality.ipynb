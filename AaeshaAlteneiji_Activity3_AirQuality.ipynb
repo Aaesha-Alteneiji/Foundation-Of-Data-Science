{
  "nbformat": 4,
  "nbformat_minor": 0,
  "metadata": {
    "colab": {
      "provenance": [],
      "include_colab_link": true
    },
    "kernelspec": {
      "name": "python3",
      "display_name": "Python 3"
    },
    "language_info": {
      "name": "python"
    }
  },
  "cells": [
    {
      "cell_type": "markdown",
      "metadata": {
        "id": "view-in-github",
        "colab_type": "text"
      },
      "source": [
        "<a href=\"https://colab.research.google.com/github/Aaesha-Alteneiji/Foundation-Of-Data-Science/blob/main/AaeshaAlteneiji_Activity3_AirQuality.ipynb\" target=\"_parent\"><img src=\"https://colab.research.google.com/assets/colab-badge.svg\" alt=\"Open In Colab\"/></a>"
      ]
    },
    {
      "cell_type": "markdown",
      "source": [
        "[![Open In Colab](https://colab.research.google.com/assets/colab-badge.svg)](https://colab.research.google.com/github/Aaesha-Alteneiji/Foundation-Of-Data-Science/blob/main/AaeshaAlteneiji_Activity3_AirQuality.ipynb)"
      ],
      "metadata": {
        "id": "XMAsKJEo2iYT"
      }
    },
    {
      "cell_type": "markdown",
      "source": [
        "# <font color = blue size = 6> **Activity #3 (5 marks)**"
      ],
      "metadata": {
        "id": "9Hr2lLFuZjja"
      }
    },
    {
      "cell_type": "markdown",
      "source": [
        "\n",
        "<font color = green size = 5> **Activity: Air Quality Analysis in NYC**"
      ],
      "metadata": {
        "id": "bEtXiTwI-yIv"
      }
    },
    {
      "cell_type": "markdown",
      "source": [
        "# Objective:\n",
        "- **Objective:**  \n",
        "The goal of this assignment is to analyze air quality data collected from low-cost sensors mounted on moving vehicles in New York City. Using the concepts learned in the chapters on Sampling and Empirical Distributions , Testing Hypotheses , and Estimation , you will perform statistical analysis to estimate pollution levels, test hypotheses about differences in pollution across neighborhoods, and construct confidence intervals for key parameters.\n",
        "\n",
        "You are provided with a `Datascience` `Table` named `joined_table`, which contains air quality readings (`pm10`) and their corresponding administrative divisions (neighborhoods) in NYC. The table has been preprocessed and joined with neighborhood boundaries using geospatial operations. Your task is to perform all subsequent tasks using the `Datascience` Table abstraction as taught in class."
      ],
      "metadata": {
        "id": "6i3-zemYyZAu"
      }
    },
    {
      "cell_type": "markdown",
      "source": [
        "given a csv file containing longitude, latitude , and pm10  columns [Air Quality data](https://raw.githubusercontent.com/IsamAljawarneh/datasets/master/data/NYC_PM.csv) representing readings of low cost air quality sensor mounted on moving vehicles, in addition to a geojson file containing polygons representing administrative divisions of NYC city known as neighbourhoods [nyc_polygon.geojson](https://raw.githubusercontent.com/IsamAljawarneh/datasets/master/data/nyc_polygon.geojson).\n",
        "# Dataset Description\n",
        "- Air Quality Sensor Readings (NYC_PM.csv) :\n",
        "Attributes: SensorID, time, temperature, humidity, pm25,\n",
        "Focus attributes: temperature, humidity, pm1,pm25,pm10,\n",
        "- City Polygons (nyc_polygon.geojson) :\n",
        "Contains polygons representing neighborhoods or boroughs in NYC.\n",
        "Used for spatially joining geographic information with air quality data."
      ],
      "metadata": {
        "id": "MnPCkUN9-lzy"
      }
    },
    {
      "cell_type": "markdown",
      "source": [
        "## **part - A** preprocessing [0 marks]\n",
        "\n",
        "do all tasks and the subtasks!"
      ],
      "metadata": {
        "id": "_kuVRsJkAh9n"
      }
    },
    {
      "cell_type": "markdown",
      "source": [
        "# Onboarding Code Provided\n",
        "- The following code will be provided in an onboarding Jupyter Notebook to help students get started:\n",
        "\n"
      ],
      "metadata": {
        "id": "cXRH1R-SzPAs"
      }
    },
    {
      "cell_type": "code",
      "source": [
        "'''from google.colab import drive\n",
        "drive.mount('/content/drive')'''"
      ],
      "metadata": {
        "colab": {
          "base_uri": "https://localhost:8080/",
          "height": 35
        },
        "id": "R4ArO-FctZIu",
        "outputId": "3be72f79-7c2c-4b94-8aba-68dd6799905d"
      },
      "execution_count": 1,
      "outputs": [
        {
          "output_type": "execute_result",
          "data": {
            "text/plain": [
              "\"from google.colab import drive\\ndrive.mount('/content/drive')\""
            ],
            "application/vnd.google.colaboratory.intrinsic+json": {
              "type": "string"
            }
          },
          "metadata": {},
          "execution_count": 1
        }
      ]
    },
    {
      "cell_type": "markdown",
      "source": [
        "import necessary libraries"
      ],
      "metadata": {
        "id": "9o9eM8IICM-1"
      }
    },
    {
      "cell_type": "code",
      "source": [
        "import pandas as pd\n",
        "import geopandas as gpd\n",
        "import numpy as np\n",
        "import matplotlib.pyplot as plt"
      ],
      "metadata": {
        "id": "DIyY1q36ta3G"
      },
      "execution_count": 2,
      "outputs": []
    },
    {
      "cell_type": "code",
      "source": [
        "from datascience import *\n",
        "%matplotlib inline\n",
        "#path_data = '../../../assets/data/'\n",
        "import matplotlib.pyplot as plt\n",
        "plt.style.use('fivethirtyeight')\n",
        "import numpy as np"
      ],
      "metadata": {
        "id": "8ipkPRynmWGz"
      },
      "execution_count": 3,
      "outputs": []
    },
    {
      "cell_type": "markdown",
      "source": [
        "###1. Read the CSV file containing PM sensor readings\n",
        " & Read the GeoJSON file containing neighborhood boundaries into a GeoDataFrame"
      ],
      "metadata": {
        "id": "11VvbD-a6ur8"
      }
    },
    {
      "cell_type": "code",
      "source": [
        "\n",
        "# Step 1: Read the CSV file containing PM10 sensor readings\n",
        "pm10_data = pd.read_csv('https://raw.githubusercontent.com/IsamAljawarneh/datasets/master/data/NYC_PM.csv',index_col=False)\n",
        "\n",
        "# Step 2: Read the GeoJSON file containing neighborhood boundaries into a GeoDataFrame\n",
        "nyc_neighborhoods = gpd.read_file('https://raw.githubusercontent.com/IsamAljawarneh/datasets/master/data/nyc_polygon.geojson')\n"
      ],
      "metadata": {
        "id": "CYk7KfJqueQW"
      },
      "execution_count": 4,
      "outputs": []
    },
    {
      "cell_type": "code",
      "source": [
        "#pm10_data.dtypes"
      ],
      "metadata": {
        "id": "VAMLIDAKu289"
      },
      "execution_count": 5,
      "outputs": []
    },
    {
      "cell_type": "markdown",
      "source": [
        "### 2. convert the csv into a geodataframe and join it (sjoin) with the geojson, assign a coordinate reference system (CRS) the csv geodataframe which is identical to that of the geojson file, then perform the join, the result is a geodataframe, convert it to dataframe, and select pm10, neighborhood columns in a new dataframe"
      ],
      "metadata": {
        "id": "tKKuGLIl682s"
      }
    },
    {
      "cell_type": "code",
      "source": [
        "pm10_gdf = gpd.GeoDataFrame(pm10_data, geometry=gpd.points_from_xy(pm10_data.longitude, pm10_data.latitude))\n",
        "merged_data = gpd.sjoin(pm10_gdf, nyc_neighborhoods, how='inner', predicate='within')"
      ],
      "metadata": {
        "id": "LDdZ3JM9vABk",
        "colab": {
          "base_uri": "https://localhost:8080/"
        },
        "outputId": "a58593ee-d88c-44b9-a906-28f5da13eb3f"
      },
      "execution_count": 6,
      "outputs": [
        {
          "output_type": "stream",
          "name": "stderr",
          "text": [
            "<ipython-input-6-d43866676e2a>:2: UserWarning: CRS mismatch between the CRS of left geometries and the CRS of right geometries.\n",
            "Use `to_crs()` to reproject one of the input geometries to match the CRS of the other.\n",
            "\n",
            "Left CRS: None\n",
            "Right CRS: EPSG:4326\n",
            "\n",
            "  merged_data = gpd.sjoin(pm10_gdf, nyc_neighborhoods, how='inner', predicate='within')\n"
          ]
        }
      ]
    },
    {
      "cell_type": "code",
      "source": [
        "#merged_data.dtypes"
      ],
      "metadata": {
        "id": "4YTL56jpvPDW"
      },
      "execution_count": 7,
      "outputs": []
    },
    {
      "cell_type": "code",
      "source": [
        "pollution_data = merged_data[['pm10','neighborhood']]"
      ],
      "metadata": {
        "id": "1XPU0kp4hwnf"
      },
      "execution_count": 8,
      "outputs": []
    },
    {
      "cell_type": "code",
      "source": [
        "pollution_data.shape[0]"
      ],
      "metadata": {
        "colab": {
          "base_uri": "https://localhost:8080/"
        },
        "id": "T3gx_my1iAoi",
        "outputId": "464e3664-2754-4e68-b088-7c535928925e"
      },
      "execution_count": 9,
      "outputs": [
        {
          "output_type": "execute_result",
          "data": {
            "text/plain": [
              "118495"
            ]
          },
          "metadata": {},
          "execution_count": 9
        }
      ]
    },
    {
      "cell_type": "code",
      "source": [
        "#merged_data.rename(columns={'neighborhood': 'neighborhood1'}, inplace=True)"
      ],
      "metadata": {
        "id": "P4M9bOYqy09e"
      },
      "execution_count": 10,
      "outputs": []
    },
    {
      "cell_type": "code",
      "source": [
        "type(pollution_data)"
      ],
      "metadata": {
        "colab": {
          "base_uri": "https://localhost:8080/",
          "height": 204
        },
        "id": "a8C-waCXk8JE",
        "outputId": "1dcc3728-4918-4024-fb98-a0fade85a6cc"
      },
      "execution_count": 11,
      "outputs": [
        {
          "output_type": "execute_result",
          "data": {
            "text/plain": [
              "pandas.core.frame.DataFrame"
            ],
            "text/html": [
              "<div style=\"max-width:800px; border: 1px solid var(--colab-border-color);\"><style>\n",
              "      pre.function-repr-contents {\n",
              "        overflow-x: auto;\n",
              "        padding: 8px 12px;\n",
              "        max-height: 500px;\n",
              "      }\n",
              "\n",
              "      pre.function-repr-contents.function-repr-contents-collapsed {\n",
              "        cursor: pointer;\n",
              "        max-height: 100px;\n",
              "      }\n",
              "    </style>\n",
              "    <pre style=\"white-space: initial; background:\n",
              "         var(--colab-secondary-surface-color); padding: 8px 12px;\n",
              "         border-bottom: 1px solid var(--colab-border-color);\"><b>pandas.core.frame.DataFrame</b><br/>def __init__(data=None, index: Axes | None=None, columns: Axes | None=None, dtype: Dtype | None=None, copy: bool | None=None) -&gt; None</pre><pre class=\"function-repr-contents function-repr-contents-collapsed\" style=\"\"><a class=\"filepath\" style=\"display:none\" href=\"#\">/usr/local/lib/python3.11/dist-packages/pandas/core/frame.py</a>Two-dimensional, size-mutable, potentially heterogeneous tabular data.\n",
              "\n",
              "Data structure also contains labeled axes (rows and columns).\n",
              "Arithmetic operations align on both row and column labels. Can be\n",
              "thought of as a dict-like container for Series objects. The primary\n",
              "pandas data structure.\n",
              "\n",
              "Parameters\n",
              "----------\n",
              "data : ndarray (structured or homogeneous), Iterable, dict, or DataFrame\n",
              "    Dict can contain Series, arrays, constants, dataclass or list-like objects. If\n",
              "    data is a dict, column order follows insertion-order. If a dict contains Series\n",
              "    which have an index defined, it is aligned by its index. This alignment also\n",
              "    occurs if data is a Series or a DataFrame itself. Alignment is done on\n",
              "    Series/DataFrame inputs.\n",
              "\n",
              "    If data is a list of dicts, column order follows insertion-order.\n",
              "\n",
              "index : Index or array-like\n",
              "    Index to use for resulting frame. Will default to RangeIndex if\n",
              "    no indexing information part of input data and no index provided.\n",
              "columns : Index or array-like\n",
              "    Column labels to use for resulting frame when data does not have them,\n",
              "    defaulting to RangeIndex(0, 1, 2, ..., n). If data contains column labels,\n",
              "    will perform column selection instead.\n",
              "dtype : dtype, default None\n",
              "    Data type to force. Only a single dtype is allowed. If None, infer.\n",
              "copy : bool or None, default None\n",
              "    Copy data from inputs.\n",
              "    For dict data, the default of None behaves like ``copy=True``.  For DataFrame\n",
              "    or 2d ndarray input, the default of None behaves like ``copy=False``.\n",
              "    If data is a dict containing one or more Series (possibly of different dtypes),\n",
              "    ``copy=False`` will ensure that these inputs are not copied.\n",
              "\n",
              "    .. versionchanged:: 1.3.0\n",
              "\n",
              "See Also\n",
              "--------\n",
              "DataFrame.from_records : Constructor from tuples, also record arrays.\n",
              "DataFrame.from_dict : From dicts of Series, arrays, or dicts.\n",
              "read_csv : Read a comma-separated values (csv) file into DataFrame.\n",
              "read_table : Read general delimited file into DataFrame.\n",
              "read_clipboard : Read text from clipboard into DataFrame.\n",
              "\n",
              "Notes\n",
              "-----\n",
              "Please reference the :ref:`User Guide &lt;basics.dataframe&gt;` for more information.\n",
              "\n",
              "Examples\n",
              "--------\n",
              "Constructing DataFrame from a dictionary.\n",
              "\n",
              "&gt;&gt;&gt; d = {&#x27;col1&#x27;: [1, 2], &#x27;col2&#x27;: [3, 4]}\n",
              "&gt;&gt;&gt; df = pd.DataFrame(data=d)\n",
              "&gt;&gt;&gt; df\n",
              "   col1  col2\n",
              "0     1     3\n",
              "1     2     4\n",
              "\n",
              "Notice that the inferred dtype is int64.\n",
              "\n",
              "&gt;&gt;&gt; df.dtypes\n",
              "col1    int64\n",
              "col2    int64\n",
              "dtype: object\n",
              "\n",
              "To enforce a single dtype:\n",
              "\n",
              "&gt;&gt;&gt; df = pd.DataFrame(data=d, dtype=np.int8)\n",
              "&gt;&gt;&gt; df.dtypes\n",
              "col1    int8\n",
              "col2    int8\n",
              "dtype: object\n",
              "\n",
              "Constructing DataFrame from a dictionary including Series:\n",
              "\n",
              "&gt;&gt;&gt; d = {&#x27;col1&#x27;: [0, 1, 2, 3], &#x27;col2&#x27;: pd.Series([2, 3], index=[2, 3])}\n",
              "&gt;&gt;&gt; pd.DataFrame(data=d, index=[0, 1, 2, 3])\n",
              "   col1  col2\n",
              "0     0   NaN\n",
              "1     1   NaN\n",
              "2     2   2.0\n",
              "3     3   3.0\n",
              "\n",
              "Constructing DataFrame from numpy ndarray:\n",
              "\n",
              "&gt;&gt;&gt; df2 = pd.DataFrame(np.array([[1, 2, 3], [4, 5, 6], [7, 8, 9]]),\n",
              "...                    columns=[&#x27;a&#x27;, &#x27;b&#x27;, &#x27;c&#x27;])\n",
              "&gt;&gt;&gt; df2\n",
              "   a  b  c\n",
              "0  1  2  3\n",
              "1  4  5  6\n",
              "2  7  8  9\n",
              "\n",
              "Constructing DataFrame from a numpy ndarray that has labeled columns:\n",
              "\n",
              "&gt;&gt;&gt; data = np.array([(1, 2, 3), (4, 5, 6), (7, 8, 9)],\n",
              "...                 dtype=[(&quot;a&quot;, &quot;i4&quot;), (&quot;b&quot;, &quot;i4&quot;), (&quot;c&quot;, &quot;i4&quot;)])\n",
              "&gt;&gt;&gt; df3 = pd.DataFrame(data, columns=[&#x27;c&#x27;, &#x27;a&#x27;])\n",
              "...\n",
              "&gt;&gt;&gt; df3\n",
              "   c  a\n",
              "0  3  1\n",
              "1  6  4\n",
              "2  9  7\n",
              "\n",
              "Constructing DataFrame from dataclass:\n",
              "\n",
              "&gt;&gt;&gt; from dataclasses import make_dataclass\n",
              "&gt;&gt;&gt; Point = make_dataclass(&quot;Point&quot;, [(&quot;x&quot;, int), (&quot;y&quot;, int)])\n",
              "&gt;&gt;&gt; pd.DataFrame([Point(0, 0), Point(0, 3), Point(2, 3)])\n",
              "   x  y\n",
              "0  0  0\n",
              "1  0  3\n",
              "2  2  3\n",
              "\n",
              "Constructing DataFrame from Series/DataFrame:\n",
              "\n",
              "&gt;&gt;&gt; ser = pd.Series([1, 2, 3], index=[&quot;a&quot;, &quot;b&quot;, &quot;c&quot;])\n",
              "&gt;&gt;&gt; df = pd.DataFrame(data=ser, index=[&quot;a&quot;, &quot;c&quot;])\n",
              "&gt;&gt;&gt; df\n",
              "   0\n",
              "a  1\n",
              "c  3\n",
              "\n",
              "&gt;&gt;&gt; df1 = pd.DataFrame([1, 2, 3], index=[&quot;a&quot;, &quot;b&quot;, &quot;c&quot;], columns=[&quot;x&quot;])\n",
              "&gt;&gt;&gt; df2 = pd.DataFrame(data=df1, index=[&quot;a&quot;, &quot;c&quot;])\n",
              "&gt;&gt;&gt; df2\n",
              "   x\n",
              "a  1\n",
              "c  3</pre>\n",
              "      <script>\n",
              "      if (google.colab.kernel.accessAllowed && google.colab.files && google.colab.files.view) {\n",
              "        for (const element of document.querySelectorAll('.filepath')) {\n",
              "          element.style.display = 'block'\n",
              "          element.onclick = (event) => {\n",
              "            event.preventDefault();\n",
              "            event.stopPropagation();\n",
              "            google.colab.files.view(element.textContent, 509);\n",
              "          };\n",
              "        }\n",
              "      }\n",
              "      for (const element of document.querySelectorAll('.function-repr-contents')) {\n",
              "        element.onclick = (event) => {\n",
              "          event.preventDefault();\n",
              "          event.stopPropagation();\n",
              "          element.classList.toggle('function-repr-contents-collapsed');\n",
              "        };\n",
              "      }\n",
              "      </script>\n",
              "      </div>"
            ]
          },
          "metadata": {},
          "execution_count": 11
        }
      ]
    },
    {
      "cell_type": "markdown",
      "source": [
        "3. you need to convert</h1></section> from dataframe to Datascience Table. Use the following format: ```Table.from_df(df, keep_index=False)``` read more here\n",
        "[create DS Table from DF](https://www.data8.org/datascience/_autosummary/datascience.tables.Table.from_df.html)\n",
        "\n",
        "**N.B.** <font color='red'>NOW, perform all tasks using the table abstraction as we have learned in the class!</font>"
      ],
      "metadata": {
        "id": "ajH-jZyp8neJ"
      }
    },
    {
      "cell_type": "markdown",
      "source": [
        "the following is the opposite:\n",
        "\n",
        "[Table.to_df](https://www.data8.org/datascience/_autosummary/datascience.tables.Table.to_df.html)"
      ],
      "metadata": {
        "id": "ansU7tkQ9cj5"
      }
    },
    {
      "cell_type": "markdown",
      "source": [
        "what is the maximum pm10 value"
      ],
      "metadata": {
        "id": "2zHvKSpo7nX0"
      }
    },
    {
      "cell_type": "code",
      "source": [
        "pollution_data['pm10'].max()"
      ],
      "metadata": {
        "colab": {
          "base_uri": "https://localhost:8080/"
        },
        "id": "A-Ikgdphzdha",
        "outputId": "268e9e9b-48bf-4547-c3a6-15f8793b6cf3"
      },
      "execution_count": 12,
      "outputs": [
        {
          "output_type": "execute_result",
          "data": {
            "text/plain": [
              "87341.71"
            ]
          },
          "metadata": {},
          "execution_count": 12
        }
      ]
    },
    {
      "cell_type": "markdown",
      "source": [
        "what is the maximum pm10 value"
      ],
      "metadata": {
        "id": "RgKB2UJo7rWW"
      }
    },
    {
      "cell_type": "code",
      "source": [
        "pollution_data['pm10'].min()"
      ],
      "metadata": {
        "colab": {
          "base_uri": "https://localhost:8080/"
        },
        "id": "qqANkwbXzmF5",
        "outputId": "7dd0f0e2-ed34-4039-809e-4fed5b45931f"
      },
      "execution_count": 13,
      "outputs": [
        {
          "output_type": "execute_result",
          "data": {
            "text/plain": [
              "0.0"
            ]
          },
          "metadata": {},
          "execution_count": 13
        }
      ]
    },
    {
      "cell_type": "code",
      "source": [
        "joined_table = Table().from_df(pollution_data)"
      ],
      "metadata": {
        "id": "zsjLIScVmM9a"
      },
      "execution_count": 14,
      "outputs": []
    },
    {
      "cell_type": "markdown",
      "source": [
        "show the first few rows of the table?"
      ],
      "metadata": {
        "id": "KsUXysj_B1T9"
      }
    },
    {
      "cell_type": "code",
      "source": [
        "joined_table.show(2)"
      ],
      "metadata": {
        "colab": {
          "base_uri": "https://localhost:8080/",
          "height": 141
        },
        "id": "lhgoak8vzEfS",
        "outputId": "11f8f8c9-85b7-424c-fb55-2a9c40368dac"
      },
      "execution_count": 15,
      "outputs": [
        {
          "output_type": "display_data",
          "data": {
            "text/plain": [
              "<IPython.core.display.HTML object>"
            ],
            "text/html": [
              "<table border=\"1\" class=\"dataframe\">\n",
              "    <thead>\n",
              "        <tr>\n",
              "            <th>pm10</th> <th>neighborhood</th>\n",
              "        </tr>\n",
              "    </thead>\n",
              "    <tbody>\n",
              "        <tr>\n",
              "            <td>11.35</td> <td>Bronx Park  </td>\n",
              "        </tr>\n",
              "        <tr>\n",
              "            <td>1.18 </td> <td>Bronx Park  </td>\n",
              "        </tr>\n",
              "    </tbody>\n",
              "</table>\n",
              "<p>... (118493 rows omitted)</p>"
            ]
          },
          "metadata": {}
        }
      ]
    },
    {
      "cell_type": "markdown",
      "source": [
        "print minimum and maximum pm10 values?"
      ],
      "metadata": {
        "id": "zgAZOxbYB56N"
      }
    },
    {
      "cell_type": "code",
      "source": [
        "pm10 = joined_table.column('pm10')\n",
        "min(pm10), max(pm10)"
      ],
      "metadata": {
        "colab": {
          "base_uri": "https://localhost:8080/"
        },
        "id": "19ncrqo0y8l5",
        "outputId": "81de97fa-b628-4489-811b-0021b0c93b26"
      },
      "execution_count": 16,
      "outputs": [
        {
          "output_type": "execute_result",
          "data": {
            "text/plain": [
              "(0.0, 87341.710000000006)"
            ]
          },
          "metadata": {},
          "execution_count": 16
        }
      ]
    },
    {
      "cell_type": "markdown",
      "source": [
        "#Instructions for Students\n",
        "-You task is to analyze NYC hyperlocal air quality data using the provided dataset. Complete the following tasks in your Jupyter Notebook.total of 5 marks . Use the Table abstraction."
      ],
      "metadata": {
        "id": "kkbu-cal0QRc"
      }
    },
    {
      "cell_type": "markdown",
      "source": [
        "# Tasks"
      ],
      "metadata": {
        "id": "lNeAe-ZH0eL2"
      }
    },
    {
      "cell_type": "markdown",
      "source": [
        "## <font color = blue size  = 5>**Task 1: Sampling and Empirical Distribution (1 Mark)**\n",
        "\n",
        "**Task Description:**\n",
        "\n",
        "- Randomly sample 10% of the rows from the joined_table without replacement.\n",
        "- Compute the mean pm10 value for this sample.\n",
        "- Create an empirical histogram of the pm10 values from the sampled data using 10 bins.\n",
        "- Comment on the shape of the histogram and compare it to the distribution of the full dataset."
      ],
      "metadata": {
        "id": "lTICc0fUdXNA"
      }
    },
    {
      "cell_type": "markdown",
      "source": [
        "<font color = red size= 5> attention</font>\n",
        "\n",
        "remove pm10 values that are unreasonably high (above 300 µg/m³)"
      ],
      "metadata": {
        "id": "H9u190hzeLnm"
      }
    },
    {
      "cell_type": "code",
      "source": [
        "joined_table = joined_table.where('pm10', are.below(300))"
      ],
      "metadata": {
        "id": "iXqSs3EDd7v3"
      },
      "execution_count": 17,
      "outputs": []
    },
    {
      "cell_type": "code",
      "source": [
        "len(joined_table)"
      ],
      "metadata": {
        "id": "XBQxvwlie-pc",
        "colab": {
          "base_uri": "https://localhost:8080/"
        },
        "outputId": "34f14eb1-bd46-4c1b-bb30-fc2b55d138e1"
      },
      "execution_count": 18,
      "outputs": [
        {
          "output_type": "execute_result",
          "data": {
            "text/plain": [
              "2"
            ]
          },
          "metadata": {},
          "execution_count": 18
        }
      ]
    },
    {
      "cell_type": "code",
      "source": [
        "joined_table.num_rows"
      ],
      "metadata": {
        "id": "kLHMmWdHe6rg",
        "colab": {
          "base_uri": "https://localhost:8080/"
        },
        "outputId": "190d0446-fdd0-4bcd-cae8-b4edd24919d9"
      },
      "execution_count": 19,
      "outputs": [
        {
          "output_type": "execute_result",
          "data": {
            "text/plain": [
              "117356"
            ]
          },
          "metadata": {},
          "execution_count": 19
        }
      ]
    },
    {
      "cell_type": "code",
      "source": [
        "#Task 1.1: Randomly sampling 10% of the joind_table data without replacement\n",
        "sample_data = joined_table.sample(round(0.1 * joined_table.num_rows), with_replacement= False)\n",
        "sample_data"
      ],
      "metadata": {
        "colab": {
          "base_uri": "https://localhost:8080/",
          "height": 392
        },
        "id": "IdDDJaPalqgV",
        "outputId": "765b8388-fa8d-42bb-c5d8-6edc38fbe373"
      },
      "execution_count": 20,
      "outputs": [
        {
          "output_type": "execute_result",
          "data": {
            "text/plain": [
              "pm10  | neighborhood\n",
              "44.95 | Soundview\n",
              "0.54  | Bronx Park\n",
              "3.94  | Bronx Park\n",
              "0.28  | Bronx Park\n",
              "40.24 | Hunts Point\n",
              "0.11  | Hunts Point\n",
              "1.28  | Hunts Point\n",
              "0.49  | Longwood\n",
              "0.59  | Longwood\n",
              "1.92  | Soundview\n",
              "... (11726 rows omitted)"
            ],
            "text/html": [
              "<table border=\"1\" class=\"dataframe\">\n",
              "    <thead>\n",
              "        <tr>\n",
              "            <th>pm10</th> <th>neighborhood</th>\n",
              "        </tr>\n",
              "    </thead>\n",
              "    <tbody>\n",
              "        <tr>\n",
              "            <td>44.95</td> <td>Soundview   </td>\n",
              "        </tr>\n",
              "        <tr>\n",
              "            <td>0.54 </td> <td>Bronx Park  </td>\n",
              "        </tr>\n",
              "        <tr>\n",
              "            <td>3.94 </td> <td>Bronx Park  </td>\n",
              "        </tr>\n",
              "        <tr>\n",
              "            <td>0.28 </td> <td>Bronx Park  </td>\n",
              "        </tr>\n",
              "        <tr>\n",
              "            <td>40.24</td> <td>Hunts Point </td>\n",
              "        </tr>\n",
              "        <tr>\n",
              "            <td>0.11 </td> <td>Hunts Point </td>\n",
              "        </tr>\n",
              "        <tr>\n",
              "            <td>1.28 </td> <td>Hunts Point </td>\n",
              "        </tr>\n",
              "        <tr>\n",
              "            <td>0.49 </td> <td>Longwood    </td>\n",
              "        </tr>\n",
              "        <tr>\n",
              "            <td>0.59 </td> <td>Longwood    </td>\n",
              "        </tr>\n",
              "        <tr>\n",
              "            <td>1.92 </td> <td>Soundview   </td>\n",
              "        </tr>\n",
              "    </tbody>\n",
              "</table>\n",
              "<p>... (11726 rows omitted)</p>"
            ]
          },
          "metadata": {},
          "execution_count": 20
        }
      ]
    },
    {
      "cell_type": "code",
      "source": [
        "#Task 1.2: Calculating the mean pm10 value for the sampled data\n",
        "np.mean(sample_data[\"pm10\"])"
      ],
      "metadata": {
        "colab": {
          "base_uri": "https://localhost:8080/"
        },
        "id": "vznxRCGrmWL1",
        "outputId": "7e1d3338-5b43-4787-ce81-4cf06d4c09fe"
      },
      "execution_count": 21,
      "outputs": [
        {
          "output_type": "execute_result",
          "data": {
            "text/plain": [
              "15.872517041581457"
            ]
          },
          "metadata": {},
          "execution_count": 21
        }
      ]
    },
    {
      "cell_type": "code",
      "source": [
        "#Task 1.3: Ploting empirical histogram for pm10 value of the sampled data using 10 bins\n",
        "sample_data.hist(\"pm10\", bins = 10)\n",
        "plt.title(\"PM10 Values Empirical Distribution\")"
      ],
      "metadata": {
        "colab": {
          "base_uri": "https://localhost:8080/",
          "height": 457
        },
        "id": "_5Yvb5M5m1BQ",
        "outputId": "5a8d9b61-0fe9-4741-99d4-95acdb9736fa"
      },
      "execution_count": 22,
      "outputs": [
        {
          "output_type": "execute_result",
          "data": {
            "text/plain": [
              "Text(0.5, 1.0, 'PM10 Values Empirical Distribution')"
            ]
          },
          "metadata": {},
          "execution_count": 22
        },
        {
          "output_type": "display_data",
          "data": {
            "text/plain": [
              "<Figure size 600x400 with 1 Axes>"
            ],
            "image/png": "[encoded data removed]"
          },
          "metadata": {}
        }
      ]
    },
    {
      "cell_type": "code",
      "source": [
        "#Task 1.4.1: Ploting the histogram for pm10 value of the sampled data using 10 bins\n",
        "joined_table.hist(\"pm10\", bins = 10)\n",
        "plt.title(\"PM10 Values Distribution\")"
      ],
      "metadata": {
        "colab": {
          "base_uri": "https://localhost:8080/",
          "height": 457
        },
        "id": "wcQ3K0W6obNA",
        "outputId": "25bfb11b-7126-40e5-a1a4-b4d1b0bce9ce"
      },
      "execution_count": 23,
      "outputs": [
        {
          "output_type": "execute_result",
          "data": {
            "text/plain": [
              "Text(0.5, 1.0, 'PM10 Values Distribution')"
            ]
          },
          "metadata": {},
          "execution_count": 23
        },
        {
          "output_type": "display_data",
          "data": {
            "text/plain": [
              "<Figure size 600x400 with 1 Axes>"
            ],
            "image/png": "[encoded data removed]"
          },
          "metadata": {}
        }
      ]
    },
    {
      "cell_type": "code",
      "source": [
        "#Task 1.4.2: Checking the precentage of pm10 sample and full data distriubtion where the area is high\n",
        "print(\"Sample Data: Below 30: \", round((sample_data.where(\"pm10\", are.below(30)).num_rows / sample_data.num_rows) * 100), \"%, Above 180: \",\n",
        "      round((sample_data.where(\"pm10\", are.above_or_equal_to(150)).num_rows / sample_data.num_rows) * 100), \"%\")\n",
        "print(\"Full Data: Below 30: \", round((joined_table.where(\"pm10\", are.below(30)).num_rows / joined_table.num_rows) * 100), \"%, Above 180: \",\n",
        "      round((joined_table.where(\"pm10\", are.above_or_equal_to(150)).num_rows / joined_table.num_rows) * 100), \"%\")"
      ],
      "metadata": {
        "colab": {
          "base_uri": "https://localhost:8080/"
        },
        "id": "lmt4l5WfsQMP",
        "outputId": "5ee318a1-83a5-4734-a207-084c3b77d59a"
      },
      "execution_count": 24,
      "outputs": [
        {
          "output_type": "stream",
          "name": "stdout",
          "text": [
            "Sample Data: Below 30:  87 %, Above 180:  2 %\n",
            "Full Data: Below 30:  87 %, Above 180:  2 %\n"
          ]
        }
      ]
    },
    {
      "cell_type": "code",
      "source": [
        "#Task 1.4.3: Commenting on the shape of sample data and compare it with full data\n",
        "#Around 87% of the pm10 distribution is below 30, and the percentage decrease as we go to the right and fall to 2% only for the right half of the distribution.\n",
        "#The shape of the sampled data histogram is skewed to the right, the long right tail indicates the presence of rare high values, which might be considered as outliers. The distribution is clearly not bell shaped.\n",
        "#The shape of the full data set shows almost the same distribution with slight difference, which indicates that the sample data is representative of the full data, and can be reliable to perform our calculation on it."
      ],
      "metadata": {
        "id": "yDi5lRKOvUDY"
      },
      "execution_count": 25,
      "outputs": []
    },
    {
      "cell_type": "markdown",
      "source": [
        "## <font color = blue size  = 5> **Task 2: Estimation and Confidence Intervals (1 Mark)**\n"
      ],
      "metadata": {
        "id": "CuJ4xIHXeZXZ"
      }
    },
    {
      "cell_type": "markdown",
      "source": [
        "**Task Description:**\n",
        "- Use the bootstrap method to estimate the median pm10 value for the entire dataset.\n",
        "- Generate 5,000 bootstrap samples and compute the median for each sample.\n",
        "- Construct a 95% confidence interval for the population median using the 2.5th and 97.5th percentiles of the bootstrapped medians.\n",
        "- Visualize the results by drawing an `empirical histogram` of the bootstrapped medians and overlaying the confidence interval on the horizontal axis.\n",
        "- Report the confidence interval and interpret what it means in the context of air quality."
      ],
      "metadata": {
        "id": "w3fxSNsIq7RT"
      }
    },
    {
      "cell_type": "code",
      "source": [
        "#Task 2.1: Defining bootstrap function to calculate one median pm10 value of a sample of the sampled data and use it to estimate the median for entire set\n",
        "def bootstrap_median():\n",
        "  resample = sample_data.sample()\n",
        "  resample_median = percentile(50, resample.column('pm10'))\n",
        "  return resample_median"
      ],
      "metadata": {
        "id": "IHfOaGYX0nkF"
      },
      "execution_count": 26,
      "outputs": []
    },
    {
      "cell_type": "code",
      "source": [
        "#Task 2.2: Generating 5000 bootstraps samples medians using the function and storing them in array\n",
        "resample_num = 5000\n",
        "resample_medians = make_array()\n",
        "\n",
        "for i in np.arange(resample_num):\n",
        "  resample_medians = np.append(resample_medians, bootstrap_median())\n",
        "\n",
        "resample_medians"
      ],
      "metadata": {
        "colab": {
          "base_uri": "https://localhost:8080/"
        },
        "id": "_yPZdMeM1bCv",
        "outputId": "9938c191-7c36-4086-ddca-d2da2d98d546"
      },
      "execution_count": 27,
      "outputs": [
        {
          "output_type": "execute_result",
          "data": {
            "text/plain": [
              "array([ 3.11,  3.01,  3.04, ...,  2.95,  2.96,  3.03])"
            ]
          },
          "metadata": {},
          "execution_count": 27
        }
      ]
    },
    {
      "cell_type": "code",
      "source": [
        "#Task 2.3: Constructing the 95% confidence interval of the resampled medians data\n",
        "left = percentile(2.5, resample_medians)\n",
        "right = percentile(97.5, resample_medians)\n",
        "\n",
        "make_array(left, right)"
      ],
      "metadata": {
        "colab": {
          "base_uri": "https://localhost:8080/"
        },
        "id": "nZs9FyuL2tOs",
        "outputId": "ebf263ac-6927-4b00-fb1c-7a076aeea13a"
      },
      "execution_count": 28,
      "outputs": [
        {
          "output_type": "execute_result",
          "data": {
            "text/plain": [
              "array([ 2.95,  3.2 ])"
            ]
          },
          "metadata": {},
          "execution_count": 28
        }
      ]
    },
    {
      "cell_type": "code",
      "source": [
        "#Task 2.4: Ploting the empirical histogram of the resampled medians with overlaying the confidence interval\n",
        "resample_medians_table = Table().with_columns(\"Resample_Median\", resample_medians)\n",
        "resample_medians_table.hist()\n",
        "plt.plot([left, right], [0, 0], color='yellow', lw=8);\n",
        "plt.title(\"Resampled PM10 Medians Empirical Distribution\")"
      ],
      "metadata": {
        "colab": {
          "base_uri": "https://localhost:8080/",
          "height": 458
        },
        "id": "LfkkaM703Zjw",
        "outputId": "c924f852-77e7-403d-9043-803b24443e32"
      },
      "execution_count": 29,
      "outputs": [
        {
          "output_type": "execute_result",
          "data": {
            "text/plain": [
              "Text(0.5, 1.0, 'Resampled PM10 Medians Empirical Distribution')"
            ]
          },
          "metadata": {},
          "execution_count": 29
        },
        {
          "output_type": "display_data",
          "data": {
            "text/plain": [
              "<Figure size 600x400 with 1 Axes>"
            ],
            "image/png": "[encoded data removed]"
          },
          "metadata": {}
        }
      ]
    },
    {
      "cell_type": "code",
      "source": [
        "#Task 2.5: Reporting the confidence interval and it's context in air quality\n",
        "#Based on the 5000 resampled bootstrap medians, we are 95% confiedent that the median of pm10 lies between 2.99 and 3.23\n",
        "#Considering the following categorization of pm10 values: Good: [0, 20], Moderate: (20, 50], Unhealthy: Above 50.\n",
        "#The median range of (2.99, 3.23) of pm10 vlaue, indicates a clean and good air quality of the selected neighbourhood in NYC."
      ],
      "metadata": {
        "id": "ER8PkAy3DEGE"
      },
      "execution_count": 30,
      "outputs": []
    },
    {
      "cell_type": "markdown",
      "source": [
        "## <font color = blue size  = 5> **Task 3: Hypothesis Testing Using Confidence Intervals (1.5 Mark)**"
      ],
      "metadata": {
        "id": "9cs7K_Q3icPX"
      }
    },
    {
      "cell_type": "markdown",
      "source": [
        "**Task Description:**\n",
        "- Test the hypothesis about the average <font color = red size =5> `pm10` </font> level in the population using confidence intervals.\n",
        "  - Null Hypothesis (H0): The average pm10 level in the population is `20 μg/m³` .\n",
        "  - Alternative Hypothesis (Ha): The average pm10 level in the population is not `20 μg/m³` .\n",
        "- Use the confidence interval method to test this hypothesis:\n",
        "Construct a 95% confidence interval for the average `pm10` level in the population.\n",
        "  - If the confidence interval contains `20 μg/m³` , conclude that there is no significant difference from `20 μg/m³` (fail to reject H0).\n",
        "  - Otherwise, conclude that there is a significant difference (reject H0).\n",
        "- Interpret your results and explain whether the data supports the null hypothesis or the alternative hypothesis."
      ],
      "metadata": {
        "id": "Ukmexr5YivJC"
      }
    },
    {
      "cell_type": "code",
      "source": [
        "#Task 3.1.1: Checking the pm10 mean for the population and sampled data\n",
        "print(\"Population data mean: \", np.mean(joined_table.column(\"pm10\")), \", Sample Data mean: \", np.mean(sample_data.column(\"pm10\")))"
      ],
      "metadata": {
        "id": "_eorhhdT4_D1",
        "colab": {
          "base_uri": "https://localhost:8080/"
        },
        "outputId": "1595b3e1-fb4f-4924-bef4-a4ed6003b08b"
      },
      "execution_count": 31,
      "outputs": [
        {
          "output_type": "stream",
          "name": "stdout",
          "text": [
            "Population data mean:  16.1723197791 , Sample Data mean:  15.8725170416\n"
          ]
        }
      ]
    },
    {
      "cell_type": "code",
      "source": [
        "#Task 3.1.2: Defining bootstrap function to calculate one mean pm10 value of a sample of the sampled data and use it to estimate the mean for entire set\n",
        "def bootstrap_mean():\n",
        "  resample = sample_data.sample()\n",
        "  resample_mean = np.mean(resample.column('pm10'))\n",
        "  return resample_mean"
      ],
      "metadata": {
        "id": "BjJErDFWPXHl"
      },
      "execution_count": 32,
      "outputs": []
    },
    {
      "cell_type": "code",
      "source": [
        "#Task 3.1.3: Generating 5000 bootstraps samples means using the function and storing them in array\n",
        "resample_means = make_array()\n",
        "\n",
        "for i in np.arange(resample_num):\n",
        "  resample_means = np.append(resample_means, bootstrap_mean())\n",
        "\n",
        "resample_means"
      ],
      "metadata": {
        "colab": {
          "base_uri": "https://localhost:8080/"
        },
        "id": "_BgzXrlCPpou",
        "outputId": "fa576b5f-693e-46f9-b64b-63f681bebe13"
      },
      "execution_count": 33,
      "outputs": [
        {
          "output_type": "execute_result",
          "data": {
            "text/plain": [
              "array([ 15.65569274,  15.52200835,  15.48998381, ...,  16.02960804,\n",
              "        15.33212082,  15.42200324])"
            ]
          },
          "metadata": {},
          "execution_count": 33
        }
      ]
    },
    {
      "cell_type": "code",
      "source": [
        "#Task 3.2.1: Constructing the 95% confidence interval of the resampled means data\n",
        "left_2 = percentile(2.5, resample_means)\n",
        "right_2 = percentile(97.5, resample_means)\n",
        "\n",
        "print(\"Bootstrap interval: \", make_array(left_2, right_2))"
      ],
      "metadata": {
        "colab": {
          "base_uri": "https://localhost:8080/"
        },
        "id": "xyaF2p_oP5rW",
        "outputId": "a07ffabf-daec-4ca8-c76a-0cef1e07cf7d"
      },
      "execution_count": 45,
      "outputs": [
        {
          "output_type": "stream",
          "name": "stdout",
          "text": [
            "Bootstrap interval:  [ 15.19463957  16.52350631]\n"
          ]
        }
      ]
    },
    {
      "cell_type": "code",
      "source": [
        "#Task 3.2.2: Ploting the empirical histogram of the resampled means with overlaying the confidence interval and the null hypothesis\n",
        "resample_means_table = Table().with_columns(\"Resample_Mean\", resample_means)\n",
        "resample_means_table.hist()\n",
        "plt.plot([left_2, right_2], [0, 0], color='yellow', lw=8)\n",
        "plt.scatter(20, -0.01, color='red', s=100)\n",
        "plt.title(\"Resampled PM10 Means Empirical Distribution\")"
      ],
      "metadata": {
        "colab": {
          "base_uri": "https://localhost:8080/",
          "height": 458
        },
        "id": "v3_ZUqu-RAoP",
        "outputId": "eb31f8bd-e281-4ee9-e30c-d43d6ca414a4"
      },
      "execution_count": 35,
      "outputs": [
        {
          "output_type": "execute_result",
          "data": {
            "text/plain": [
              "Text(0.5, 1.0, 'Resampled PM10 Means Empirical Distribution')"
            ]
          },
          "metadata": {},
          "execution_count": 35
        },
        {
          "output_type": "display_data",
          "data": {
            "text/plain": [
              "<Figure size 600x400 with 1 Axes>"
            ],
            "image/png": "[encoded data removed]"
          },
          "metadata": {}
        }
      ]
    },
    {
      "cell_type": "code",
      "source": [
        "#Task 3.3: Explaining the hypothesis result\n",
        "#Based on the 5000 resampled bootstrap means, we are 95% confiedent that the mean of pm10 lies between 15.19 and 16.52\n",
        "#The mean of the population (16.17) and first sample (15.87) data also lies with the confidence interval\n",
        "#Since the model of mean 20 value is not inside the confidence interval and extremly far away from the distribution.\n",
        "#We reject the null hypothesis, and support the alternative hypothesis where the mean is not 20."
      ],
      "metadata": {
        "id": "bDtu4nssTeQ8"
      },
      "execution_count": 46,
      "outputs": []
    },
    {
      "cell_type": "markdown",
      "source": [
        "## <font color = blue size  = 5> **Task 4: Percentiles and Extreme Values (1.5 Mark)**\n"
      ],
      "metadata": {
        "id": "A7cJxidKmB31"
      }
    },
    {
      "cell_type": "markdown",
      "source": [
        "- Use the bootstrap method to simulate the mean `pm10` levels for each neighborhood. Generate 5,000 bootstrap samples for the top 3 neighborhoods with the highest mean pm10 levels.\n",
        "- Create an empirical histogram for each of these neighborhoods, showing the distribution of the bootstrapped means.\n",
        "- Overlay horizontal yellow lines to indicate the 95% confidence interval for the mean pm10 level in each neighborhood.\n"
      ],
      "metadata": {
        "id": "x1hoJVDEoIOI"
      }
    },
    {
      "cell_type": "code",
      "source": [
        "#Task 4.1.1: Defining the top 3 neighborhood based on the highest pm10 levels of the population data as the sample data will change for each run\n",
        "Top_3_neighborhood = joined_table.group(\"neighborhood\", collect = np.mean).relabeled(1, \"pm10\").sort(\"pm10\", descending = True).take(np.arange(3)).column(0)\n",
        "Top_3_neighborhood"
      ],
      "metadata": {
        "colab": {
          "base_uri": "https://localhost:8080/"
        },
        "id": "k1ezmbJr6I2Q",
        "outputId": "78d1d096-96f4-4eb8-a5ed-8b6f44abe73b"
      },
      "execution_count": 55,
      "outputs": [
        {
          "output_type": "execute_result",
          "data": {
            "text/plain": [
              "array(['Crotona Park', 'Pelham Bay', 'Tremont'],\n",
              "      dtype='<U18')"
            ]
          },
          "metadata": {},
          "execution_count": 55
        }
      ]
    },
    {
      "cell_type": "code",
      "source": [
        "#Task 4.1.2: Defining bootstrap function to calculate one mean pm10 value of a sample of the sampled data for the selected neighborhood and use it to estimate the mean for entire neighborhood set\n",
        "def bootstrap_mean(neighbor):\n",
        "  resample = sample_data.where(\"neighborhood\", neighbor).sample()\n",
        "  resample_neighbor_mean = np.mean(resample.column(\"pm10\"))\n",
        "  return resample_neighbor_mean"
      ],
      "metadata": {
        "id": "Chq_fJKL5glY"
      },
      "execution_count": 49,
      "outputs": []
    },
    {
      "cell_type": "code",
      "source": [
        "#Task 4.1.3: Generating one bootstrap mean for each neighborhood\n",
        "neighborhood_mean = make_array()\n",
        "neighborhood = joined_table.group(\"neighborhood\", collect = np.mean)\n",
        "for neighbor in neighborhood[\"neighborhood\"]:\n",
        "  neighborhood_mean = np.append(neighborhood_mean, bootstrap_mean(neighbor))\n",
        "\n",
        "neighborhood.with_columns(\"resampled mean\", neighborhood_mean)"
      ],
      "metadata": {
        "colab": {
          "base_uri": "https://localhost:8080/",
          "height": 392
        },
        "id": "XPDZeKDibXxC",
        "outputId": "e0fb2f7f-86ca-43bc-d493-feb17a14ff79"
      },
      "execution_count": 56,
      "outputs": [
        {
          "output_type": "execute_result",
          "data": {
            "text/plain": [
              "neighborhood      | pm10 mean | resampled mean\n",
              "Allerton          | 5.58583   | 0.11\n",
              "Astoria           | 4.38463   | 1.19237\n",
              "Belmont           | 19.6865   | 44.9995\n",
              "Bronx Park        | 14.0127   | 12.8091\n",
              "Bronxdale         | 7.83546   | 6.40892\n",
              "Civic Center      | 11.5916   | 10.9145\n",
              "Claremont Village | 9.76761   | 24.0229\n",
              "Concourse         | 17.1959   | 11.8956\n",
              "Concourse Village | 22.8654   | 1.9675\n",
              "Country Club      | 13.0752   | 4.08\n",
              "... (50 rows omitted)"
            ],
            "text/html": [
              "<table border=\"1\" class=\"dataframe\">\n",
              "    <thead>\n",
              "        <tr>\n",
              "            <th>neighborhood</th> <th>pm10 mean</th> <th>resampled mean</th>\n",
              "        </tr>\n",
              "    </thead>\n",
              "    <tbody>\n",
              "        <tr>\n",
              "            <td>Allerton         </td> <td>5.58583  </td> <td>0.11          </td>\n",
              "        </tr>\n",
              "        <tr>\n",
              "            <td>Astoria          </td> <td>4.38463  </td> <td>1.19237       </td>\n",
              "        </tr>\n",
              "        <tr>\n",
              "            <td>Belmont          </td> <td>19.6865  </td> <td>44.9995       </td>\n",
              "        </tr>\n",
              "        <tr>\n",
              "            <td>Bronx Park       </td> <td>14.0127  </td> <td>12.8091       </td>\n",
              "        </tr>\n",
              "        <tr>\n",
              "            <td>Bronxdale        </td> <td>7.83546  </td> <td>6.40892       </td>\n",
              "        </tr>\n",
              "        <tr>\n",
              "            <td>Civic Center     </td> <td>11.5916  </td> <td>10.9145       </td>\n",
              "        </tr>\n",
              "        <tr>\n",
              "            <td>Claremont Village</td> <td>9.76761  </td> <td>24.0229       </td>\n",
              "        </tr>\n",
              "        <tr>\n",
              "            <td>Concourse        </td> <td>17.1959  </td> <td>11.8956       </td>\n",
              "        </tr>\n",
              "        <tr>\n",
              "            <td>Concourse Village</td> <td>22.8654  </td> <td>1.9675        </td>\n",
              "        </tr>\n",
              "        <tr>\n",
              "            <td>Country Club     </td> <td>13.0752  </td> <td>4.08          </td>\n",
              "        </tr>\n",
              "    </tbody>\n",
              "</table>\n",
              "<p>... (50 rows omitted)</p>"
            ]
          },
          "metadata": {},
          "execution_count": 56
        }
      ]
    },
    {
      "cell_type": "code",
      "source": [
        "#Task 4.1.4: Generating 5000 bootstraps samples means for each of the 3 top neighborhood using the function and storing them in 3 arrays\n",
        "Top1 = make_array()\n",
        "Top2 = make_array()\n",
        "Top3 = make_array()\n",
        "\n",
        "for i in np.arange(resample_num):\n",
        "  Top1 = np.append(Top1, bootstrap_mean(Top_3_neighborhood.take(0)))\n",
        "  Top2 = np.append(Top2, bootstrap_mean(Top_3_neighborhood.take(1)))\n",
        "  Top3 = np.append(Top3, bootstrap_mean(Top_3_neighborhood.take(2)))"
      ],
      "metadata": {
        "id": "60f7HkGY74va"
      },
      "execution_count": 60,
      "outputs": []
    },
    {
      "cell_type": "code",
      "source": [
        "#Task 4.3.1: Constructing the 95% confidence interval of the resampled means data for each of the 3 top neighborhoods\n",
        "left_top1 = percentile(2.5, Top1)\n",
        "right_top1 = percentile(97.5, Top1)\n",
        "left_top2 = percentile(2.5, Top2)\n",
        "right_top2 = percentile(97.5, Top2)\n",
        "left_top3 = percentile(2.5, Top3)\n",
        "right_top3 = percentile(97.5, Top3)\n",
        "\n",
        "print(\"Top1 (\", Top_3_neighborhood.take(0), \"): \", make_array(left_top1, right_top1))\n",
        "print(\"Top2 (\", Top_3_neighborhood.take(1), \"): \", make_array(left_top2, right_top2))\n",
        "print(\"Top3 (\", Top_3_neighborhood.take(2), \"): \", make_array(left_top3, right_top3))"
      ],
      "metadata": {
        "colab": {
          "base_uri": "https://localhost:8080/"
        },
        "id": "TDQ3ZcH2aTpO",
        "outputId": "d35640d4-515b-419b-a187-4e3497d4b7ee"
      },
      "execution_count": 61,
      "outputs": [
        {
          "output_type": "stream",
          "name": "stdout",
          "text": [
            "Top1 ( Crotona Park ):  [ 18.39333333  69.61444444]\n",
            "Top2 ( Pelham Bay ):  [ 11.635  56.165]\n",
            "Top3 ( Tremont ):  [ 10.7373913   31.81652174]\n"
          ]
        }
      ]
    },
    {
      "cell_type": "code",
      "source": [
        "#Task 4.2 & 4.3.2: Ploting the empirical histogram of the resampled means with overlaying the confidence interval and the null hypothesis\n",
        "#Top1\n",
        "Top1_table = Table().with_columns(\"Resample_Mean\", Top1)\n",
        "Top1_table.hist()\n",
        "plt.plot([left_top1, right_top1], [0, 0], color='yellow', lw=8)\n",
        "Top1_title = \"Top 1 '\" + Top_3_neighborhood.take(0) + \"' PM10 Means Empirical Distribution\"\n",
        "plt.title(Top1_title)\n",
        "\n",
        "#Top2\n",
        "Top2_table = Table().with_columns(\"Resample_Mean\", Top2)\n",
        "Top2_table.hist()\n",
        "plt.plot([left_top2, right_top2], [0, 0], color='yellow', lw=8)\n",
        "Top2_title = \"Top 2 '\" + Top_3_neighborhood.take(1) + \"' PM10 Means Empirical Distribution\"\n",
        "plt.title(Top2_title)\n",
        "\n",
        "#Top3\n",
        "Top3_table = Table().with_columns(\"Resample_Mean\", Top3)\n",
        "Top3_table.hist()\n",
        "plt.plot([left_top3, right_top3], [0, 0], color='yellow', lw=8)\n",
        "Top3_title = \"Top 3 '\" + Top_3_neighborhood.take(2) + \"' PM10 Means Empirical Distribution\"\n",
        "plt.title(Top3_title)"
      ],
      "metadata": {
        "colab": {
          "base_uri": "https://localhost:8080/",
          "height": 1000
        },
        "id": "NH5aBVOl_T_7",
        "outputId": "68ae482d-f0a3-4f2e-dfd2-58f95c6098b3"
      },
      "execution_count": 62,
      "outputs": [
        {
          "output_type": "execute_result",
          "data": {
            "text/plain": [
              "Text(0.5, 1.0, \"Top 3 'Tremont' PM10 Means Empirical Distribution\")"
            ]
          },
          "metadata": {},
          "execution_count": 62
        },
        {
          "output_type": "display_data",
          "data": {
            "text/plain": [
              "<Figure size 600x400 with 1 Axes>"
            ],
            "image/png": "[encoded data removed]"
          },
          "metadata": {}
        },
        {
          "output_type": "display_data",
          "data": {
            "text/plain": [
              "<Figure size 600x400 with 1 Axes>"
            ],
            "image/png": "[encoded data removed]"
          },
          "metadata": {}
        },
        {
          "output_type": "display_data",
          "data": {
            "text/plain": [
              "<Figure size 600x400 with 1 Axes>"
            ],
            "image/png": "[encoded data removed]"
          },
          "metadata": {}
        }
      ]
    },
    {
      "cell_type": "code",
      "source": [
        "#Comments on the resampled means for the 3 tops neighborhoods with high pm10 value of the sample data\n",
        "#The distribution for the top1 \"Crotona Park\" neighborhood shows a normal bell shaped (almost symmetric) distribution, which indicate a predictable pm10 mean value.\n",
        "#The distribution for the top2 \"Pelham Bay\" neighborhood shows a almost bell shaped distribution with some gaps in the left, which might indicate unpredicable pm10 mean value.\n",
        "#The distribution for the top3 \"Tremont\" neighborhood shows a normal bell shaped (almost symmetric) distribution, which indicate a predictable pm10 mean value\n",
        "#All of the 3 neighborhood has the 20 pm10 value in their intervals, which support the null hypothesis of Task 3."
      ],
      "metadata": {
        "id": "Bn-a9OU-iuNf"
      },
      "execution_count": 63,
      "outputs": []
    },
    {
      "cell_type": "markdown",
      "source": [
        "# Submission Guidelines\n",
        "- Add a \"Open in Colab\" button at the top of your notebook using the following Markdown code:\n",
        "[![Open In Colab](https://colab.research.google.com/assets/colab-badge.svg)](https://colab.research.google.com/github/your-repo-path/notebook.ipynb)\n",
        "\n",
        "- Upload your completed Jupyter Notebook to a GitHub repository.\n",
        "- Submit the link to your GitHub repository in the Blackboard LMS along with the Jupyter solution file.\n",
        "- <font color = red size = 6> ATTENTION!!! </font> Students are encouraged to work on groups, however the submission should be individual and each student should have her/his own unique final assignment solution, which is to be submitted in BB"
      ],
      "metadata": {
        "id": "kM16Gy602H1X"
      }
    },
    {
      "cell_type": "markdown",
      "source": [
        "# Grading Rubric\n",
        "based on the following criteria:\n",
        "\n",
        "- Correctness : The solution produces the expected output using the Table abstraction .\n",
        "- Clarity : Code is well-organized, readable, and includes comments explaining key steps.\n",
        "- Creativity : Visualizations and analyses are presented in an engaging and insightful manner."
      ],
      "metadata": {
        "id": "dY2-OB4A2huX"
      }
    },
    {
      "cell_type": "markdown",
      "source": [
        "# Hints for Success\n",
        "- Use the Table abstraction methods like .select(), .where(), .group(), .apply(), and .sample() for data manipulation.\n",
        "- Refer to the slides and examples from book Chapters 10, 11, and 13, for guidance on Sampling and Empirical Distributions, Testing Hypotheses,  and Estimation.\n",
        "- Test your code frequently to ensure it runs without errors."
      ],
      "metadata": {
        "id": "0GlfWQnV2r9v"
      }
    }
  ]
}