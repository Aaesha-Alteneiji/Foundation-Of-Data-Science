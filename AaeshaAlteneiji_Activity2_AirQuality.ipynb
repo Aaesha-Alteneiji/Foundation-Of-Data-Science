{
  "nbformat": 4,
  "nbformat_minor": 0,
  "metadata": {
    "colab": {
      "provenance": []
    },
    "kernelspec": {
      "name": "python3",
      "display_name": "Python 3"
    },
    "language_info": {
      "name": "python"
    }
  },
  "cells": [
    {
      "cell_type": "markdown",
      "source": [
        "[![Open In Colab](https://colab.research.google.com/assets/colab-badge.svg)](https://colab.research.google.com/github/Aaesha-Alteneiji/Foundation-Of-Data-Science/blob/main/AaeshaAlteneiji_Activity2_AirQuality.ipynb)"
      ],
      "metadata": {
        "id": "QDWTv-M1nShh"
      }
    },
    {
      "cell_type": "markdown",
      "source": [
        "# Activity #2 (5 marks)"
      ],
      "metadata": {
        "id": "9Hr2lLFuZjja"
      }
    },
    {
      "cell_type": "markdown",
      "source": [
        "\n",
        "Class Activity: Analyzing NYC Hyperlocal Air Quality Data with Spatial Join"
      ],
      "metadata": {
        "id": "bEtXiTwI-yIv"
      }
    },
    {
      "cell_type": "markdown",
      "source": [
        "# Objective:\n",
        "- This activity reinforces concepts from Chapters 6 (Tables), 7 (Visualization), 8 (Functions and Tables), and 9 (Randomness). Students will analyze NYC hyperlocal air quality data using Python in a Jupyter Notebook (Google Colab). The focus will be on leveraging the Table abstraction wherever possible. Additionally, students will use spatial join techniques to combine air quality sensor readings with geographic data."
      ],
      "metadata": {
        "id": "6i3-zemYyZAu"
      }
    },
    {
      "cell_type": "markdown",
      "source": [
        "given a csv file containing longitude, latitude , and pm10  columns [Air Quality data](https://raw.githubusercontent.com/IsamAljawarneh/datasets/master/data/NYC_PM.csv) representing readings of low cost air quality sensor mounted on moving vehicles, in addition to a geojson file containing polygons representing administrative divisions of NYC city known as neighbourhoods [nyc_polygon.geojson](https://raw.githubusercontent.com/IsamAljawarneh/datasets/master/data/nyc_polygon.geojson).\n",
        "# Dataset Description\n",
        "- Air Quality Sensor Readings (NYC_PM.csv) :\n",
        "Attributes: SensorID, time, temperature, humidity, pm25,\n",
        "Focus attributes: temperature, humidity, pm1,pm25,pm10,\n",
        "- City Polygons (nyc_polygon.geojson) :\n",
        "Contains polygons representing neighborhoods or boroughs in NYC.\n",
        "Used for spatially joining geographic information with air quality data."
      ],
      "metadata": {
        "id": "MnPCkUN9-lzy"
      }
    },
    {
      "cell_type": "markdown",
      "source": [
        "## **part - A** preprocessing [0 marks]\n",
        "\n",
        "do all tasks and the subtasks!"
      ],
      "metadata": {
        "id": "_kuVRsJkAh9n"
      }
    },
    {
      "cell_type": "markdown",
      "source": [
        "# Onboarding Code Provided\n",
        "- The following code will be provided in an onboarding Jupyter Notebook to help students get started:\n",
        "\n"
      ],
      "metadata": {
        "id": "cXRH1R-SzPAs"
      }
    },
    {
      "cell_type": "code",
      "source": [
        "'''from google.colab import drive\n",
        "drive.mount('/content/drive')'''"
      ],
      "metadata": {
        "colab": {
          "base_uri": "https://localhost:8080/",
          "height": 35
        },
        "id": "R4ArO-FctZIu",
        "outputId": "1669bcf1-8b06-4930-ea46-fa1f7f797ed9"
      },
      "execution_count": 1,
      "outputs": [
        {
          "output_type": "execute_result",
          "data": {
            "text/plain": [
              "\"from google.colab import drive\\ndrive.mount('/content/drive')\""
            ],
            "application/vnd.google.colaboratory.intrinsic+json": {
              "type": "string"
            }
          },
          "metadata": {},
          "execution_count": 1
        }
      ]
    },
    {
      "cell_type": "markdown",
      "source": [
        "import necessary libraries"
      ],
      "metadata": {
        "id": "9o9eM8IICM-1"
      }
    },
    {
      "cell_type": "code",
      "source": [
        "import pandas as pd\n",
        "import geopandas as gpd\n",
        "import numpy as np\n",
        "import matplotlib.pyplot as plt"
      ],
      "metadata": {
        "id": "DIyY1q36ta3G"
      },
      "execution_count": 2,
      "outputs": []
    },
    {
      "cell_type": "code",
      "source": [
        "from datascience import *\n",
        "%matplotlib inline\n",
        "#path_data = '../../../assets/data/'\n",
        "import matplotlib.pyplot as plt\n",
        "plt.style.use('fivethirtyeight')\n",
        "import numpy as np"
      ],
      "metadata": {
        "id": "8ipkPRynmWGz"
      },
      "execution_count": 3,
      "outputs": []
    },
    {
      "cell_type": "markdown",
      "source": [
        "###1. Read the CSV file containing PM sensor readings\n",
        " & Read the GeoJSON file containing neighborhood boundaries into a GeoDataFrame"
      ],
      "metadata": {
        "id": "11VvbD-a6ur8"
      }
    },
    {
      "cell_type": "code",
      "source": [
        "\n",
        "# Step 1: Read the CSV file containing PM10 sensor readings\n",
        "pm10_data = pd.read_csv('https://raw.githubusercontent.com/IsamAljawarneh/datasets/master/data/NYC_PM.csv',index_col=False)\n",
        "\n",
        "# Step 2: Read the GeoJSON file containing neighborhood boundaries into a GeoDataFrame\n",
        "nyc_neighborhoods = gpd.read_file('https://raw.githubusercontent.com/IsamAljawarneh/datasets/master/data/nyc_polygon.geojson')\n"
      ],
      "metadata": {
        "id": "CYk7KfJqueQW"
      },
      "execution_count": 4,
      "outputs": []
    },
    {
      "cell_type": "code",
      "source": [
        "#pm10_data.dtypes"
      ],
      "metadata": {
        "id": "VAMLIDAKu289"
      },
      "execution_count": 5,
      "outputs": []
    },
    {
      "cell_type": "markdown",
      "source": [
        "### 2. convert the csv into a geodataframe and join it (sjoin) with the geojson, assign a coordinate reference system (CRS) the csv geodataframe which is identical to that of the geojson file, then perform the join, the result is a geodataframe, convert it to dataframe, and select pm10, neighborhood columns in a new dataframe"
      ],
      "metadata": {
        "id": "tKKuGLIl682s"
      }
    },
    {
      "cell_type": "code",
      "source": [
        "pm10_gdf = gpd.GeoDataFrame(pm10_data, geometry=gpd.points_from_xy(pm10_data.longitude, pm10_data.latitude))\n",
        "merged_data = gpd.sjoin(pm10_gdf, nyc_neighborhoods, how='inner', predicate='within')"
      ],
      "metadata": {
        "id": "LDdZ3JM9vABk",
        "colab": {
          "base_uri": "https://localhost:8080/"
        },
        "outputId": "4231b4a1-7379-44f1-e900-50093b2256bb"
      },
      "execution_count": 6,
      "outputs": [
        {
          "output_type": "stream",
          "name": "stderr",
          "text": [
            "<ipython-input-6-d43866676e2a>:2: UserWarning: CRS mismatch between the CRS of left geometries and the CRS of right geometries.\n",
            "Use `to_crs()` to reproject one of the input geometries to match the CRS of the other.\n",
            "\n",
            "Left CRS: None\n",
            "Right CRS: EPSG:4326\n",
            "\n",
            "  merged_data = gpd.sjoin(pm10_gdf, nyc_neighborhoods, how='inner', predicate='within')\n"
          ]
        }
      ]
    },
    {
      "cell_type": "code",
      "source": [
        "#merged_data.dtypes"
      ],
      "metadata": {
        "id": "4YTL56jpvPDW"
      },
      "execution_count": 7,
      "outputs": []
    },
    {
      "cell_type": "code",
      "source": [
        "pollution_data = merged_data[['pm10','neighborhood']]"
      ],
      "metadata": {
        "id": "1XPU0kp4hwnf"
      },
      "execution_count": 8,
      "outputs": []
    },
    {
      "cell_type": "code",
      "source": [
        "pollution_data.shape[0]"
      ],
      "metadata": {
        "colab": {
          "base_uri": "https://localhost:8080/"
        },
        "id": "T3gx_my1iAoi",
        "outputId": "ecae96dd-68e8-4d24-9852-8690f4b7a8ba"
      },
      "execution_count": 9,
      "outputs": [
        {
          "output_type": "execute_result",
          "data": {
            "text/plain": [
              "118495"
            ]
          },
          "metadata": {},
          "execution_count": 9
        }
      ]
    },
    {
      "cell_type": "code",
      "source": [
        "#merged_data.rename(columns={'neighborhood': 'neighborhood1'}, inplace=True)"
      ],
      "metadata": {
        "id": "P4M9bOYqy09e"
      },
      "execution_count": 10,
      "outputs": []
    },
    {
      "cell_type": "code",
      "source": [
        "type(pollution_data)"
      ],
      "metadata": {
        "colab": {
          "base_uri": "https://localhost:8080/",
          "height": 204
        },
        "id": "a8C-waCXk8JE",
        "outputId": "10e539c1-3e33-4c16-ad7c-602e44e94437"
      },
      "execution_count": 11,
      "outputs": [
        {
          "output_type": "execute_result",
          "data": {
            "text/plain": [
              "pandas.core.frame.DataFrame"
            ],
            "text/html": [
              "<div style=\"max-width:800px; border: 1px solid var(--colab-border-color);\"><style>\n",
              "      pre.function-repr-contents {\n",
              "        overflow-x: auto;\n",
              "        padding: 8px 12px;\n",
              "        max-height: 500px;\n",
              "      }\n",
              "\n",
              "      pre.function-repr-contents.function-repr-contents-collapsed {\n",
              "        cursor: pointer;\n",
              "        max-height: 100px;\n",
              "      }\n",
              "    </style>\n",
              "    <pre style=\"white-space: initial; background:\n",
              "         var(--colab-secondary-surface-color); padding: 8px 12px;\n",
              "         border-bottom: 1px solid var(--colab-border-color);\"><b>pandas.core.frame.DataFrame</b><br/>def __init__(data=None, index: Axes | None=None, columns: Axes | None=None, dtype: Dtype | None=None, copy: bool | None=None) -&gt; None</pre><pre class=\"function-repr-contents function-repr-contents-collapsed\" style=\"\"><a class=\"filepath\" style=\"display:none\" href=\"#\">/usr/local/lib/python3.11/dist-packages/pandas/core/frame.py</a>Two-dimensional, size-mutable, potentially heterogeneous tabular data.\n",
              "\n",
              "Data structure also contains labeled axes (rows and columns).\n",
              "Arithmetic operations align on both row and column labels. Can be\n",
              "thought of as a dict-like container for Series objects. The primary\n",
              "pandas data structure.\n",
              "\n",
              "Parameters\n",
              "----------\n",
              "data : ndarray (structured or homogeneous), Iterable, dict, or DataFrame\n",
              "    Dict can contain Series, arrays, constants, dataclass or list-like objects. If\n",
              "    data is a dict, column order follows insertion-order. If a dict contains Series\n",
              "    which have an index defined, it is aligned by its index. This alignment also\n",
              "    occurs if data is a Series or a DataFrame itself. Alignment is done on\n",
              "    Series/DataFrame inputs.\n",
              "\n",
              "    If data is a list of dicts, column order follows insertion-order.\n",
              "\n",
              "index : Index or array-like\n",
              "    Index to use for resulting frame. Will default to RangeIndex if\n",
              "    no indexing information part of input data and no index provided.\n",
              "columns : Index or array-like\n",
              "    Column labels to use for resulting frame when data does not have them,\n",
              "    defaulting to RangeIndex(0, 1, 2, ..., n). If data contains column labels,\n",
              "    will perform column selection instead.\n",
              "dtype : dtype, default None\n",
              "    Data type to force. Only a single dtype is allowed. If None, infer.\n",
              "copy : bool or None, default None\n",
              "    Copy data from inputs.\n",
              "    For dict data, the default of None behaves like ``copy=True``.  For DataFrame\n",
              "    or 2d ndarray input, the default of None behaves like ``copy=False``.\n",
              "    If data is a dict containing one or more Series (possibly of different dtypes),\n",
              "    ``copy=False`` will ensure that these inputs are not copied.\n",
              "\n",
              "    .. versionchanged:: 1.3.0\n",
              "\n",
              "See Also\n",
              "--------\n",
              "DataFrame.from_records : Constructor from tuples, also record arrays.\n",
              "DataFrame.from_dict : From dicts of Series, arrays, or dicts.\n",
              "read_csv : Read a comma-separated values (csv) file into DataFrame.\n",
              "read_table : Read general delimited file into DataFrame.\n",
              "read_clipboard : Read text from clipboard into DataFrame.\n",
              "\n",
              "Notes\n",
              "-----\n",
              "Please reference the :ref:`User Guide &lt;basics.dataframe&gt;` for more information.\n",
              "\n",
              "Examples\n",
              "--------\n",
              "Constructing DataFrame from a dictionary.\n",
              "\n",
              "&gt;&gt;&gt; d = {&#x27;col1&#x27;: [1, 2], &#x27;col2&#x27;: [3, 4]}\n",
              "&gt;&gt;&gt; df = pd.DataFrame(data=d)\n",
              "&gt;&gt;&gt; df\n",
              "   col1  col2\n",
              "0     1     3\n",
              "1     2     4\n",
              "\n",
              "Notice that the inferred dtype is int64.\n",
              "\n",
              "&gt;&gt;&gt; df.dtypes\n",
              "col1    int64\n",
              "col2    int64\n",
              "dtype: object\n",
              "\n",
              "To enforce a single dtype:\n",
              "\n",
              "&gt;&gt;&gt; df = pd.DataFrame(data=d, dtype=np.int8)\n",
              "&gt;&gt;&gt; df.dtypes\n",
              "col1    int8\n",
              "col2    int8\n",
              "dtype: object\n",
              "\n",
              "Constructing DataFrame from a dictionary including Series:\n",
              "\n",
              "&gt;&gt;&gt; d = {&#x27;col1&#x27;: [0, 1, 2, 3], &#x27;col2&#x27;: pd.Series([2, 3], index=[2, 3])}\n",
              "&gt;&gt;&gt; pd.DataFrame(data=d, index=[0, 1, 2, 3])\n",
              "   col1  col2\n",
              "0     0   NaN\n",
              "1     1   NaN\n",
              "2     2   2.0\n",
              "3     3   3.0\n",
              "\n",
              "Constructing DataFrame from numpy ndarray:\n",
              "\n",
              "&gt;&gt;&gt; df2 = pd.DataFrame(np.array([[1, 2, 3], [4, 5, 6], [7, 8, 9]]),\n",
              "...                    columns=[&#x27;a&#x27;, &#x27;b&#x27;, &#x27;c&#x27;])\n",
              "&gt;&gt;&gt; df2\n",
              "   a  b  c\n",
              "0  1  2  3\n",
              "1  4  5  6\n",
              "2  7  8  9\n",
              "\n",
              "Constructing DataFrame from a numpy ndarray that has labeled columns:\n",
              "\n",
              "&gt;&gt;&gt; data = np.array([(1, 2, 3), (4, 5, 6), (7, 8, 9)],\n",
              "...                 dtype=[(&quot;a&quot;, &quot;i4&quot;), (&quot;b&quot;, &quot;i4&quot;), (&quot;c&quot;, &quot;i4&quot;)])\n",
              "&gt;&gt;&gt; df3 = pd.DataFrame(data, columns=[&#x27;c&#x27;, &#x27;a&#x27;])\n",
              "...\n",
              "&gt;&gt;&gt; df3\n",
              "   c  a\n",
              "0  3  1\n",
              "1  6  4\n",
              "2  9  7\n",
              "\n",
              "Constructing DataFrame from dataclass:\n",
              "\n",
              "&gt;&gt;&gt; from dataclasses import make_dataclass\n",
              "&gt;&gt;&gt; Point = make_dataclass(&quot;Point&quot;, [(&quot;x&quot;, int), (&quot;y&quot;, int)])\n",
              "&gt;&gt;&gt; pd.DataFrame([Point(0, 0), Point(0, 3), Point(2, 3)])\n",
              "   x  y\n",
              "0  0  0\n",
              "1  0  3\n",
              "2  2  3\n",
              "\n",
              "Constructing DataFrame from Series/DataFrame:\n",
              "\n",
              "&gt;&gt;&gt; ser = pd.Series([1, 2, 3], index=[&quot;a&quot;, &quot;b&quot;, &quot;c&quot;])\n",
              "&gt;&gt;&gt; df = pd.DataFrame(data=ser, index=[&quot;a&quot;, &quot;c&quot;])\n",
              "&gt;&gt;&gt; df\n",
              "   0\n",
              "a  1\n",
              "c  3\n",
              "\n",
              "&gt;&gt;&gt; df1 = pd.DataFrame([1, 2, 3], index=[&quot;a&quot;, &quot;b&quot;, &quot;c&quot;], columns=[&quot;x&quot;])\n",
              "&gt;&gt;&gt; df2 = pd.DataFrame(data=df1, index=[&quot;a&quot;, &quot;c&quot;])\n",
              "&gt;&gt;&gt; df2\n",
              "   x\n",
              "a  1\n",
              "c  3</pre>\n",
              "      <script>\n",
              "      if (google.colab.kernel.accessAllowed && google.colab.files && google.colab.files.view) {\n",
              "        for (const element of document.querySelectorAll('.filepath')) {\n",
              "          element.style.display = 'block'\n",
              "          element.onclick = (event) => {\n",
              "            event.preventDefault();\n",
              "            event.stopPropagation();\n",
              "            google.colab.files.view(element.textContent, 509);\n",
              "          };\n",
              "        }\n",
              "      }\n",
              "      for (const element of document.querySelectorAll('.function-repr-contents')) {\n",
              "        element.onclick = (event) => {\n",
              "          event.preventDefault();\n",
              "          event.stopPropagation();\n",
              "          element.classList.toggle('function-repr-contents-collapsed');\n",
              "        };\n",
              "      }\n",
              "      </script>\n",
              "      </div>"
            ]
          },
          "metadata": {},
          "execution_count": 11
        }
      ]
    },
    {
      "cell_type": "markdown",
      "source": [
        "3. you need to convert</h1></section> from dataframe to Datascience Table. Use the following format: ```Table.from_df(df, keep_index=False)``` read more here\n",
        "[create DS Table from DF](https://www.data8.org/datascience/_autosummary/datascience.tables.Table.from_df.html)\n",
        "\n",
        "**N.B.** <font color='red'>NOW, perform all tasks using the table abstraction as we have learned in the class!</font>"
      ],
      "metadata": {
        "id": "ajH-jZyp8neJ"
      }
    },
    {
      "cell_type": "markdown",
      "source": [
        "the following is the opposite:\n",
        "\n",
        "[Table.to_df](https://www.data8.org/datascience/_autosummary/datascience.tables.Table.to_df.html)"
      ],
      "metadata": {
        "id": "ansU7tkQ9cj5"
      }
    },
    {
      "cell_type": "markdown",
      "source": [
        "what is the maximum pm10 value"
      ],
      "metadata": {
        "id": "2zHvKSpo7nX0"
      }
    },
    {
      "cell_type": "code",
      "source": [
        "pollution_data['pm10'].max()"
      ],
      "metadata": {
        "colab": {
          "base_uri": "https://localhost:8080/"
        },
        "id": "A-Ikgdphzdha",
        "outputId": "be7ce900-6f0a-4d0d-a082-52f6efb28ee3"
      },
      "execution_count": 12,
      "outputs": [
        {
          "output_type": "execute_result",
          "data": {
            "text/plain": [
              "87341.71"
            ]
          },
          "metadata": {},
          "execution_count": 12
        }
      ]
    },
    {
      "cell_type": "markdown",
      "source": [
        "what is the maximum pm10 value"
      ],
      "metadata": {
        "id": "RgKB2UJo7rWW"
      }
    },
    {
      "cell_type": "code",
      "source": [
        "pollution_data['pm10'].min()"
      ],
      "metadata": {
        "colab": {
          "base_uri": "https://localhost:8080/"
        },
        "id": "qqANkwbXzmF5",
        "outputId": "f2ae82fb-ff3c-448f-cbb4-b18a4972950d"
      },
      "execution_count": 13,
      "outputs": [
        {
          "output_type": "execute_result",
          "data": {
            "text/plain": [
              "0.0"
            ]
          },
          "metadata": {},
          "execution_count": 13
        }
      ]
    },
    {
      "cell_type": "code",
      "source": [
        "joined_table = Table().from_df(pollution_data)"
      ],
      "metadata": {
        "id": "zsjLIScVmM9a"
      },
      "execution_count": 14,
      "outputs": []
    },
    {
      "cell_type": "markdown",
      "source": [
        "show the first few rows of the table?"
      ],
      "metadata": {
        "id": "KsUXysj_B1T9"
      }
    },
    {
      "cell_type": "code",
      "source": [
        "joined_table.show(2)"
      ],
      "metadata": {
        "colab": {
          "base_uri": "https://localhost:8080/",
          "height": 141
        },
        "id": "lhgoak8vzEfS",
        "outputId": "23769cbd-4e5d-4443-ce11-4147ed150e56"
      },
      "execution_count": 15,
      "outputs": [
        {
          "output_type": "display_data",
          "data": {
            "text/plain": [
              "<IPython.core.display.HTML object>"
            ],
            "text/html": [
              "<table border=\"1\" class=\"dataframe\">\n",
              "    <thead>\n",
              "        <tr>\n",
              "            <th>pm10</th> <th>neighborhood</th>\n",
              "        </tr>\n",
              "    </thead>\n",
              "    <tbody>\n",
              "        <tr>\n",
              "            <td>11.35</td> <td>Bronx Park  </td>\n",
              "        </tr>\n",
              "        <tr>\n",
              "            <td>1.18 </td> <td>Bronx Park  </td>\n",
              "        </tr>\n",
              "    </tbody>\n",
              "</table>\n",
              "<p>... (118493 rows omitted)</p>"
            ]
          },
          "metadata": {}
        }
      ]
    },
    {
      "cell_type": "markdown",
      "source": [
        "print minimum and maximum pm10 values?"
      ],
      "metadata": {
        "id": "zgAZOxbYB56N"
      }
    },
    {
      "cell_type": "code",
      "source": [
        "pm10 = joined_table.column('pm10')\n",
        "min(pm10), max(pm10)"
      ],
      "metadata": {
        "colab": {
          "base_uri": "https://localhost:8080/"
        },
        "id": "19ncrqo0y8l5",
        "outputId": "0f5f4ac3-aed7-43df-aa67-080475195f9d"
      },
      "execution_count": 16,
      "outputs": [
        {
          "output_type": "execute_result",
          "data": {
            "text/plain": [
              "(0.0, 87341.710000000006)"
            ]
          },
          "metadata": {},
          "execution_count": 16
        }
      ]
    },
    {
      "cell_type": "markdown",
      "source": [
        "#Instructions for Students\n",
        "-You task is to analyze NYC hyperlocal air quality data using the provided dataset. Complete the following tasks in your Jupyter Notebook. Each task is worth 1 mark , for a total of 5 marks . Use the Table abstraction wherever possible."
      ],
      "metadata": {
        "id": "kkbu-cal0QRc"
      }
    },
    {
      "cell_type": "markdown",
      "source": [
        "# Tasks"
      ],
      "metadata": {
        "id": "lNeAe-ZH0eL2"
      }
    },
    {
      "cell_type": "markdown",
      "source": [
        "###Task 1: Explore the Joined Data Using Tables (1 Mark)\n",
        "- Display the first 5 rows of the joined_table using .show().\n",
        "- Print the number of rows and columns in the table.\n",
        "- Identify any missing values in the table and handle them appropriately (e.g., drop rows with missing values or fill them with a default value)."
      ],
      "metadata": {
        "id": "TdamjDqe7vYk"
      }
    },
    {
      "cell_type": "code",
      "source": [
        "#Task 1.1: Displaying the first 5 rows\n",
        "joined_table.show(5)"
      ],
      "metadata": {
        "colab": {
          "base_uri": "https://localhost:8080/",
          "height": 236
        },
        "id": "pAWTPbk3P6aJ",
        "outputId": "4f1e250f-c12e-469b-b6f7-4205514df1a9"
      },
      "execution_count": 53,
      "outputs": [
        {
          "output_type": "display_data",
          "data": {
            "text/plain": [
              "<IPython.core.display.HTML object>"
            ],
            "text/html": [
              "<table border=\"1\" class=\"dataframe\">\n",
              "    <thead>\n",
              "        <tr>\n",
              "            <th>pm10</th> <th>neighborhood</th>\n",
              "        </tr>\n",
              "    </thead>\n",
              "    <tbody>\n",
              "        <tr>\n",
              "            <td>11.35</td> <td>Bronx Park  </td>\n",
              "        </tr>\n",
              "        <tr>\n",
              "            <td>1.18 </td> <td>Bronx Park  </td>\n",
              "        </tr>\n",
              "        <tr>\n",
              "            <td>0.76 </td> <td>Bronx Park  </td>\n",
              "        </tr>\n",
              "        <tr>\n",
              "            <td>47.36</td> <td>Bronx Park  </td>\n",
              "        </tr>\n",
              "        <tr>\n",
              "            <td>6.18 </td> <td>Bronx Park  </td>\n",
              "        </tr>\n",
              "    </tbody>\n",
              "</table>\n",
              "<p>... (118490 rows omitted)</p>"
            ]
          },
          "metadata": {}
        }
      ]
    },
    {
      "cell_type": "code",
      "source": [
        "#Task 1.2: Printing the number of rows and columns\n",
        "print(\"Rows:\", joined_table.num_rows, \", Columns:\", joined_table.num_columns)"
      ],
      "metadata": {
        "colab": {
          "base_uri": "https://localhost:8080/"
        },
        "id": "aHZKAwWOQBjJ",
        "outputId": "b7d2cd7a-51c6-46d9-b0eb-b2863a33a4ed"
      },
      "execution_count": 52,
      "outputs": [
        {
          "output_type": "stream",
          "name": "stdout",
          "text": [
            "Rows: 118495 , Columns: 2\n"
          ]
        }
      ]
    },
    {
      "cell_type": "code",
      "source": [
        "#Task 1.3: Droping missing values from the joined table\n",
        "joined_table.where(\"pm10\", are.not_equal_to(np.nan))"
      ],
      "metadata": {
        "colab": {
          "base_uri": "https://localhost:8080/",
          "height": 392
        },
        "id": "4QwTXkBjdFz_",
        "outputId": "0eddced7-9f62-4cad-a1cd-adba1b7362a2"
      },
      "execution_count": 51,
      "outputs": [
        {
          "output_type": "execute_result",
          "data": {
            "text/plain": [
              "pm10  | neighborhood\n",
              "11.35 | Bronx Park\n",
              "1.18  | Bronx Park\n",
              "0.76  | Bronx Park\n",
              "47.36 | Bronx Park\n",
              "6.18  | Bronx Park\n",
              "0.73  | Bronx Park\n",
              "1.22  | Bronx Park\n",
              "5.82  | Bronx Park\n",
              "11.04 | Bronx Park\n",
              "1.29  | Bronx Park\n",
              "... (118485 rows omitted)"
            ],
            "text/html": [
              "<table border=\"1\" class=\"dataframe\">\n",
              "    <thead>\n",
              "        <tr>\n",
              "            <th>pm10</th> <th>neighborhood</th>\n",
              "        </tr>\n",
              "    </thead>\n",
              "    <tbody>\n",
              "        <tr>\n",
              "            <td>11.35</td> <td>Bronx Park  </td>\n",
              "        </tr>\n",
              "        <tr>\n",
              "            <td>1.18 </td> <td>Bronx Park  </td>\n",
              "        </tr>\n",
              "        <tr>\n",
              "            <td>0.76 </td> <td>Bronx Park  </td>\n",
              "        </tr>\n",
              "        <tr>\n",
              "            <td>47.36</td> <td>Bronx Park  </td>\n",
              "        </tr>\n",
              "        <tr>\n",
              "            <td>6.18 </td> <td>Bronx Park  </td>\n",
              "        </tr>\n",
              "        <tr>\n",
              "            <td>0.73 </td> <td>Bronx Park  </td>\n",
              "        </tr>\n",
              "        <tr>\n",
              "            <td>1.22 </td> <td>Bronx Park  </td>\n",
              "        </tr>\n",
              "        <tr>\n",
              "            <td>5.82 </td> <td>Bronx Park  </td>\n",
              "        </tr>\n",
              "        <tr>\n",
              "            <td>11.04</td> <td>Bronx Park  </td>\n",
              "        </tr>\n",
              "        <tr>\n",
              "            <td>1.29 </td> <td>Bronx Park  </td>\n",
              "        </tr>\n",
              "    </tbody>\n",
              "</table>\n",
              "<p>... (118485 rows omitted)</p>"
            ]
          },
          "metadata": {},
          "execution_count": 51
        }
      ]
    },
    {
      "cell_type": "code",
      "source": [
        "#Confirming Task 1.3: Counting the number of droped rows\n",
        "joined_table.num_rows - joined_table.where(\"pm10\", are.not_equal_to(np.nan)).num_rows"
      ],
      "metadata": {
        "colab": {
          "base_uri": "https://localhost:8080/"
        },
        "id": "zk-pyBGZeEkO",
        "outputId": "090d2b1d-425f-4221-d60d-81d5de617385"
      },
      "execution_count": 49,
      "outputs": [
        {
          "output_type": "execute_result",
          "data": {
            "text/plain": [
              "0"
            ]
          },
          "metadata": {},
          "execution_count": 49
        }
      ]
    },
    {
      "cell_type": "code",
      "source": [
        "#Confirming Task 1.3: Droping the missing value from the pollution data in the data frame format to confirm the zero missing values\n",
        "pollution_data.dropna()"
      ],
      "metadata": {
        "colab": {
          "base_uri": "https://localhost:8080/",
          "height": 424
        },
        "id": "kter58I6QiXD",
        "outputId": "e4790787-ff23-45db-b8b1-5a2eaf036b1b"
      },
      "execution_count": 50,
      "outputs": [
        {
          "output_type": "execute_result",
          "data": {
            "text/plain": [
              "         pm10 neighborhood\n",
              "0       11.35   Bronx Park\n",
              "1        1.18   Bronx Park\n",
              "2        0.76   Bronx Park\n",
              "3       47.36   Bronx Park\n",
              "4        6.18   Bronx Park\n",
              "...       ...          ...\n",
              "118760   4.03     Longwood\n",
              "118761   6.20     Longwood\n",
              "118762   0.00     Longwood\n",
              "118763   2.49     Longwood\n",
              "118764  10.49     Longwood\n",
              "\n",
              "[118495 rows x 2 columns]"
            ],
            "text/html": [
              "\n",
              "  <div id=\"df-c0af12cd-979b-42ab-9d23-dd783879b33f\" class=\"colab-df-container\">\n",
              "    <div>\n",
              "<style scoped>\n",
              "    .dataframe tbody tr th:only-of-type {\n",
              "        vertical-align: middle;\n",
              "    }\n",
              "\n",
              "    .dataframe tbody tr th {\n",
              "        vertical-align: top;\n",
              "    }\n",
              "\n",
              "    .dataframe thead th {\n",
              "        text-align: right;\n",
              "    }\n",
              "</style>\n",
              "<table border=\"1\" class=\"dataframe\">\n",
              "  <thead>\n",
              "    <tr style=\"text-align: right;\">\n",
              "      <th></th>\n",
              "      <th>pm10</th>\n",
              "      <th>neighborhood</th>\n",
              "    </tr>\n",
              "  </thead>\n",
              "  <tbody>\n",
              "    <tr>\n",
              "      <th>0</th>\n",
              "      <td>11.35</td>\n",
              "      <td>Bronx Park</td>\n",
              "    </tr>\n",
              "    <tr>\n",
              "      <th>1</th>\n",
              "      <td>1.18</td>\n",
              "      <td>Bronx Park</td>\n",
              "    </tr>\n",
              "    <tr>\n",
              "      <th>2</th>\n",
              "      <td>0.76</td>\n",
              "      <td>Bronx Park</td>\n",
              "    </tr>\n",
              "    <tr>\n",
              "      <th>3</th>\n",
              "      <td>47.36</td>\n",
              "      <td>Bronx Park</td>\n",
              "    </tr>\n",
              "    <tr>\n",
              "      <th>4</th>\n",
              "      <td>6.18</td>\n",
              "      <td>Bronx Park</td>\n",
              "    </tr>\n",
              "    <tr>\n",
              "      <th>...</th>\n",
              "      <td>...</td>\n",
              "      <td>...</td>\n",
              "    </tr>\n",
              "    <tr>\n",
              "      <th>118760</th>\n",
              "      <td>4.03</td>\n",
              "      <td>Longwood</td>\n",
              "    </tr>\n",
              "    <tr>\n",
              "      <th>118761</th>\n",
              "      <td>6.20</td>\n",
              "      <td>Longwood</td>\n",
              "    </tr>\n",
              "    <tr>\n",
              "      <th>118762</th>\n",
              "      <td>0.00</td>\n",
              "      <td>Longwood</td>\n",
              "    </tr>\n",
              "    <tr>\n",
              "      <th>118763</th>\n",
              "      <td>2.49</td>\n",
              "      <td>Longwood</td>\n",
              "    </tr>\n",
              "    <tr>\n",
              "      <th>118764</th>\n",
              "      <td>10.49</td>\n",
              "      <td>Longwood</td>\n",
              "    </tr>\n",
              "  </tbody>\n",
              "</table>\n",
              "<p>118495 rows × 2 columns</p>\n",
              "</div>\n",
              "    <div class=\"colab-df-buttons\">\n",
              "\n",
              "  <div class=\"colab-df-container\">\n",
              "    <button class=\"colab-df-convert\" onclick=\"convertToInteractive('df-c0af12cd-979b-42ab-9d23-dd783879b33f')\"\n",
              "            title=\"Convert this dataframe to an interactive table.\"\n",
              "            style=\"display:none;\">\n",
              "\n",
              "  <svg xmlns=\"http://www.w3.org/2000/svg\" height=\"24px\" viewBox=\"0 -960 960 960\">\n",
              "    <path d=\"M120-120v-720h720v720H120Zm60-500h600v-160H180v160Zm220 220h160v-160H400v160Zm0 220h160v-160H400v160ZM180-400h160v-160H180v160Zm440 0h160v-160H620v160ZM180-180h160v-160H180v160Zm440 0h160v-160H620v160Z\"/>\n",
              "  </svg>\n",
              "    </button>\n",
              "\n",
              "  <style>\n",
              "    .colab-df-container {\n",
              "      display:flex;\n",
              "      gap: 12px;\n",
              "    }\n",
              "\n",
              "    .colab-df-convert {\n",
              "      background-color: #E8F0FE;\n",
              "      border: none;\n",
              "      border-radius: 50%;\n",
              "      cursor: pointer;\n",
              "      display: none;\n",
              "      fill: #1967D2;\n",
              "      height: 32px;\n",
              "      padding: 0 0 0 0;\n",
              "      width: 32px;\n",
              "    }\n",
              "\n",
              "    .colab-df-convert:hover {\n",
              "      background-color: #E2EBFA;\n",
              "      box-shadow: 0px 1px 2px rgba(60, 64, 67, 0.3), 0px 1px 3px 1px rgba(60, 64, 67, 0.15);\n",
              "      fill: #174EA6;\n",
              "    }\n",
              "\n",
              "    .colab-df-buttons div {\n",
              "      margin-bottom: 4px;\n",
              "    }\n",
              "\n",
              "    [theme=dark] .colab-df-convert {\n",
              "      background-color: #3B4455;\n",
              "      fill: #D2E3FC;\n",
              "    }\n",
              "\n",
              "    [theme=dark] .colab-df-convert:hover {\n",
              "      background-color: #434B5C;\n",
              "      box-shadow: 0px 1px 3px 1px rgba(0, 0, 0, 0.15);\n",
              "      filter: drop-shadow(0px 1px 2px rgba(0, 0, 0, 0.3));\n",
              "      fill: #FFFFFF;\n",
              "    }\n",
              "  </style>\n",
              "\n",
              "    <script>\n",
              "      const buttonEl =\n",
              "        document.querySelector('#df-c0af12cd-979b-42ab-9d23-dd783879b33f button.colab-df-convert');\n",
              "      buttonEl.style.display =\n",
              "        google.colab.kernel.accessAllowed ? 'block' : 'none';\n",
              "\n",
              "      async function convertToInteractive(key) {\n",
              "        const element = document.querySelector('#df-c0af12cd-979b-42ab-9d23-dd783879b33f');\n",
              "        const dataTable =\n",
              "          await google.colab.kernel.invokeFunction('convertToInteractive',\n",
              "                                                    [key], {});\n",
              "        if (!dataTable) return;\n",
              "\n",
              "        const docLinkHtml = 'Like what you see? Visit the ' +\n",
              "          '<a target=\"_blank\" href=https://colab.research.google.com/notebooks/data_table.ipynb>data table notebook</a>'\n",
              "          + ' to learn more about interactive tables.';\n",
              "        element.innerHTML = '';\n",
              "        dataTable['output_type'] = 'display_data';\n",
              "        await google.colab.output.renderOutput(dataTable, element);\n",
              "        const docLink = document.createElement('div');\n",
              "        docLink.innerHTML = docLinkHtml;\n",
              "        element.appendChild(docLink);\n",
              "      }\n",
              "    </script>\n",
              "  </div>\n",
              "\n",
              "\n",
              "<div id=\"df-f48ec227-02af-4212-994c-2cc60719639d\">\n",
              "  <button class=\"colab-df-quickchart\" onclick=\"quickchart('df-f48ec227-02af-4212-994c-2cc60719639d')\"\n",
              "            title=\"Suggest charts\"\n",
              "            style=\"display:none;\">\n",
              "\n",
              "<svg xmlns=\"http://www.w3.org/2000/svg\" height=\"24px\"viewBox=\"0 0 24 24\"\n",
              "     width=\"24px\">\n",
              "    <g>\n",
              "        <path d=\"M19 3H5c-1.1 0-2 .9-2 2v14c0 1.1.9 2 2 2h14c1.1 0 2-.9 2-2V5c0-1.1-.9-2-2-2zM9 17H7v-7h2v7zm4 0h-2V7h2v10zm4 0h-2v-4h2v4z\"/>\n",
              "    </g>\n",
              "</svg>\n",
              "  </button>\n",
              "\n",
              "<style>\n",
              "  .colab-df-quickchart {\n",
              "      --bg-color: #E8F0FE;\n",
              "      --fill-color: #1967D2;\n",
              "      --hover-bg-color: #E2EBFA;\n",
              "      --hover-fill-color: #174EA6;\n",
              "      --disabled-fill-color: #AAA;\n",
              "      --disabled-bg-color: #DDD;\n",
              "  }\n",
              "\n",
              "  [theme=dark] .colab-df-quickchart {\n",
              "      --bg-color: #3B4455;\n",
              "      --fill-color: #D2E3FC;\n",
              "      --hover-bg-color: #434B5C;\n",
              "      --hover-fill-color: #FFFFFF;\n",
              "      --disabled-bg-color: #3B4455;\n",
              "      --disabled-fill-color: #666;\n",
              "  }\n",
              "\n",
              "  .colab-df-quickchart {\n",
              "    background-color: var(--bg-color);\n",
              "    border: none;\n",
              "    border-radius: 50%;\n",
              "    cursor: pointer;\n",
              "    display: none;\n",
              "    fill: var(--fill-color);\n",
              "    height: 32px;\n",
              "    padding: 0;\n",
              "    width: 32px;\n",
              "  }\n",
              "\n",
              "  .colab-df-quickchart:hover {\n",
              "    background-color: var(--hover-bg-color);\n",
              "    box-shadow: 0 1px 2px rgba(60, 64, 67, 0.3), 0 1px 3px 1px rgba(60, 64, 67, 0.15);\n",
              "    fill: var(--button-hover-fill-color);\n",
              "  }\n",
              "\n",
              "  .colab-df-quickchart-complete:disabled,\n",
              "  .colab-df-quickchart-complete:disabled:hover {\n",
              "    background-color: var(--disabled-bg-color);\n",
              "    fill: var(--disabled-fill-color);\n",
              "    box-shadow: none;\n",
              "  }\n",
              "\n",
              "  .colab-df-spinner {\n",
              "    border: 2px solid var(--fill-color);\n",
              "    border-color: transparent;\n",
              "    border-bottom-color: var(--fill-color);\n",
              "    animation:\n",
              "      spin 1s steps(1) infinite;\n",
              "  }\n",
              "\n",
              "  @keyframes spin {\n",
              "    0% {\n",
              "      border-color: transparent;\n",
              "      border-bottom-color: var(--fill-color);\n",
              "      border-left-color: var(--fill-color);\n",
              "    }\n",
              "    20% {\n",
              "      border-color: transparent;\n",
              "      border-left-color: var(--fill-color);\n",
              "      border-top-color: var(--fill-color);\n",
              "    }\n",
              "    30% {\n",
              "      border-color: transparent;\n",
              "      border-left-color: var(--fill-color);\n",
              "      border-top-color: var(--fill-color);\n",
              "      border-right-color: var(--fill-color);\n",
              "    }\n",
              "    40% {\n",
              "      border-color: transparent;\n",
              "      border-right-color: var(--fill-color);\n",
              "      border-top-color: var(--fill-color);\n",
              "    }\n",
              "    60% {\n",
              "      border-color: transparent;\n",
              "      border-right-color: var(--fill-color);\n",
              "    }\n",
              "    80% {\n",
              "      border-color: transparent;\n",
              "      border-right-color: var(--fill-color);\n",
              "      border-bottom-color: var(--fill-color);\n",
              "    }\n",
              "    90% {\n",
              "      border-color: transparent;\n",
              "      border-bottom-color: var(--fill-color);\n",
              "    }\n",
              "  }\n",
              "</style>\n",
              "\n",
              "  <script>\n",
              "    async function quickchart(key) {\n",
              "      const quickchartButtonEl =\n",
              "        document.querySelector('#' + key + ' button');\n",
              "      quickchartButtonEl.disabled = true;  // To prevent multiple clicks.\n",
              "      quickchartButtonEl.classList.add('colab-df-spinner');\n",
              "      try {\n",
              "        const charts = await google.colab.kernel.invokeFunction(\n",
              "            'suggestCharts', [key], {});\n",
              "      } catch (error) {\n",
              "        console.error('Error during call to suggestCharts:', error);\n",
              "      }\n",
              "      quickchartButtonEl.classList.remove('colab-df-spinner');\n",
              "      quickchartButtonEl.classList.add('colab-df-quickchart-complete');\n",
              "    }\n",
              "    (() => {\n",
              "      let quickchartButtonEl =\n",
              "        document.querySelector('#df-f48ec227-02af-4212-994c-2cc60719639d button');\n",
              "      quickchartButtonEl.style.display =\n",
              "        google.colab.kernel.accessAllowed ? 'block' : 'none';\n",
              "    })();\n",
              "  </script>\n",
              "</div>\n",
              "\n",
              "    </div>\n",
              "  </div>\n"
            ],
            "application/vnd.google.colaboratory.intrinsic+json": {
              "type": "dataframe"
            }
          },
          "metadata": {},
          "execution_count": 50
        }
      ]
    },
    {
      "cell_type": "markdown",
      "source": [
        "# Task 2: Create Summary Statistics Using Table Operations (1 Mark)\n",
        "\n",
        "- Compute summary statistics (mean, median, min, max) for the attributes temperature, humidity, and pm25 using table operations like .column() and .apply().\n",
        "- Group the data by borough and calculate the average pm25 levels for each borough using .group() or .pivot().\n",
        "- Display the results in a new table."
      ],
      "metadata": {
        "id": "XTjfxfG209Ia"
      }
    },
    {
      "cell_type": "code",
      "source": [
        "#Preparing the data for the remaining tasks: Converting merged data from dataframe to table\n",
        "Air_Quality_Data = Table().from_df(merged_data)\n",
        "Air_Quality_Data.show(2)"
      ],
      "metadata": {
        "colab": {
          "base_uri": "https://localhost:8080/",
          "height": 231
        },
        "id": "F2fMibuoX3H6",
        "outputId": "23dadde7-7dcc-43fc-fd01-b07ca356ed80"
      },
      "execution_count": 25,
      "outputs": [
        {
          "output_type": "display_data",
          "data": {
            "text/plain": [
              "<IPython.core.display.HTML object>"
            ],
            "text/html": [
              "<table border=\"1\" class=\"dataframe\">\n",
              "    <thead>\n",
              "        <tr>\n",
              "            <th>SensorID</th> <th>time</th> <th>latitude</th> <th>longitude</th> <th>bin0</th> <th>bin1</th> <th>bin2</th> <th>bin3</th> <th>bin4</th> <th>bin5</th> <th>bin6</th> <th>bin7</th> <th>bin8</th> <th>bin9</th> <th>bin10</th> <th>bin11</th> <th>bin12</th> <th>bin13</th> <th>bin14</th> <th>bin15</th> <th>bin16</th> <th>bin17</th> <th>bin18</th> <th>bin19</th> <th>bin20</th> <th>bin21</th> <th>bin22</th> <th>bin23</th> <th>temperature</th> <th>humidity</th> <th>pm1</th> <th>pm25</th> <th>pm10</th> <th>geometry</th> <th>index_right</th> <th>neighborhood</th> <th>boroughCode</th> <th>borough</th> <th>@id</th>\n",
              "        </tr>\n",
              "    </thead>\n",
              "    <tbody>\n",
              "        <tr>\n",
              "            <td>NYCP1_01A</td> <td>1579618560</td> <td>40.8472 </td> <td>-73.8701 </td> <td>23  </td> <td>1   </td> <td>2   </td> <td>0   </td> <td>0   </td> <td>0   </td> <td>1   </td> <td>0   </td> <td>0   </td> <td>0   </td> <td>0    </td> <td>0    </td> <td>0    </td> <td>0    </td> <td>0    </td> <td>0    </td> <td>0    </td> <td>0    </td> <td>0    </td> <td>0    </td> <td>0    </td> <td>0    </td> <td>0    </td> <td>0    </td> <td>16.3       </td> <td>15.2    </td> <td>1.44</td> <td>5.91</td> <td>11.35</td> <td>POINT (-73.870087 40.847183)</td> <td>38         </td> <td>Bronx Park  </td> <td>2          </td> <td>Bronx  </td> <td>http://nyc.pediacities.com/Resource/Neighborhood/Bronx_Park</td>\n",
              "        </tr>\n",
              "        <tr>\n",
              "            <td>NYCP1_01A</td> <td>1579618560</td> <td>40.8472 </td> <td>-73.8701 </td> <td>18  </td> <td>2   </td> <td>1   </td> <td>0   </td> <td>0   </td> <td>0   </td> <td>0   </td> <td>0   </td> <td>0   </td> <td>0   </td> <td>0    </td> <td>0    </td> <td>0    </td> <td>0    </td> <td>0    </td> <td>0    </td> <td>0    </td> <td>0    </td> <td>0    </td> <td>0    </td> <td>0    </td> <td>0    </td> <td>0    </td> <td>0    </td> <td>16.2       </td> <td>15.1    </td> <td>1.05</td> <td>1.18</td> <td>1.18 </td> <td>POINT (-73.870094 40.847183)</td> <td>38         </td> <td>Bronx Park  </td> <td>2          </td> <td>Bronx  </td> <td>http://nyc.pediacities.com/Resource/Neighborhood/Bronx_Park</td>\n",
              "        </tr>\n",
              "    </tbody>\n",
              "</table>\n",
              "<p>... (118493 rows omitted)</p>"
            ]
          },
          "metadata": {}
        }
      ]
    },
    {
      "cell_type": "code",
      "source": [
        "#Task 2.1: Calculating the summary statics and saving them in new table\n",
        "Summary_Statistics = Table().with_columns(\"Attribute\", make_array(\"temperature\", \"humidity\", \"pm25\"),\n",
        "                                          \"mean\", make_array(Air_Quality_Data.column(\"temperature\").mean(), Air_Quality_Data.column(\"humidity\").mean(), Air_Quality_Data.column(\"pm25\").mean()),\n",
        "                                          \"median\", make_array(np.median(Air_Quality_Data.column('temperature')), np.median(Air_Quality_Data.column('humidity')), np.median(Air_Quality_Data.column('pm25'))),\n",
        "                                          \"min\", make_array(Air_Quality_Data.column(\"temperature\").min(), Air_Quality_Data.column(\"humidity\").min(), Air_Quality_Data.column(\"pm25\").min()),\n",
        "                                          \"max\", make_array(Air_Quality_Data.column(\"temperature\").max(), Air_Quality_Data.column(\"humidity\").max(), Air_Quality_Data.column(\"pm25\").max()))\n",
        "Summary_Statistics"
      ],
      "metadata": {
        "colab": {
          "base_uri": "https://localhost:8080/",
          "height": 143
        },
        "id": "eu7p1hL8Wdcg",
        "outputId": "92ba34ae-4203-4e9d-b5bb-981805ceb417"
      },
      "execution_count": 48,
      "outputs": [
        {
          "output_type": "execute_result",
          "data": {
            "text/plain": [
              "Attribute   | mean    | median | min  | max\n",
              "temperature | 8.24158 | 7.2    | -7.9 | 10471\n",
              "humidity    | 50.1549 | 46.2   | 0    | 104.2\n",
              "pm25        | 7.37452 | 3.02   | 0    | 3267.02"
            ],
            "text/html": [
              "<table border=\"1\" class=\"dataframe\">\n",
              "    <thead>\n",
              "        <tr>\n",
              "            <th>Attribute</th> <th>mean</th> <th>median</th> <th>min</th> <th>max</th>\n",
              "        </tr>\n",
              "    </thead>\n",
              "    <tbody>\n",
              "        <tr>\n",
              "            <td>temperature</td> <td>8.24158</td> <td>7.2   </td> <td>-7.9</td> <td>10471  </td>\n",
              "        </tr>\n",
              "        <tr>\n",
              "            <td>humidity   </td> <td>50.1549</td> <td>46.2  </td> <td>0   </td> <td>104.2  </td>\n",
              "        </tr>\n",
              "        <tr>\n",
              "            <td>pm25       </td> <td>7.37452</td> <td>3.02  </td> <td>0   </td> <td>3267.02</td>\n",
              "        </tr>\n",
              "    </tbody>\n",
              "</table>"
            ]
          },
          "metadata": {},
          "execution_count": 48
        }
      ]
    },
    {
      "cell_type": "code",
      "source": [
        "#Task 2.2 + 2.3: Grouping the data by brorough and displaying the average pm25 value\n",
        "pm25_average_by_borough = Air_Quality_Data.select(\"borough\", \"pm25\").group(\"borough\", np.average)\n",
        "pm25_average_by_borough"
      ],
      "metadata": {
        "colab": {
          "base_uri": "https://localhost:8080/",
          "height": 175
        },
        "id": "0GG9HA2fZwUT",
        "outputId": "90d2f907-6fc5-4898-94e0-0f182e988a11"
      },
      "execution_count": 47,
      "outputs": [
        {
          "output_type": "execute_result",
          "data": {
            "text/plain": [
              "borough   | pm25 average\n",
              "Bronx     | 7.795\n",
              "Brooklyn  | 1.99695\n",
              "Manhattan | 2.37332\n",
              "Queens    | 2.07253"
            ],
            "text/html": [
              "<table border=\"1\" class=\"dataframe\">\n",
              "    <thead>\n",
              "        <tr>\n",
              "            <th>borough</th> <th>pm25 average</th>\n",
              "        </tr>\n",
              "    </thead>\n",
              "    <tbody>\n",
              "        <tr>\n",
              "            <td>Bronx    </td> <td>7.795       </td>\n",
              "        </tr>\n",
              "        <tr>\n",
              "            <td>Brooklyn </td> <td>1.99695     </td>\n",
              "        </tr>\n",
              "        <tr>\n",
              "            <td>Manhattan</td> <td>2.37332     </td>\n",
              "        </tr>\n",
              "        <tr>\n",
              "            <td>Queens   </td> <td>2.07253     </td>\n",
              "        </tr>\n",
              "    </tbody>\n",
              "</table>"
            ]
          },
          "metadata": {},
          "execution_count": 47
        }
      ]
    },
    {
      "cell_type": "markdown",
      "source": [
        "# Task 3: Visualize the Data Using Table-Based Plots (1 Mark)\n",
        "\n",
        "- Create a bar chart showing the average pm25 levels for each borough using .barh().\n",
        "- Create a scatter plot to visualize the relationship between temperature and pm25 using .scatter(). Add appropriate labels and a title to the plot.\n",
        "- Create a histogram of humidity values across all neighborhoods using .hist()."
      ],
      "metadata": {
        "id": "2SD9uVHI1oNW"
      }
    },
    {
      "cell_type": "code",
      "source": [
        "#Task 3.1: Displaying the average pm25 by borough in bar chart\n",
        "pm25_average_by_borough.barh(\"borough\", \"pm25 average\")"
      ],
      "metadata": {
        "colab": {
          "base_uri": "https://localhost:8080/",
          "height": 410
        },
        "id": "ZcM3N6ZjiPju",
        "outputId": "d531d245-4428-4d6e-d32b-7767fbe73e9f"
      },
      "execution_count": 46,
      "outputs": [
        {
          "output_type": "display_data",
          "data": {
            "text/plain": [
              "<Figure size 600x400 with 1 Axes>"
            ],
            "image/png": "[encoded data removed]"
          },
          "metadata": {}
        }
      ]
    },
    {
      "cell_type": "code",
      "source": [
        "#Task 3.2: Displaying the relationship between temperature and pm25 using scatter plot\n",
        "Air_Quality_Data.scatter(\"temperature\", \"pm25\")\n",
        "plt.title(\"Temperature vs PM2.5\")\n",
        "plt.xlabel(\"Temperature\")\n",
        "plt.ylabel(\"PM2.5\")"
      ],
      "metadata": {
        "colab": {
          "base_uri": "https://localhost:8080/",
          "height": 538
        },
        "id": "IqNd1-GPikCa",
        "outputId": "29daaa55-7ff2-4f49-8322-a399d0dae62b"
      },
      "execution_count": 45,
      "outputs": [
        {
          "output_type": "execute_result",
          "data": {
            "text/plain": [
              "Text(0, 0.5, 'PM2.5')"
            ]
          },
          "metadata": {},
          "execution_count": 45
        },
        {
          "output_type": "display_data",
          "data": {
            "text/plain": [
              "<Figure size 500x500 with 1 Axes>"
            ],
            "image/png": "[encoded data removed]"
          },
          "metadata": {}
        }
      ]
    },
    {
      "cell_type": "code",
      "source": [
        "#Task 3.2 Extra: Displaying the relationship between temperature and pm25 using scatter plot after removing the outliers\n",
        "Air_Quality_Data.where(\"temperature\", are.below(10000)).where(\"pm25\", are.below(3000)).scatter(\"temperature\", \"pm25\")\n",
        "plt.title(\"Temperature vs PM2.5 without outliers\")\n",
        "plt.xlabel(\"Temperature\")\n",
        "plt.ylabel(\"PM2.5\")\n"
      ],
      "metadata": {
        "colab": {
          "base_uri": "https://localhost:8080/",
          "height": 538
        },
        "id": "QvV8rY7vkTc7",
        "outputId": "6cd858fb-ba4c-4797-e34c-813ceaef43dd"
      },
      "execution_count": 44,
      "outputs": [
        {
          "output_type": "execute_result",
          "data": {
            "text/plain": [
              "Text(0, 0.5, 'PM2.5')"
            ]
          },
          "metadata": {},
          "execution_count": 44
        },
        {
          "output_type": "display_data",
          "data": {
            "text/plain": [
              "<Figure size 500x500 with 1 Axes>"
            ],
            "image/png": "[encoded data removed]"
          },
          "metadata": {}
        }
      ]
    },
    {
      "cell_type": "code",
      "source": [
        "#Task 3.3: Displaying the distribution of humidity in histogram chart\n",
        "Air_Quality_Data.hist(\"humidity\")"
      ],
      "metadata": {
        "colab": {
          "base_uri": "https://localhost:8080/",
          "height": 410
        },
        "id": "p-zGr-ojlB0X",
        "outputId": "9285bbb2-a68c-41c4-cac1-8a57dffdd162"
      },
      "execution_count": 43,
      "outputs": [
        {
          "output_type": "display_data",
          "data": {
            "text/plain": [
              "<Figure size 600x400 with 1 Axes>"
            ],
            "image/png": "[encoded data removed]"
          },
          "metadata": {}
        }
      ]
    },
    {
      "cell_type": "markdown",
      "source": [
        "# Task 4: Define and Use Functions with Tables (1 Mark)\n",
        "\n",
        "- Write a function calculate_pm25_category(pm25) that categorizes PM2.5 levels as follows:\n",
        "\"Good\" if pm25 < 12\n",
        "\"Moderate\" if 12 <= pm25 < 35\n",
        "\"Unhealthy\" if pm25 >= 35\n",
        "- Apply this function to the pm25 column in the table using .apply() to create a new column called PM25_Category.\n",
        "- Count the number of sensors in each PM2.5 category and display the results using .group().\n"
      ],
      "metadata": {
        "id": "xTWFUDGX1v1F"
      }
    },
    {
      "cell_type": "code",
      "source": [
        "#Task 4.1: Defining a function to categorizes PM2.5 levels\n",
        "\n",
        "def calculate_pm25_category(pm25):\n",
        "  if pm25 < 12:\n",
        "    return \"Good\"\n",
        "  elif pm25 >= 35:\n",
        "    return \"Unhealthy\"\n",
        "  else:\n",
        "    return \"Moderate\""
      ],
      "metadata": {
        "id": "--tj_wsWmFzP"
      },
      "execution_count": 40,
      "outputs": []
    },
    {
      "cell_type": "code",
      "source": [
        "#Task 4.2: Applying the PM2.5 function to categorize Air Quality table\n",
        "Air_Quality_Category = Air_Quality_Data.with_columns(\"PM25_Category\", Air_Quality_Data.apply(calculate_pm25_category, \"pm25\"))\n",
        "Air_Quality_Category"
      ],
      "metadata": {
        "colab": {
          "base_uri": "https://localhost:8080/",
          "height": 760
        },
        "id": "l7mGONZzmesO",
        "outputId": "e950840a-b039-4d3f-f701-de6707cbd564"
      },
      "execution_count": 41,
      "outputs": [
        {
          "output_type": "execute_result",
          "data": {
            "text/plain": [
              "SensorID  | time       | latitude | longitude | bin0 | bin1 | bin2 | bin3 | bin4 | bin5 | bin6 | bin7 | bin8 | bin9 | bin10 | bin11 | bin12 | bin13 | bin14 | bin15 | bin16 | bin17 | bin18 | bin19 | bin20 | bin21 | bin22 | bin23 | temperature | humidity | pm1  | pm25 | pm10  | geometry                     | index_right | neighborhood | boroughCode | borough | @id                                                         | PM25_Category\n",
              "NYCP1_01A | 1579618560 | 40.8472  | -73.8701  | 23   | 1    | 2    | 0    | 0    | 0    | 1    | 0    | 0    | 0    | 0     | 0     | 0     | 0     | 0     | 0     | 0     | 0     | 0     | 0     | 0     | 0     | 0     | 0     | 16.3        | 15.2     | 1.44 | 5.91 | 11.35 | POINT (-73.870087 40.847183) | 38          | Bronx Park   | 2           | Bronx   | http://nyc.pediacities.com/Resource/Neighborhood/Bronx_Park | Good\n",
              "NYCP1_01A | 1579618560 | 40.8472  | -73.8701  | 18   | 2    | 1    | 0    | 0    | 0    | 0    | 0    | 0    | 0    | 0     | 0     | 0     | 0     | 0     | 0     | 0     | 0     | 0     | 0     | 0     | 0     | 0     | 0     | 16.2        | 15.1     | 1.05 | 1.18 | 1.18  | POINT (-73.870094 40.847183) | 38          | Bronx Park   | 2           | Bronx   | http://nyc.pediacities.com/Resource/Neighborhood/Bronx_Park | Good\n",
              "NYCP1_01A | 1579618560 | 40.8472  | -73.8701  | 18   | 1    | 0    | 0    | 0    | 0    | 0    | 0    | 0    | 0    | 0     | 0     | 0     | 0     | 0     | 0     | 0     | 0     | 0     | 0     | 0     | 0     | 0     | 0     | 16.1        | 15.1     | 0.74 | 0.76 | 0.76  | POINT (-73.870094 40.847179) | 38          | Bronx Park   | 2           | Bronx   | http://nyc.pediacities.com/Resource/Neighborhood/Bronx_Park | Good\n",
              "NYCP1_01A | 1579618560 | 40.8472  | -73.8701  | 18   | 1    | 2    | 0    | 0    | 0    | 0    | 0    | 1    | 0    | 0     | 0     | 0     | 0     | 0     | 0     | 0     | 0     | 0     | 0     | 0     | 0     | 0     | 0     | 16.1        | 15.2     | 1.15 | 4.48 | 47.36 | POINT (-73.870094 40.847179) | 38          | Bronx Park   | 2           | Bronx   | http://nyc.pediacities.com/Resource/Neighborhood/Bronx_Park | Good\n",
              "NYCP1_01A | 1579618560 | 40.8472  | -73.8701  | 20   | 3    | 0    | 2    | 2    | 0    | 0    | 0    | 0    | 0    | 0     | 0     | 0     | 0     | 0     | 0     | 0     | 0     | 0     | 0     | 0     | 0     | 0     | 0     | 16          | 15.2     | 2.13 | 5.77 | 6.18  | POINT (-73.870094 40.847179) | 38          | Bronx Park   | 2           | Bronx   | http://nyc.pediacities.com/Resource/Neighborhood/Bronx_Park | Good\n",
              "NYCP1_01A | 1579618560 | 40.8472  | -73.8701  | 20   | 0    | 0    | 0    | 0    | 0    | 0    | 0    | 0    | 0    | 0     | 0     | 0     | 0     | 0     | 0     | 0     | 0     | 0     | 0     | 0     | 0     | 0     | 0     | 15.9        | 15.3     | 0.72 | 0.73 | 0.73  | POINT (-73.870094 40.847176) | 38          | Bronx Park   | 2           | Bronx   | http://nyc.pediacities.com/Resource/Neighborhood/Bronx_Park | Good\n",
              "NYCP1_01A | 1579618560 | 40.8472  | -73.8701  | 17   | 3    | 1    | 0    | 0    | 0    | 0    | 0    | 0    | 0    | 0     | 0     | 0     | 0     | 0     | 0     | 0     | 0     | 0     | 0     | 0     | 0     | 0     | 0     | 15.8        | 15.4     | 1.09 | 1.22 | 1.22  | POINT (-73.870102 40.847172) | 38          | Bronx Park   | 2           | Bronx   | http://nyc.pediacities.com/Resource/Neighborhood/Bronx_Park | Good\n",
              "NYCP1_01A | 1579618560 | 40.8472  | -73.8701  | 31   | 4    | 0    | 0    | 0    | 1    | 0    | 0    | 0    | 0    | 0     | 0     | 0     | 0     | 0     | 0     | 0     | 0     | 0     | 0     | 0     | 0     | 0     | 0     | 15.8        | 15.4     | 1.69 | 4.57 | 5.82  | POINT (-73.870094 40.847176) | 38          | Bronx Park   | 2           | Bronx   | http://nyc.pediacities.com/Resource/Neighborhood/Bronx_Park | Good\n",
              "NYCP1_01A | 1579618560 | 40.8472  | -73.8701  | 22   | 5    | 0    | 0    | 0    | 0    | 1    | 0    | 0    | 0    | 0     | 0     | 0     | 0     | 0     | 0     | 0     | 0     | 0     | 0     | 0     | 0     | 0     | 0     | 15.7        | 15.5     | 1.33 | 5.61 | 11.04 | POINT (-73.870102 40.847172) | 38          | Bronx Park   | 2           | Bronx   | http://nyc.pediacities.com/Resource/Neighborhood/Bronx_Park | Good\n",
              "NYCP1_01A | 1579618560 | 40.8472  | -73.8701  | 22   | 5    | 0    | 0    | 0    | 0    | 0    | 0    | 0    | 0    | 0     | 0     | 0     | 0     | 0     | 0     | 0     | 0     | 0     | 0     | 0     | 0     | 0     | 0     | 15.6        | 15.6     | 1.24 | 1.29 | 1.29  | POINT (-73.870094 40.847168) | 38          | Bronx Park   | 2           | Bronx   | http://nyc.pediacities.com/Resource/Neighborhood/Bronx_Park | Good\n",
              "... (118485 rows omitted)"
            ],
            "text/html": [
              "<table border=\"1\" class=\"dataframe\">\n",
              "    <thead>\n",
              "        <tr>\n",
              "            <th>SensorID</th> <th>time</th> <th>latitude</th> <th>longitude</th> <th>bin0</th> <th>bin1</th> <th>bin2</th> <th>bin3</th> <th>bin4</th> <th>bin5</th> <th>bin6</th> <th>bin7</th> <th>bin8</th> <th>bin9</th> <th>bin10</th> <th>bin11</th> <th>bin12</th> <th>bin13</th> <th>bin14</th> <th>bin15</th> <th>bin16</th> <th>bin17</th> <th>bin18</th> <th>bin19</th> <th>bin20</th> <th>bin21</th> <th>bin22</th> <th>bin23</th> <th>temperature</th> <th>humidity</th> <th>pm1</th> <th>pm25</th> <th>pm10</th> <th>geometry</th> <th>index_right</th> <th>neighborhood</th> <th>boroughCode</th> <th>borough</th> <th>@id</th> <th>PM25_Category</th>\n",
              "        </tr>\n",
              "    </thead>\n",
              "    <tbody>\n",
              "        <tr>\n",
              "            <td>NYCP1_01A</td> <td>1579618560</td> <td>40.8472 </td> <td>-73.8701 </td> <td>23  </td> <td>1   </td> <td>2   </td> <td>0   </td> <td>0   </td> <td>0   </td> <td>1   </td> <td>0   </td> <td>0   </td> <td>0   </td> <td>0    </td> <td>0    </td> <td>0    </td> <td>0    </td> <td>0    </td> <td>0    </td> <td>0    </td> <td>0    </td> <td>0    </td> <td>0    </td> <td>0    </td> <td>0    </td> <td>0    </td> <td>0    </td> <td>16.3       </td> <td>15.2    </td> <td>1.44</td> <td>5.91</td> <td>11.35</td> <td>POINT (-73.870087 40.847183)</td> <td>38         </td> <td>Bronx Park  </td> <td>2          </td> <td>Bronx  </td> <td>http://nyc.pediacities.com/Resource/Neighborhood/Bronx_Park</td> <td>Good         </td>\n",
              "        </tr>\n",
              "        <tr>\n",
              "            <td>NYCP1_01A</td> <td>1579618560</td> <td>40.8472 </td> <td>-73.8701 </td> <td>18  </td> <td>2   </td> <td>1   </td> <td>0   </td> <td>0   </td> <td>0   </td> <td>0   </td> <td>0   </td> <td>0   </td> <td>0   </td> <td>0    </td> <td>0    </td> <td>0    </td> <td>0    </td> <td>0    </td> <td>0    </td> <td>0    </td> <td>0    </td> <td>0    </td> <td>0    </td> <td>0    </td> <td>0    </td> <td>0    </td> <td>0    </td> <td>16.2       </td> <td>15.1    </td> <td>1.05</td> <td>1.18</td> <td>1.18 </td> <td>POINT (-73.870094 40.847183)</td> <td>38         </td> <td>Bronx Park  </td> <td>2          </td> <td>Bronx  </td> <td>http://nyc.pediacities.com/Resource/Neighborhood/Bronx_Park</td> <td>Good         </td>\n",
              "        </tr>\n",
              "        <tr>\n",
              "            <td>NYCP1_01A</td> <td>1579618560</td> <td>40.8472 </td> <td>-73.8701 </td> <td>18  </td> <td>1   </td> <td>0   </td> <td>0   </td> <td>0   </td> <td>0   </td> <td>0   </td> <td>0   </td> <td>0   </td> <td>0   </td> <td>0    </td> <td>0    </td> <td>0    </td> <td>0    </td> <td>0    </td> <td>0    </td> <td>0    </td> <td>0    </td> <td>0    </td> <td>0    </td> <td>0    </td> <td>0    </td> <td>0    </td> <td>0    </td> <td>16.1       </td> <td>15.1    </td> <td>0.74</td> <td>0.76</td> <td>0.76 </td> <td>POINT (-73.870094 40.847179)</td> <td>38         </td> <td>Bronx Park  </td> <td>2          </td> <td>Bronx  </td> <td>http://nyc.pediacities.com/Resource/Neighborhood/Bronx_Park</td> <td>Good         </td>\n",
              "        </tr>\n",
              "        <tr>\n",
              "            <td>NYCP1_01A</td> <td>1579618560</td> <td>40.8472 </td> <td>-73.8701 </td> <td>18  </td> <td>1   </td> <td>2   </td> <td>0   </td> <td>0   </td> <td>0   </td> <td>0   </td> <td>0   </td> <td>1   </td> <td>0   </td> <td>0    </td> <td>0    </td> <td>0    </td> <td>0    </td> <td>0    </td> <td>0    </td> <td>0    </td> <td>0    </td> <td>0    </td> <td>0    </td> <td>0    </td> <td>0    </td> <td>0    </td> <td>0    </td> <td>16.1       </td> <td>15.2    </td> <td>1.15</td> <td>4.48</td> <td>47.36</td> <td>POINT (-73.870094 40.847179)</td> <td>38         </td> <td>Bronx Park  </td> <td>2          </td> <td>Bronx  </td> <td>http://nyc.pediacities.com/Resource/Neighborhood/Bronx_Park</td> <td>Good         </td>\n",
              "        </tr>\n",
              "        <tr>\n",
              "            <td>NYCP1_01A</td> <td>1579618560</td> <td>40.8472 </td> <td>-73.8701 </td> <td>20  </td> <td>3   </td> <td>0   </td> <td>2   </td> <td>2   </td> <td>0   </td> <td>0   </td> <td>0   </td> <td>0   </td> <td>0   </td> <td>0    </td> <td>0    </td> <td>0    </td> <td>0    </td> <td>0    </td> <td>0    </td> <td>0    </td> <td>0    </td> <td>0    </td> <td>0    </td> <td>0    </td> <td>0    </td> <td>0    </td> <td>0    </td> <td>16         </td> <td>15.2    </td> <td>2.13</td> <td>5.77</td> <td>6.18 </td> <td>POINT (-73.870094 40.847179)</td> <td>38         </td> <td>Bronx Park  </td> <td>2          </td> <td>Bronx  </td> <td>http://nyc.pediacities.com/Resource/Neighborhood/Bronx_Park</td> <td>Good         </td>\n",
              "        </tr>\n",
              "        <tr>\n",
              "            <td>NYCP1_01A</td> <td>1579618560</td> <td>40.8472 </td> <td>-73.8701 </td> <td>20  </td> <td>0   </td> <td>0   </td> <td>0   </td> <td>0   </td> <td>0   </td> <td>0   </td> <td>0   </td> <td>0   </td> <td>0   </td> <td>0    </td> <td>0    </td> <td>0    </td> <td>0    </td> <td>0    </td> <td>0    </td> <td>0    </td> <td>0    </td> <td>0    </td> <td>0    </td> <td>0    </td> <td>0    </td> <td>0    </td> <td>0    </td> <td>15.9       </td> <td>15.3    </td> <td>0.72</td> <td>0.73</td> <td>0.73 </td> <td>POINT (-73.870094 40.847176)</td> <td>38         </td> <td>Bronx Park  </td> <td>2          </td> <td>Bronx  </td> <td>http://nyc.pediacities.com/Resource/Neighborhood/Bronx_Park</td> <td>Good         </td>\n",
              "        </tr>\n",
              "        <tr>\n",
              "            <td>NYCP1_01A</td> <td>1579618560</td> <td>40.8472 </td> <td>-73.8701 </td> <td>17  </td> <td>3   </td> <td>1   </td> <td>0   </td> <td>0   </td> <td>0   </td> <td>0   </td> <td>0   </td> <td>0   </td> <td>0   </td> <td>0    </td> <td>0    </td> <td>0    </td> <td>0    </td> <td>0    </td> <td>0    </td> <td>0    </td> <td>0    </td> <td>0    </td> <td>0    </td> <td>0    </td> <td>0    </td> <td>0    </td> <td>0    </td> <td>15.8       </td> <td>15.4    </td> <td>1.09</td> <td>1.22</td> <td>1.22 </td> <td>POINT (-73.870102 40.847172)</td> <td>38         </td> <td>Bronx Park  </td> <td>2          </td> <td>Bronx  </td> <td>http://nyc.pediacities.com/Resource/Neighborhood/Bronx_Park</td> <td>Good         </td>\n",
              "        </tr>\n",
              "        <tr>\n",
              "            <td>NYCP1_01A</td> <td>1579618560</td> <td>40.8472 </td> <td>-73.8701 </td> <td>31  </td> <td>4   </td> <td>0   </td> <td>0   </td> <td>0   </td> <td>1   </td> <td>0   </td> <td>0   </td> <td>0   </td> <td>0   </td> <td>0    </td> <td>0    </td> <td>0    </td> <td>0    </td> <td>0    </td> <td>0    </td> <td>0    </td> <td>0    </td> <td>0    </td> <td>0    </td> <td>0    </td> <td>0    </td> <td>0    </td> <td>0    </td> <td>15.8       </td> <td>15.4    </td> <td>1.69</td> <td>4.57</td> <td>5.82 </td> <td>POINT (-73.870094 40.847176)</td> <td>38         </td> <td>Bronx Park  </td> <td>2          </td> <td>Bronx  </td> <td>http://nyc.pediacities.com/Resource/Neighborhood/Bronx_Park</td> <td>Good         </td>\n",
              "        </tr>\n",
              "        <tr>\n",
              "            <td>NYCP1_01A</td> <td>1579618560</td> <td>40.8472 </td> <td>-73.8701 </td> <td>22  </td> <td>5   </td> <td>0   </td> <td>0   </td> <td>0   </td> <td>0   </td> <td>1   </td> <td>0   </td> <td>0   </td> <td>0   </td> <td>0    </td> <td>0    </td> <td>0    </td> <td>0    </td> <td>0    </td> <td>0    </td> <td>0    </td> <td>0    </td> <td>0    </td> <td>0    </td> <td>0    </td> <td>0    </td> <td>0    </td> <td>0    </td> <td>15.7       </td> <td>15.5    </td> <td>1.33</td> <td>5.61</td> <td>11.04</td> <td>POINT (-73.870102 40.847172)</td> <td>38         </td> <td>Bronx Park  </td> <td>2          </td> <td>Bronx  </td> <td>http://nyc.pediacities.com/Resource/Neighborhood/Bronx_Park</td> <td>Good         </td>\n",
              "        </tr>\n",
              "        <tr>\n",
              "            <td>NYCP1_01A</td> <td>1579618560</td> <td>40.8472 </td> <td>-73.8701 </td> <td>22  </td> <td>5   </td> <td>0   </td> <td>0   </td> <td>0   </td> <td>0   </td> <td>0   </td> <td>0   </td> <td>0   </td> <td>0   </td> <td>0    </td> <td>0    </td> <td>0    </td> <td>0    </td> <td>0    </td> <td>0    </td> <td>0    </td> <td>0    </td> <td>0    </td> <td>0    </td> <td>0    </td> <td>0    </td> <td>0    </td> <td>0    </td> <td>15.6       </td> <td>15.6    </td> <td>1.24</td> <td>1.29</td> <td>1.29 </td> <td>POINT (-73.870094 40.847168)</td> <td>38         </td> <td>Bronx Park  </td> <td>2          </td> <td>Bronx  </td> <td>http://nyc.pediacities.com/Resource/Neighborhood/Bronx_Park</td> <td>Good         </td>\n",
              "        </tr>\n",
              "    </tbody>\n",
              "</table>\n",
              "<p>... (118485 rows omitted)</p>"
            ]
          },
          "metadata": {},
          "execution_count": 41
        }
      ]
    },
    {
      "cell_type": "code",
      "source": [
        "#Task 4.3: Grouping the data by PM2.5 category to display the count\n",
        "Air_Quality_Category.group(\"PM25_Category\")"
      ],
      "metadata": {
        "colab": {
          "base_uri": "https://localhost:8080/",
          "height": 143
        },
        "id": "QXDbLSqLntKo",
        "outputId": "4716602a-578d-43da-e0eb-76d01604290e"
      },
      "execution_count": 42,
      "outputs": [
        {
          "output_type": "execute_result",
          "data": {
            "text/plain": [
              "PM25_Category | count\n",
              "Good          | 101851\n",
              "Moderate      | 12651\n",
              "Unhealthy     | 3993"
            ],
            "text/html": [
              "<table border=\"1\" class=\"dataframe\">\n",
              "    <thead>\n",
              "        <tr>\n",
              "            <th>PM25_Category</th> <th>count</th>\n",
              "        </tr>\n",
              "    </thead>\n",
              "    <tbody>\n",
              "        <tr>\n",
              "            <td>Good         </td> <td>101851</td>\n",
              "        </tr>\n",
              "        <tr>\n",
              "            <td>Moderate     </td> <td>12651 </td>\n",
              "        </tr>\n",
              "        <tr>\n",
              "            <td>Unhealthy    </td> <td>3993  </td>\n",
              "        </tr>\n",
              "    </tbody>\n",
              "</table>"
            ]
          },
          "metadata": {},
          "execution_count": 42
        }
      ]
    },
    {
      "cell_type": "markdown",
      "source": [
        "# Task 5: Simulate Random Sampling Using Tables (1 Mark)\n",
        "- Randomly sample 10% of the rows from the table without replacement using .sample().\n",
        "- Calculate the mean pm25 level for the sampled data.\n",
        "- Repeat the random sampling process 100 times and store the mean pm25 values from each iteration in a list.\n",
        "- Create a histogram of the 100 mean pm25 values to visualize the distribution of sample means."
      ],
      "metadata": {
        "id": "QPc8TD9i2CCu"
      }
    },
    {
      "cell_type": "code",
      "source": [
        "#Task 5.1: Sampling 10% of the Air Quality Data\n",
        "Sample_Data = Air_Quality_Data.sample(round(0.10*Air_Quality_Data.num_rows))\n",
        "Sample_Data"
      ],
      "metadata": {
        "colab": {
          "base_uri": "https://localhost:8080/",
          "height": 760
        },
        "id": "hU69bjl-n45e",
        "outputId": "3973e4ed-3ed2-4bc0-8dee-72ecf8f602b1"
      },
      "execution_count": 54,
      "outputs": [
        {
          "output_type": "execute_result",
          "data": {
            "text/plain": [
              "SensorID  | time       | latitude | longitude | bin0 | bin1 | bin2 | bin3 | bin4 | bin5 | bin6 | bin7 | bin8 | bin9 | bin10 | bin11 | bin12 | bin13 | bin14 | bin15 | bin16 | bin17 | bin18 | bin19 | bin20 | bin21 | bin22 | bin23 | temperature | humidity | pm1  | pm25 | pm10  | geometry                     | index_right | neighborhood    | boroughCode | borough   | @id\n",
              "NYCP1_01A | 1580141340 | 40.8647  | -73.8989  | 55   | 9    | 1    | 0    | 0    | 1    | 0    | 0    | 0    | 0    | 0     | 0     | 0     | 0     | 0     | 0     | 0     | 0     | 0     | 0     | 0     | 0     | 0     | 0     | 6.5         | 58.5     | 5    | 9.7  | 11.63 | POINT (-73.89888 40.864727)  | 105         | Fordham         | 2           | Bronx     | http://nyc.pediacities.com/Resource/Neighborhood/Fordham\n",
              "NYCP1_01A | 1579562340 | 40.8073  | -73.9434  | 10   | 1    | 0    | 0    | 1    | 0    | 1    | 0    | 0    | 0    | 0     | 0     | 0     | 0     | 0     | 0     | 0     | 0     | 0     | 0     | 0     | 0     | 0     | 0     | -1.8        | 29.9     | 0.83 | 6.52 | 12.23 | POINT (-73.943443 40.80735)  | 128         | Harlem          | 1           | Manhattan | http://nyc.pediacities.com/Resource/Neighborhood/Harlem\n",
              "NYCP1_01A | 1580240460 | 40.8768  | -73.8785  | 97   | 2    | 0    | 0    | 0    | 0    | 0    | 0    | 0    | 0    | 0     | 0     | 0     | 0     | 0     | 0     | 0     | 0     | 0     | 0     | 0     | 0     | 0     | 0     | 5.8         | 46.1     | 3.47 | 3.53 | 3.53  | POINT (-73.878487 40.876766) | 209         | Norwood         | 2           | Bronx     | http://nyc.pediacities.com/Resource/Neighborhood/Norwood\n",
              "NYCP1_01A | 1580141160 | 40.8677  | -73.8971  | 61   | 4    | 1    | 0    | 0    | 1    | 0    | 0    | 0    | 0    | 0     | 0     | 0     | 0     | 0     | 0     | 0     | 0     | 0     | 0     | 0     | 0     | 0     | 0     | 6.3         | 58.6     | 2.92 | 5.83 | 7.05  | POINT (-73.897057 40.867687) | 105         | Fordham         | 2           | Bronx     | http://nyc.pediacities.com/Resource/Neighborhood/Fordham\n",
              "NYCP1_01A | 1580327460 | 40.8142  | -73.889   | 8    | 0    | 1    | 1    | 0    | 0    | 0    | 0    | 0    | 0    | 0     | 0     | 0     | 0     | 0     | 0     | 0     | 0     | 0     | 0     | 0     | 0     | 0     | 0     | 7           | 32.1     | 1.03 | 1.81 | 1.84  | POINT (-73.888954 40.814205) | 140         | Hunts Point     | 2           | Bronx     | http://nyc.pediacities.com/Resource/Neighborhood/Hunts_Point\n",
              "NYCP1_01A | 1580747460 | 40.8107  | -73.8821  | 19   | 1    | 0    | 0    | 0    | 1    | 0    | 0    | 0    | 0    | 0     | 0     | 0     | 0     | 0     | 0     | 0     | 0     | 0     | 0     | 0     | 0     | 0     | 0     | 10.8        | 50.2     | 0.88 | 3.48 | 4.61  | POINT (-73.882072 40.810726) | 140         | Hunts Point     | 2           | Bronx     | http://nyc.pediacities.com/Resource/Neighborhood/Hunts_Point\n",
              "NYCP1_01A | 1579636140 | 40.8469  | -73.8702  | 13   | 0    | 1    | 0    | 0    | 0    | 0    | 0    | 0    | 0    | 0     | 0     | 0     | 0     | 0     | 0     | 0     | 0     | 0     | 0     | 0     | 0     | 0     | 0     | 29.3        | 6.9      | 0.52 | 0.6  | 0.6   | POINT (-73.870186 40.846905) | 38          | Bronx Park      | 2           | Bronx     | http://nyc.pediacities.com/Resource/Neighborhood/Bronx_Park\n",
              "NYCP1_01A | 1579621440 | 40.8475  | -73.8695  | 2    | 0    | 1    | 0    | 0    | 0    | 0    | 0    | 0    | 0    | 0     | 0     | 0     | 0     | 0     | 0     | 0     | 0     | 0     | 0     | 0     | 0     | 0     | 0     | 0.7         | 35.9     | 0.93 | 1.26 | 1.26  | POINT (-73.86953 40.847542)  | 38          | Bronx Park      | 2           | Bronx     | http://nyc.pediacities.com/Resource/Neighborhood/Bronx_Park\n",
              "NYCP1_01A | 1580237400 | 40.8235  | -73.9001  | 2    | 0    | 0    | 0    | 0    | 0    | 0    | 0    | 0    | 0    | 0     | 0     | 0     | 0     | 0     | 0     | 0     | 0     | 0     | 0     | 0     | 0     | 0     | 0     | 8.1         | 41       | 0.09 | 0.09 | 0.09  | POINT (-73.900116 40.823475) | 176         | Longwood        | 2           | Bronx     | http://nyc.pediacities.com/Resource/Neighborhood/Longwood\n",
              "NYCP1_01A | 1579908660 | 40.8383  | -73.8826  | 6    | 0    | 0    | 0    | 0    | 0    | 0    | 0    | 0    | 0    | 0     | 0     | 0     | 0     | 0     | 0     | 0     | 0     | 0     | 0     | 0     | 0     | 0     | 0     | 8.4         | 42.8     | 1.63 | 1.65 | 1.65  | POINT (-73.882568 40.838341) | 84          | East Morrisania | 2           | Bronx     | http://nyc.pediacities.com/Resource/Neighborhood/East_Mo ...\n",
              "... (11840 rows omitted)"
            ],
            "text/html": [
              "<table border=\"1\" class=\"dataframe\">\n",
              "    <thead>\n",
              "        <tr>\n",
              "            <th>SensorID</th> <th>time</th> <th>latitude</th> <th>longitude</th> <th>bin0</th> <th>bin1</th> <th>bin2</th> <th>bin3</th> <th>bin4</th> <th>bin5</th> <th>bin6</th> <th>bin7</th> <th>bin8</th> <th>bin9</th> <th>bin10</th> <th>bin11</th> <th>bin12</th> <th>bin13</th> <th>bin14</th> <th>bin15</th> <th>bin16</th> <th>bin17</th> <th>bin18</th> <th>bin19</th> <th>bin20</th> <th>bin21</th> <th>bin22</th> <th>bin23</th> <th>temperature</th> <th>humidity</th> <th>pm1</th> <th>pm25</th> <th>pm10</th> <th>geometry</th> <th>index_right</th> <th>neighborhood</th> <th>boroughCode</th> <th>borough</th> <th>@id</th>\n",
              "        </tr>\n",
              "    </thead>\n",
              "    <tbody>\n",
              "        <tr>\n",
              "            <td>NYCP1_01A</td> <td>1580141340</td> <td>40.8647 </td> <td>-73.8989 </td> <td>55  </td> <td>9   </td> <td>1   </td> <td>0   </td> <td>0   </td> <td>1   </td> <td>0   </td> <td>0   </td> <td>0   </td> <td>0   </td> <td>0    </td> <td>0    </td> <td>0    </td> <td>0    </td> <td>0    </td> <td>0    </td> <td>0    </td> <td>0    </td> <td>0    </td> <td>0    </td> <td>0    </td> <td>0    </td> <td>0    </td> <td>0    </td> <td>6.5        </td> <td>58.5    </td> <td>5   </td> <td>9.7 </td> <td>11.63</td> <td>POINT (-73.89888 40.864727) </td> <td>105        </td> <td>Fordham        </td> <td>2          </td> <td>Bronx    </td> <td>http://nyc.pediacities.com/Resource/Neighborhood/Fordham    </td>\n",
              "        </tr>\n",
              "        <tr>\n",
              "            <td>NYCP1_01A</td> <td>1579562340</td> <td>40.8073 </td> <td>-73.9434 </td> <td>10  </td> <td>1   </td> <td>0   </td> <td>0   </td> <td>1   </td> <td>0   </td> <td>1   </td> <td>0   </td> <td>0   </td> <td>0   </td> <td>0    </td> <td>0    </td> <td>0    </td> <td>0    </td> <td>0    </td> <td>0    </td> <td>0    </td> <td>0    </td> <td>0    </td> <td>0    </td> <td>0    </td> <td>0    </td> <td>0    </td> <td>0    </td> <td>-1.8       </td> <td>29.9    </td> <td>0.83</td> <td>6.52</td> <td>12.23</td> <td>POINT (-73.943443 40.80735) </td> <td>128        </td> <td>Harlem         </td> <td>1          </td> <td>Manhattan</td> <td>http://nyc.pediacities.com/Resource/Neighborhood/Harlem     </td>\n",
              "        </tr>\n",
              "        <tr>\n",
              "            <td>NYCP1_01A</td> <td>1580240460</td> <td>40.8768 </td> <td>-73.8785 </td> <td>97  </td> <td>2   </td> <td>0   </td> <td>0   </td> <td>0   </td> <td>0   </td> <td>0   </td> <td>0   </td> <td>0   </td> <td>0   </td> <td>0    </td> <td>0    </td> <td>0    </td> <td>0    </td> <td>0    </td> <td>0    </td> <td>0    </td> <td>0    </td> <td>0    </td> <td>0    </td> <td>0    </td> <td>0    </td> <td>0    </td> <td>0    </td> <td>5.8        </td> <td>46.1    </td> <td>3.47</td> <td>3.53</td> <td>3.53 </td> <td>POINT (-73.878487 40.876766)</td> <td>209        </td> <td>Norwood        </td> <td>2          </td> <td>Bronx    </td> <td>http://nyc.pediacities.com/Resource/Neighborhood/Norwood    </td>\n",
              "        </tr>\n",
              "        <tr>\n",
              "            <td>NYCP1_01A</td> <td>1580141160</td> <td>40.8677 </td> <td>-73.8971 </td> <td>61  </td> <td>4   </td> <td>1   </td> <td>0   </td> <td>0   </td> <td>1   </td> <td>0   </td> <td>0   </td> <td>0   </td> <td>0   </td> <td>0    </td> <td>0    </td> <td>0    </td> <td>0    </td> <td>0    </td> <td>0    </td> <td>0    </td> <td>0    </td> <td>0    </td> <td>0    </td> <td>0    </td> <td>0    </td> <td>0    </td> <td>0    </td> <td>6.3        </td> <td>58.6    </td> <td>2.92</td> <td>5.83</td> <td>7.05 </td> <td>POINT (-73.897057 40.867687)</td> <td>105        </td> <td>Fordham        </td> <td>2          </td> <td>Bronx    </td> <td>http://nyc.pediacities.com/Resource/Neighborhood/Fordham    </td>\n",
              "        </tr>\n",
              "        <tr>\n",
              "            <td>NYCP1_01A</td> <td>1580327460</td> <td>40.8142 </td> <td>-73.889  </td> <td>8   </td> <td>0   </td> <td>1   </td> <td>1   </td> <td>0   </td> <td>0   </td> <td>0   </td> <td>0   </td> <td>0   </td> <td>0   </td> <td>0    </td> <td>0    </td> <td>0    </td> <td>0    </td> <td>0    </td> <td>0    </td> <td>0    </td> <td>0    </td> <td>0    </td> <td>0    </td> <td>0    </td> <td>0    </td> <td>0    </td> <td>0    </td> <td>7          </td> <td>32.1    </td> <td>1.03</td> <td>1.81</td> <td>1.84 </td> <td>POINT (-73.888954 40.814205)</td> <td>140        </td> <td>Hunts Point    </td> <td>2          </td> <td>Bronx    </td> <td>http://nyc.pediacities.com/Resource/Neighborhood/Hunts_Point</td>\n",
              "        </tr>\n",
              "        <tr>\n",
              "            <td>NYCP1_01A</td> <td>1580747460</td> <td>40.8107 </td> <td>-73.8821 </td> <td>19  </td> <td>1   </td> <td>0   </td> <td>0   </td> <td>0   </td> <td>1   </td> <td>0   </td> <td>0   </td> <td>0   </td> <td>0   </td> <td>0    </td> <td>0    </td> <td>0    </td> <td>0    </td> <td>0    </td> <td>0    </td> <td>0    </td> <td>0    </td> <td>0    </td> <td>0    </td> <td>0    </td> <td>0    </td> <td>0    </td> <td>0    </td> <td>10.8       </td> <td>50.2    </td> <td>0.88</td> <td>3.48</td> <td>4.61 </td> <td>POINT (-73.882072 40.810726)</td> <td>140        </td> <td>Hunts Point    </td> <td>2          </td> <td>Bronx    </td> <td>http://nyc.pediacities.com/Resource/Neighborhood/Hunts_Point</td>\n",
              "        </tr>\n",
              "        <tr>\n",
              "            <td>NYCP1_01A</td> <td>1579636140</td> <td>40.8469 </td> <td>-73.8702 </td> <td>13  </td> <td>0   </td> <td>1   </td> <td>0   </td> <td>0   </td> <td>0   </td> <td>0   </td> <td>0   </td> <td>0   </td> <td>0   </td> <td>0    </td> <td>0    </td> <td>0    </td> <td>0    </td> <td>0    </td> <td>0    </td> <td>0    </td> <td>0    </td> <td>0    </td> <td>0    </td> <td>0    </td> <td>0    </td> <td>0    </td> <td>0    </td> <td>29.3       </td> <td>6.9     </td> <td>0.52</td> <td>0.6 </td> <td>0.6  </td> <td>POINT (-73.870186 40.846905)</td> <td>38         </td> <td>Bronx Park     </td> <td>2          </td> <td>Bronx    </td> <td>http://nyc.pediacities.com/Resource/Neighborhood/Bronx_Park </td>\n",
              "        </tr>\n",
              "        <tr>\n",
              "            <td>NYCP1_01A</td> <td>1579621440</td> <td>40.8475 </td> <td>-73.8695 </td> <td>2   </td> <td>0   </td> <td>1   </td> <td>0   </td> <td>0   </td> <td>0   </td> <td>0   </td> <td>0   </td> <td>0   </td> <td>0   </td> <td>0    </td> <td>0    </td> <td>0    </td> <td>0    </td> <td>0    </td> <td>0    </td> <td>0    </td> <td>0    </td> <td>0    </td> <td>0    </td> <td>0    </td> <td>0    </td> <td>0    </td> <td>0    </td> <td>0.7        </td> <td>35.9    </td> <td>0.93</td> <td>1.26</td> <td>1.26 </td> <td>POINT (-73.86953 40.847542) </td> <td>38         </td> <td>Bronx Park     </td> <td>2          </td> <td>Bronx    </td> <td>http://nyc.pediacities.com/Resource/Neighborhood/Bronx_Park </td>\n",
              "        </tr>\n",
              "        <tr>\n",
              "            <td>NYCP1_01A</td> <td>1580237400</td> <td>40.8235 </td> <td>-73.9001 </td> <td>2   </td> <td>0   </td> <td>0   </td> <td>0   </td> <td>0   </td> <td>0   </td> <td>0   </td> <td>0   </td> <td>0   </td> <td>0   </td> <td>0    </td> <td>0    </td> <td>0    </td> <td>0    </td> <td>0    </td> <td>0    </td> <td>0    </td> <td>0    </td> <td>0    </td> <td>0    </td> <td>0    </td> <td>0    </td> <td>0    </td> <td>0    </td> <td>8.1        </td> <td>41      </td> <td>0.09</td> <td>0.09</td> <td>0.09 </td> <td>POINT (-73.900116 40.823475)</td> <td>176        </td> <td>Longwood       </td> <td>2          </td> <td>Bronx    </td> <td>http://nyc.pediacities.com/Resource/Neighborhood/Longwood   </td>\n",
              "        </tr>\n",
              "        <tr>\n",
              "            <td>NYCP1_01A</td> <td>1579908660</td> <td>40.8383 </td> <td>-73.8826 </td> <td>6   </td> <td>0   </td> <td>0   </td> <td>0   </td> <td>0   </td> <td>0   </td> <td>0   </td> <td>0   </td> <td>0   </td> <td>0   </td> <td>0    </td> <td>0    </td> <td>0    </td> <td>0    </td> <td>0    </td> <td>0    </td> <td>0    </td> <td>0    </td> <td>0    </td> <td>0    </td> <td>0    </td> <td>0    </td> <td>0    </td> <td>0    </td> <td>8.4        </td> <td>42.8    </td> <td>1.63</td> <td>1.65</td> <td>1.65 </td> <td>POINT (-73.882568 40.838341)</td> <td>84         </td> <td>East Morrisania</td> <td>2          </td> <td>Bronx    </td> <td>http://nyc.pediacities.com/Resource/Neighborhood/East_Mo ...</td>\n",
              "        </tr>\n",
              "    </tbody>\n",
              "</table>\n",
              "<p>... (11840 rows omitted)</p>"
            ]
          },
          "metadata": {},
          "execution_count": 54
        }
      ]
    },
    {
      "cell_type": "code",
      "source": [
        "#Task 5.2: Calculating PM2.5 mean for the sampled data\n",
        "Sample_Data.column(\"pm25\").mean()"
      ],
      "metadata": {
        "colab": {
          "base_uri": "https://localhost:8080/"
        },
        "id": "2SKVBj4hotpP",
        "outputId": "85220f4f-1aff-4523-8e00-6940674692ca"
      },
      "execution_count": 55,
      "outputs": [
        {
          "output_type": "execute_result",
          "data": {
            "text/plain": [
              "7.1552599156118131"
            ]
          },
          "metadata": {},
          "execution_count": 55
        }
      ]
    },
    {
      "cell_type": "code",
      "source": [
        "#Task 5.3: Creating a loop to sample 10% of Air Quality Data 100 times\n",
        "PM25_mean = []\n",
        "for i in range(100):\n",
        "  sample_data = Air_Quality_Data.sample(round(0.10*Air_Quality_Data.num_rows))\n",
        "  PM25_mean.append(sample_data.column(\"pm25\").mean())\n",
        "\n",
        "PM25_mean"
      ],
      "metadata": {
        "colab": {
          "base_uri": "https://localhost:8080/"
        },
        "id": "LF_VCdYJo2AP",
        "outputId": "e472ba51-158c-41e1-d322-043e1db9f60c"
      },
      "execution_count": 59,
      "outputs": [
        {
          "output_type": "execute_result",
          "data": {
            "text/plain": [
              "[7.5494101265822779,\n",
              " 7.1680919831223626,\n",
              " 6.9959746835443042,\n",
              " 7.4510337552742616,\n",
              " 7.1658843881856535,\n",
              " 7.6158540084388182,\n",
              " 7.3618700421940932,\n",
              " 7.3328270042194097,\n",
              " 7.5360388185654008,\n",
              " 7.1828962025316461,\n",
              " 7.4502362869198313,\n",
              " 7.2926464135021094,\n",
              " 7.5464270042194093,\n",
              " 7.2782556962025318,\n",
              " 7.4316227848101271,\n",
              " 7.397611814345991,\n",
              " 7.1503097046413497,\n",
              " 7.4065468354430379,\n",
              " 7.5425907172995776,\n",
              " 7.2648978902953578,\n",
              " 7.3262919831223625,\n",
              " 7.2425924050632915,\n",
              " 7.2053864978902959,\n",
              " 7.141955274261603,\n",
              " 6.9987012658227847,\n",
              " 7.3320506329113915,\n",
              " 7.2018295358649782,\n",
              " 7.4202582278481009,\n",
              " 7.0865257383966247,\n",
              " 7.4154995780590731,\n",
              " 7.2526253164556964,\n",
              " 7.7688472573839675,\n",
              " 7.4790902953586498,\n",
              " 7.4900759493670881,\n",
              " 7.2738962025316463,\n",
              " 7.5355434599156119,\n",
              " 7.437138396624472,\n",
              " 7.2543021097046418,\n",
              " 7.3821848101265832,\n",
              " 7.0917586497890293,\n",
              " 7.2833375527426165,\n",
              " 7.3882405063291134,\n",
              " 7.169777215189872,\n",
              " 7.9122767932489451,\n",
              " 7.3011881856540084,\n",
              " 7.1331341772151911,\n",
              " 7.319027004219409,\n",
              " 7.3385578059071737,\n",
              " 7.4472008438818564,\n",
              " 7.2997021097046417,\n",
              " 7.3598151898734177,\n",
              " 7.7094168776371301,\n",
              " 7.4193324894514765,\n",
              " 7.0792430379746838,\n",
              " 7.2624008438818564,\n",
              " 7.3577713080168774,\n",
              " 7.4824143459915611,\n",
              " 7.3809924050632905,\n",
              " 7.2883687763713079,\n",
              " 7.2439890295358653,\n",
              " 7.3110025316455687,\n",
              " 7.4133789029535864,\n",
              " 7.2567983122362865,\n",
              " 6.9691400843881857,\n",
              " 7.0238675105485235,\n",
              " 7.317589873417722,\n",
              " 7.4626270042194083,\n",
              " 7.5736852320675103,\n",
              " 7.4158109704641353,\n",
              " 7.0656565400843885,\n",
              " 7.290582278481013,\n",
              " 7.6187552742616038,\n",
              " 7.1360354430379749,\n",
              " 7.449771308016877,\n",
              " 7.0910886075949362,\n",
              " 7.2938177215189874,\n",
              " 7.3724523206751051,\n",
              " 7.1553881856540089,\n",
              " 7.5044894514767941,\n",
              " 7.3750970464135017,\n",
              " 7.184929113924051,\n",
              " 7.2907620253164556,\n",
              " 7.2611662447257377,\n",
              " 7.3937578059071729,\n",
              " 7.3207848101265816,\n",
              " 7.4928911392405073,\n",
              " 7.6660556962025312,\n",
              " 7.3767797468354424,\n",
              " 7.7795097046413506,\n",
              " 7.8587299578059069,\n",
              " 7.1584945147679324,\n",
              " 7.2105578059071727,\n",
              " 7.1391721518987348,\n",
              " 7.2449240506329122,\n",
              " 7.4248118143459907,\n",
              " 7.364554430379747,\n",
              " 7.3393518987341775,\n",
              " 7.2865400843881858,\n",
              " 7.2074582278481021,\n",
              " 7.2233324894514777]"
            ]
          },
          "metadata": {},
          "execution_count": 59
        }
      ]
    },
    {
      "cell_type": "code",
      "source": [
        "#Task 5.4: Displaying the PM2.5 for sampled data in histogram\n",
        "plt.hist(PM25_mean)\n",
        "plt.title(\"Sample PM2.5 mean\")\n",
        "plt.xlabel(\"PM2.5 mean\")\n",
        "plt.ylabel(\"percent per unit\")"
      ],
      "metadata": {
        "colab": {
          "base_uri": "https://localhost:8080/",
          "height": 525
        },
        "id": "e1w05lwDpbfP",
        "outputId": "22a84347-41e6-49f5-85e6-9114d55d5022"
      },
      "execution_count": 61,
      "outputs": [
        {
          "output_type": "execute_result",
          "data": {
            "text/plain": [
              "Text(0, 0.5, 'percent per unit')"
            ]
          },
          "metadata": {},
          "execution_count": 61
        },
        {
          "output_type": "display_data",
          "data": {
            "text/plain": [
              "<Figure size 640x480 with 1 Axes>"
            ],
            "image/png": "[encoded data removed]"
          },
          "metadata": {}
        }
      ]
    },
    {
      "cell_type": "markdown",
      "source": [
        "# Submission Guidelines\n",
        "- Add a \"Open in Colab\" button at the top of your notebook using the following Markdown code:\n",
        "[![Open In Colab](https://colab.research.google.com/assets/colab-badge.svg)](https://colab.research.google.com/github/your-repo-path/notebook.ipynb)\n",
        "\n",
        "- Upload your completed Jupyter Notebook to a GitHub repository.\n",
        "- Submit the link to your GitHub repository in the Blackboard LMS along with the Jupyter solution file.\n",
        "- <font color = red size = 6> ATTENTION!!! </font> Students are encouraged to work on groups, however the submission should be individual and each student should have her/his own unique final assignment solution, which is to be submitted in BB"
      ],
      "metadata": {
        "id": "kM16Gy602H1X"
      }
    },
    {
      "cell_type": "markdown",
      "source": [
        "# Grading Rubric\n",
        "- Each task is worth 1 mark , based on the following criteria:\n",
        "\n",
        "- Correctness : The solution produces the expected output using the Table abstraction .\n",
        "- Clarity : Code is well-organized, readable, and includes comments explaining key steps.\n",
        "- Creativity : Visualizations and analyses are presented in an engaging and insightful manner."
      ],
      "metadata": {
        "id": "dY2-OB4A2huX"
      }
    },
    {
      "cell_type": "markdown",
      "source": [
        "# Hints for Success\n",
        "- Use the Table abstraction methods like .select(), .where(), .group(), .apply(), and .sample() for data manipulation.\n",
        "- Refer to the slides and examples from book Chapters 6, 7, 8, and 9 for guidance on tables, functions, visualizations, and randomness.\n",
        "- Test your code frequently to ensure it runs without errors."
      ],
      "metadata": {
        "id": "0GlfWQnV2r9v"
      }
    }
  ]
}