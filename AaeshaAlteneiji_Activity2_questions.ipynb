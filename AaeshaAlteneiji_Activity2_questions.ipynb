{
  "nbformat": 4,
  "nbformat_minor": 0,
  "metadata": {
    "colab": {
      "provenance": []
    },
    "kernelspec": {
      "name": "python3",
      "display_name": "Python 3"
    },
    "language_info": {
      "name": "python"
    }
  },
  "cells": [
    {
      "cell_type": "markdown",
      "source": [
        "# Activity #2 (5 marks)"
      ],
      "metadata": {
        "id": "9Hr2lLFuZjja"
      }
    },
    {
      "cell_type": "markdown",
      "source": [
        "\n",
        "Class Activity: Analyzing NYC Hyperlocal Air Quality Data with Spatial Join"
      ],
      "metadata": {
        "id": "bEtXiTwI-yIv"
      }
    },
    {
      "cell_type": "markdown",
      "source": [
        "# Objective:\n",
        "- This activity reinforces concepts from Chapters 6 (Tables), 7 (Visualization), 8 (Functions and Tables), and 9 (Randomness). Students will analyze NYC hyperlocal air quality data using Python in a Jupyter Notebook (Google Colab). The focus will be on leveraging the Table abstraction wherever possible. Additionally, students will use spatial join techniques to combine air quality sensor readings with geographic data."
      ],
      "metadata": {
        "id": "6i3-zemYyZAu"
      }
    },
    {
      "cell_type": "markdown",
      "source": [
        "given a csv file containing longitude, latitude , and pm10  columns [Air Quality data](https://raw.githubusercontent.com/IsamAljawarneh/datasets/master/data/NYC_PM.csv) representing readings of low cost air quality sensor mounted on moving vehicles, in addition to a geojson file containing polygons representing administrative divisions of NYC city known as neighbourhoods [nyc_polygon.geojson](https://raw.githubusercontent.com/IsamAljawarneh/datasets/master/data/nyc_polygon.geojson).\n",
        "# Dataset Description\n",
        "- Air Quality Sensor Readings (NYC_PM.csv) :\n",
        "Attributes: SensorID, time, temperature, humidity, pm25,\n",
        "Focus attributes: temperature, humidity, pm1,pm25,pm10,\n",
        "- City Polygons (nyc_polygon.geojson) :\n",
        "Contains polygons representing neighborhoods or boroughs in NYC.\n",
        "Used for spatially joining geographic information with air quality data."
      ],
      "metadata": {
        "id": "MnPCkUN9-lzy"
      }
    },
    {
      "cell_type": "markdown",
      "source": [
        "## **part - A** preprocessing [0 marks]\n",
        "\n",
        "do all tasks and the subtasks!"
      ],
      "metadata": {
        "id": "_kuVRsJkAh9n"
      }
    },
    {
      "cell_type": "markdown",
      "source": [
        "# Onboarding Code Provided\n",
        "- The following code will be provided in an onboarding Jupyter Notebook to help students get started:\n",
        "\n"
      ],
      "metadata": {
        "id": "cXRH1R-SzPAs"
      }
    },
    {
      "cell_type": "code",
      "source": [
        "'''from google.colab import drive\n",
        "drive.mount('/content/drive')'''"
      ],
      "metadata": {
        "colab": {
          "base_uri": "https://localhost:8080/",
          "height": 35
        },
        "id": "R4ArO-FctZIu",
        "outputId": "b29e69e9-f0da-4ad2-b114-51f1a44f0ff1"
      },
      "execution_count": 1,
      "outputs": [
        {
          "output_type": "execute_result",
          "data": {
            "text/plain": [
              "\"from google.colab import drive\\ndrive.mount('/content/drive')\""
            ],
            "application/vnd.google.colaboratory.intrinsic+json": {
              "type": "string"
            }
          },
          "metadata": {},
          "execution_count": 1
        }
      ]
    },
    {
      "cell_type": "markdown",
      "source": [
        "import necessary libraries"
      ],
      "metadata": {
        "id": "9o9eM8IICM-1"
      }
    },
    {
      "cell_type": "code",
      "source": [
        "import pandas as pd\n",
        "import geopandas as gpd\n",
        "import numpy as np\n",
        "import matplotlib.pyplot as plt"
      ],
      "metadata": {
        "id": "DIyY1q36ta3G"
      },
      "execution_count": 2,
      "outputs": []
    },
    {
      "cell_type": "code",
      "source": [
        "from datascience import *\n",
        "%matplotlib inline\n",
        "#path_data = '../../../assets/data/'\n",
        "import matplotlib.pyplot as plt\n",
        "plt.style.use('fivethirtyeight')\n",
        "import numpy as np"
      ],
      "metadata": {
        "id": "8ipkPRynmWGz"
      },
      "execution_count": 3,
      "outputs": []
    },
    {
      "cell_type": "markdown",
      "source": [
        "###1. Read the CSV file containing PM sensor readings\n",
        " & Read the GeoJSON file containing neighborhood boundaries into a GeoDataFrame"
      ],
      "metadata": {
        "id": "11VvbD-a6ur8"
      }
    },
    {
      "cell_type": "code",
      "source": [
        "\n",
        "# Step 1: Read the CSV file containing PM10 sensor readings\n",
        "pm10_data = pd.read_csv('https://raw.githubusercontent.com/IsamAljawarneh/datasets/master/data/NYC_PM.csv',index_col=False)\n",
        "\n",
        "# Step 2: Read the GeoJSON file containing neighborhood boundaries into a GeoDataFrame\n",
        "nyc_neighborhoods = gpd.read_file('https://raw.githubusercontent.com/IsamAljawarneh/datasets/master/data/nyc_polygon.geojson')\n"
      ],
      "metadata": {
        "id": "CYk7KfJqueQW"
      },
      "execution_count": 4,
      "outputs": []
    },
    {
      "cell_type": "code",
      "source": [
        "#pm10_data.dtypes"
      ],
      "metadata": {
        "id": "VAMLIDAKu289"
      },
      "execution_count": 5,
      "outputs": []
    },
    {
      "cell_type": "markdown",
      "source": [
        "### 2. convert the csv into a geodataframe and join it (sjoin) with the geojson, assign a coordinate reference system (CRS) the csv geodataframe which is identical to that of the geojson file, then perform the join, the result is a geodataframe, convert it to dataframe, and select pm10, neighborhood columns in a new dataframe"
      ],
      "metadata": {
        "id": "tKKuGLIl682s"
      }
    },
    {
      "cell_type": "code",
      "source": [
        "pm10_gdf = gpd.GeoDataFrame(pm10_data, geometry=gpd.points_from_xy(pm10_data.longitude, pm10_data.latitude))\n",
        "merged_data = gpd.sjoin(pm10_gdf, nyc_neighborhoods, how='inner', predicate='within')"
      ],
      "metadata": {
        "id": "LDdZ3JM9vABk",
        "colab": {
          "base_uri": "https://localhost:8080/"
        },
        "outputId": "f8ca0a11-a72d-4fb2-d219-369d986aa255"
      },
      "execution_count": 6,
      "outputs": [
        {
          "output_type": "stream",
          "name": "stderr",
          "text": [
            "<ipython-input-6-d43866676e2a>:2: UserWarning: CRS mismatch between the CRS of left geometries and the CRS of right geometries.\n",
            "Use `to_crs()` to reproject one of the input geometries to match the CRS of the other.\n",
            "\n",
            "Left CRS: None\n",
            "Right CRS: EPSG:4326\n",
            "\n",
            "  merged_data = gpd.sjoin(pm10_gdf, nyc_neighborhoods, how='inner', predicate='within')\n"
          ]
        }
      ]
    },
    {
      "cell_type": "code",
      "source": [
        "#merged_data.dtypes"
      ],
      "metadata": {
        "id": "4YTL56jpvPDW"
      },
      "execution_count": 7,
      "outputs": []
    },
    {
      "cell_type": "code",
      "source": [
        "pollution_data = merged_data[['pm10','neighborhood']]"
      ],
      "metadata": {
        "id": "1XPU0kp4hwnf"
      },
      "execution_count": 8,
      "outputs": []
    },
    {
      "cell_type": "code",
      "source": [
        "pollution_data.shape[0]"
      ],
      "metadata": {
        "colab": {
          "base_uri": "https://localhost:8080/"
        },
        "id": "T3gx_my1iAoi",
        "outputId": "c61ce8c1-0508-48da-b578-ed4590a13ecc"
      },
      "execution_count": 9,
      "outputs": [
        {
          "output_type": "execute_result",
          "data": {
            "text/plain": [
              "118495"
            ]
          },
          "metadata": {},
          "execution_count": 9
        }
      ]
    },
    {
      "cell_type": "code",
      "source": [
        "#merged_data.rename(columns={'neighborhood': 'neighborhood1'}, inplace=True)"
      ],
      "metadata": {
        "id": "P4M9bOYqy09e"
      },
      "execution_count": 10,
      "outputs": []
    },
    {
      "cell_type": "code",
      "source": [
        "type(pollution_data)"
      ],
      "metadata": {
        "colab": {
          "base_uri": "https://localhost:8080/",
          "height": 204
        },
        "id": "a8C-waCXk8JE",
        "outputId": "4a1c6d36-08ac-4e01-fd35-3070bc222a71"
      },
      "execution_count": 11,
      "outputs": [
        {
          "output_type": "execute_result",
          "data": {
            "text/plain": [
              "pandas.core.frame.DataFrame"
            ],
            "text/html": [
              "<div style=\"max-width:800px; border: 1px solid var(--colab-border-color);\"><style>\n",
              "      pre.function-repr-contents {\n",
              "        overflow-x: auto;\n",
              "        padding: 8px 12px;\n",
              "        max-height: 500px;\n",
              "      }\n",
              "\n",
              "      pre.function-repr-contents.function-repr-contents-collapsed {\n",
              "        cursor: pointer;\n",
              "        max-height: 100px;\n",
              "      }\n",
              "    </style>\n",
              "    <pre style=\"white-space: initial; background:\n",
              "         var(--colab-secondary-surface-color); padding: 8px 12px;\n",
              "         border-bottom: 1px solid var(--colab-border-color);\"><b>pandas.core.frame.DataFrame</b><br/>def __init__(data=None, index: Axes | None=None, columns: Axes | None=None, dtype: Dtype | None=None, copy: bool | None=None) -&gt; None</pre><pre class=\"function-repr-contents function-repr-contents-collapsed\" style=\"\"><a class=\"filepath\" style=\"display:none\" href=\"#\">/usr/local/lib/python3.11/dist-packages/pandas/core/frame.py</a>Two-dimensional, size-mutable, potentially heterogeneous tabular data.\n",
              "\n",
              "Data structure also contains labeled axes (rows and columns).\n",
              "Arithmetic operations align on both row and column labels. Can be\n",
              "thought of as a dict-like container for Series objects. The primary\n",
              "pandas data structure.\n",
              "\n",
              "Parameters\n",
              "----------\n",
              "data : ndarray (structured or homogeneous), Iterable, dict, or DataFrame\n",
              "    Dict can contain Series, arrays, constants, dataclass or list-like objects. If\n",
              "    data is a dict, column order follows insertion-order. If a dict contains Series\n",
              "    which have an index defined, it is aligned by its index. This alignment also\n",
              "    occurs if data is a Series or a DataFrame itself. Alignment is done on\n",
              "    Series/DataFrame inputs.\n",
              "\n",
              "    If data is a list of dicts, column order follows insertion-order.\n",
              "\n",
              "index : Index or array-like\n",
              "    Index to use for resulting frame. Will default to RangeIndex if\n",
              "    no indexing information part of input data and no index provided.\n",
              "columns : Index or array-like\n",
              "    Column labels to use for resulting frame when data does not have them,\n",
              "    defaulting to RangeIndex(0, 1, 2, ..., n). If data contains column labels,\n",
              "    will perform column selection instead.\n",
              "dtype : dtype, default None\n",
              "    Data type to force. Only a single dtype is allowed. If None, infer.\n",
              "copy : bool or None, default None\n",
              "    Copy data from inputs.\n",
              "    For dict data, the default of None behaves like ``copy=True``.  For DataFrame\n",
              "    or 2d ndarray input, the default of None behaves like ``copy=False``.\n",
              "    If data is a dict containing one or more Series (possibly of different dtypes),\n",
              "    ``copy=False`` will ensure that these inputs are not copied.\n",
              "\n",
              "    .. versionchanged:: 1.3.0\n",
              "\n",
              "See Also\n",
              "--------\n",
              "DataFrame.from_records : Constructor from tuples, also record arrays.\n",
              "DataFrame.from_dict : From dicts of Series, arrays, or dicts.\n",
              "read_csv : Read a comma-separated values (csv) file into DataFrame.\n",
              "read_table : Read general delimited file into DataFrame.\n",
              "read_clipboard : Read text from clipboard into DataFrame.\n",
              "\n",
              "Notes\n",
              "-----\n",
              "Please reference the :ref:`User Guide &lt;basics.dataframe&gt;` for more information.\n",
              "\n",
              "Examples\n",
              "--------\n",
              "Constructing DataFrame from a dictionary.\n",
              "\n",
              "&gt;&gt;&gt; d = {&#x27;col1&#x27;: [1, 2], &#x27;col2&#x27;: [3, 4]}\n",
              "&gt;&gt;&gt; df = pd.DataFrame(data=d)\n",
              "&gt;&gt;&gt; df\n",
              "   col1  col2\n",
              "0     1     3\n",
              "1     2     4\n",
              "\n",
              "Notice that the inferred dtype is int64.\n",
              "\n",
              "&gt;&gt;&gt; df.dtypes\n",
              "col1    int64\n",
              "col2    int64\n",
              "dtype: object\n",
              "\n",
              "To enforce a single dtype:\n",
              "\n",
              "&gt;&gt;&gt; df = pd.DataFrame(data=d, dtype=np.int8)\n",
              "&gt;&gt;&gt; df.dtypes\n",
              "col1    int8\n",
              "col2    int8\n",
              "dtype: object\n",
              "\n",
              "Constructing DataFrame from a dictionary including Series:\n",
              "\n",
              "&gt;&gt;&gt; d = {&#x27;col1&#x27;: [0, 1, 2, 3], &#x27;col2&#x27;: pd.Series([2, 3], index=[2, 3])}\n",
              "&gt;&gt;&gt; pd.DataFrame(data=d, index=[0, 1, 2, 3])\n",
              "   col1  col2\n",
              "0     0   NaN\n",
              "1     1   NaN\n",
              "2     2   2.0\n",
              "3     3   3.0\n",
              "\n",
              "Constructing DataFrame from numpy ndarray:\n",
              "\n",
              "&gt;&gt;&gt; df2 = pd.DataFrame(np.array([[1, 2, 3], [4, 5, 6], [7, 8, 9]]),\n",
              "...                    columns=[&#x27;a&#x27;, &#x27;b&#x27;, &#x27;c&#x27;])\n",
              "&gt;&gt;&gt; df2\n",
              "   a  b  c\n",
              "0  1  2  3\n",
              "1  4  5  6\n",
              "2  7  8  9\n",
              "\n",
              "Constructing DataFrame from a numpy ndarray that has labeled columns:\n",
              "\n",
              "&gt;&gt;&gt; data = np.array([(1, 2, 3), (4, 5, 6), (7, 8, 9)],\n",
              "...                 dtype=[(&quot;a&quot;, &quot;i4&quot;), (&quot;b&quot;, &quot;i4&quot;), (&quot;c&quot;, &quot;i4&quot;)])\n",
              "&gt;&gt;&gt; df3 = pd.DataFrame(data, columns=[&#x27;c&#x27;, &#x27;a&#x27;])\n",
              "...\n",
              "&gt;&gt;&gt; df3\n",
              "   c  a\n",
              "0  3  1\n",
              "1  6  4\n",
              "2  9  7\n",
              "\n",
              "Constructing DataFrame from dataclass:\n",
              "\n",
              "&gt;&gt;&gt; from dataclasses import make_dataclass\n",
              "&gt;&gt;&gt; Point = make_dataclass(&quot;Point&quot;, [(&quot;x&quot;, int), (&quot;y&quot;, int)])\n",
              "&gt;&gt;&gt; pd.DataFrame([Point(0, 0), Point(0, 3), Point(2, 3)])\n",
              "   x  y\n",
              "0  0  0\n",
              "1  0  3\n",
              "2  2  3\n",
              "\n",
              "Constructing DataFrame from Series/DataFrame:\n",
              "\n",
              "&gt;&gt;&gt; ser = pd.Series([1, 2, 3], index=[&quot;a&quot;, &quot;b&quot;, &quot;c&quot;])\n",
              "&gt;&gt;&gt; df = pd.DataFrame(data=ser, index=[&quot;a&quot;, &quot;c&quot;])\n",
              "&gt;&gt;&gt; df\n",
              "   0\n",
              "a  1\n",
              "c  3\n",
              "\n",
              "&gt;&gt;&gt; df1 = pd.DataFrame([1, 2, 3], index=[&quot;a&quot;, &quot;b&quot;, &quot;c&quot;], columns=[&quot;x&quot;])\n",
              "&gt;&gt;&gt; df2 = pd.DataFrame(data=df1, index=[&quot;a&quot;, &quot;c&quot;])\n",
              "&gt;&gt;&gt; df2\n",
              "   x\n",
              "a  1\n",
              "c  3</pre>\n",
              "      <script>\n",
              "      if (google.colab.kernel.accessAllowed && google.colab.files && google.colab.files.view) {\n",
              "        for (const element of document.querySelectorAll('.filepath')) {\n",
              "          element.style.display = 'block'\n",
              "          element.onclick = (event) => {\n",
              "            event.preventDefault();\n",
              "            event.stopPropagation();\n",
              "            google.colab.files.view(element.textContent, 509);\n",
              "          };\n",
              "        }\n",
              "      }\n",
              "      for (const element of document.querySelectorAll('.function-repr-contents')) {\n",
              "        element.onclick = (event) => {\n",
              "          event.preventDefault();\n",
              "          event.stopPropagation();\n",
              "          element.classList.toggle('function-repr-contents-collapsed');\n",
              "        };\n",
              "      }\n",
              "      </script>\n",
              "      </div>"
            ]
          },
          "metadata": {},
          "execution_count": 11
        }
      ]
    },
    {
      "cell_type": "markdown",
      "source": [
        "3. you need to convert</h1></section> from dataframe to Datascience Table. Use the following format: ```Table.from_df(df, keep_index=False)``` read more here\n",
        "[create DS Table from DF](https://www.data8.org/datascience/_autosummary/datascience.tables.Table.from_df.html)\n",
        "\n",
        "**N.B.** <font color='red'>NOW, perform all tasks using the table abstraction as we have learned in the class!</font>"
      ],
      "metadata": {
        "id": "ajH-jZyp8neJ"
      }
    },
    {
      "cell_type": "markdown",
      "source": [
        "the following is the opposite:\n",
        "\n",
        "[Table.to_df](https://www.data8.org/datascience/_autosummary/datascience.tables.Table.to_df.html)"
      ],
      "metadata": {
        "id": "ansU7tkQ9cj5"
      }
    },
    {
      "cell_type": "markdown",
      "source": [
        "what is the maximum pm10 value"
      ],
      "metadata": {
        "id": "2zHvKSpo7nX0"
      }
    },
    {
      "cell_type": "code",
      "source": [
        "pollution_data['pm10'].max()"
      ],
      "metadata": {
        "colab": {
          "base_uri": "https://localhost:8080/"
        },
        "id": "A-Ikgdphzdha",
        "outputId": "deffb7b2-1ea4-446e-e571-e6c95914ae22"
      },
      "execution_count": 12,
      "outputs": [
        {
          "output_type": "execute_result",
          "data": {
            "text/plain": [
              "87341.71"
            ]
          },
          "metadata": {},
          "execution_count": 12
        }
      ]
    },
    {
      "cell_type": "markdown",
      "source": [
        "what is the maximum pm10 value"
      ],
      "metadata": {
        "id": "RgKB2UJo7rWW"
      }
    },
    {
      "cell_type": "code",
      "source": [
        "pollution_data['pm10'].min()"
      ],
      "metadata": {
        "colab": {
          "base_uri": "https://localhost:8080/"
        },
        "id": "qqANkwbXzmF5",
        "outputId": "66ba3172-8655-4c55-8c33-ffb58132a739"
      },
      "execution_count": 13,
      "outputs": [
        {
          "output_type": "execute_result",
          "data": {
            "text/plain": [
              "0.0"
            ]
          },
          "metadata": {},
          "execution_count": 13
        }
      ]
    },
    {
      "cell_type": "code",
      "source": [
        "joined_table = Table().from_df(pollution_data)"
      ],
      "metadata": {
        "id": "zsjLIScVmM9a"
      },
      "execution_count": 14,
      "outputs": []
    },
    {
      "cell_type": "markdown",
      "source": [
        "show the first few rows of the table?"
      ],
      "metadata": {
        "id": "KsUXysj_B1T9"
      }
    },
    {
      "cell_type": "code",
      "source": [
        "joined_table.show(2)"
      ],
      "metadata": {
        "colab": {
          "base_uri": "https://localhost:8080/",
          "height": 141
        },
        "id": "lhgoak8vzEfS",
        "outputId": "86ba7e74-3f16-46e0-ff74-0ff5ff1370a4"
      },
      "execution_count": 15,
      "outputs": [
        {
          "output_type": "display_data",
          "data": {
            "text/plain": [
              "<IPython.core.display.HTML object>"
            ],
            "text/html": [
              "<table border=\"1\" class=\"dataframe\">\n",
              "    <thead>\n",
              "        <tr>\n",
              "            <th>pm10</th> <th>neighborhood</th>\n",
              "        </tr>\n",
              "    </thead>\n",
              "    <tbody>\n",
              "        <tr>\n",
              "            <td>11.35</td> <td>Bronx Park  </td>\n",
              "        </tr>\n",
              "        <tr>\n",
              "            <td>1.18 </td> <td>Bronx Park  </td>\n",
              "        </tr>\n",
              "    </tbody>\n",
              "</table>\n",
              "<p>... (118493 rows omitted)</p>"
            ]
          },
          "metadata": {}
        }
      ]
    },
    {
      "cell_type": "markdown",
      "source": [
        "print minimum and maximum pm10 values?"
      ],
      "metadata": {
        "id": "zgAZOxbYB56N"
      }
    },
    {
      "cell_type": "code",
      "source": [
        "pm10 = joined_table.column('pm10')\n",
        "min(pm10), max(pm10)"
      ],
      "metadata": {
        "colab": {
          "base_uri": "https://localhost:8080/"
        },
        "id": "19ncrqo0y8l5",
        "outputId": "2ecabddd-0e41-4b25-fe4b-9ed260ae758b"
      },
      "execution_count": 16,
      "outputs": [
        {
          "output_type": "execute_result",
          "data": {
            "text/plain": [
              "(0.0, 87341.710000000006)"
            ]
          },
          "metadata": {},
          "execution_count": 16
        }
      ]
    },
    {
      "cell_type": "markdown",
      "source": [
        "#Instructions for Students\n",
        "-You task is to analyze NYC hyperlocal air quality data using the provided dataset. Complete the following tasks in your Jupyter Notebook. Each task is worth 1 mark , for a total of 5 marks . Use the Table abstraction wherever possible."
      ],
      "metadata": {
        "id": "kkbu-cal0QRc"
      }
    },
    {
      "cell_type": "markdown",
      "source": [
        "# Tasks"
      ],
      "metadata": {
        "id": "lNeAe-ZH0eL2"
      }
    },
    {
      "cell_type": "markdown",
      "source": [
        "###Task 1: Explore the Joined Data Using Tables (1 Mark)\n",
        "- Display the first 5 rows of the joined_table using .show().\n",
        "- Print the number of rows and columns in the table.\n",
        "- Identify any missing values in the table and handle them appropriately (e.g., drop rows with missing values or fill them with a default value)."
      ],
      "metadata": {
        "id": "TdamjDqe7vYk"
      }
    },
    {
      "cell_type": "code",
      "source": [
        "joined_table.show(5)"
      ],
      "metadata": {
        "colab": {
          "base_uri": "https://localhost:8080/",
          "height": 236
        },
        "id": "pAWTPbk3P6aJ",
        "outputId": "2d5fbac5-d253-4fdc-a47f-3419152763cd"
      },
      "execution_count": 31,
      "outputs": [
        {
          "output_type": "display_data",
          "data": {
            "text/plain": [
              "<IPython.core.display.HTML object>"
            ],
            "text/html": [
              "<table border=\"1\" class=\"dataframe\">\n",
              "    <thead>\n",
              "        <tr>\n",
              "            <th>pm10</th> <th>neighborhood</th>\n",
              "        </tr>\n",
              "    </thead>\n",
              "    <tbody>\n",
              "        <tr>\n",
              "            <td>11.35</td> <td>Bronx Park  </td>\n",
              "        </tr>\n",
              "        <tr>\n",
              "            <td>1.18 </td> <td>Bronx Park  </td>\n",
              "        </tr>\n",
              "        <tr>\n",
              "            <td>0.76 </td> <td>Bronx Park  </td>\n",
              "        </tr>\n",
              "        <tr>\n",
              "            <td>47.36</td> <td>Bronx Park  </td>\n",
              "        </tr>\n",
              "        <tr>\n",
              "            <td>6.18 </td> <td>Bronx Park  </td>\n",
              "        </tr>\n",
              "    </tbody>\n",
              "</table>\n",
              "<p>... (118490 rows omitted)</p>"
            ]
          },
          "metadata": {}
        }
      ]
    },
    {
      "cell_type": "code",
      "source": [
        "print(\"Rows:\", joined_table.num_rows, \", Columns:\", joined_table.num_columns)"
      ],
      "metadata": {
        "colab": {
          "base_uri": "https://localhost:8080/"
        },
        "id": "aHZKAwWOQBjJ",
        "outputId": "43fbe348-ff1c-4aeb-80a1-1223b44af14b"
      },
      "execution_count": 32,
      "outputs": [
        {
          "output_type": "stream",
          "name": "stdout",
          "text": [
            "Rows: 118495 , Columns: 2\n"
          ]
        }
      ]
    },
    {
      "cell_type": "code",
      "source": [
        "joined_table.to_df().dropna()"
      ],
      "metadata": {
        "colab": {
          "base_uri": "https://localhost:8080/",
          "height": 424
        },
        "id": "kter58I6QiXD",
        "outputId": "928740c9-cc1c-44c2-aa2d-4b20226521d6"
      },
      "execution_count": 148,
      "outputs": [
        {
          "output_type": "execute_result",
          "data": {
            "text/plain": [
              "         pm10 neighborhood\n",
              "0       11.35   Bronx Park\n",
              "1        1.18   Bronx Park\n",
              "2        0.76   Bronx Park\n",
              "3       47.36   Bronx Park\n",
              "4        6.18   Bronx Park\n",
              "...       ...          ...\n",
              "118490   4.03     Longwood\n",
              "118491   6.20     Longwood\n",
              "118492   0.00     Longwood\n",
              "118493   2.49     Longwood\n",
              "118494  10.49     Longwood\n",
              "\n",
              "[118495 rows x 2 columns]"
            ],
            "text/html": [
              "\n",
              "  <div id=\"df-3bd36ccc-ad16-4480-b3d2-c6c987f43f0c\" class=\"colab-df-container\">\n",
              "    <div>\n",
              "<style scoped>\n",
              "    .dataframe tbody tr th:only-of-type {\n",
              "        vertical-align: middle;\n",
              "    }\n",
              "\n",
              "    .dataframe tbody tr th {\n",
              "        vertical-align: top;\n",
              "    }\n",
              "\n",
              "    .dataframe thead th {\n",
              "        text-align: right;\n",
              "    }\n",
              "</style>\n",
              "<table border=\"1\" class=\"dataframe\">\n",
              "  <thead>\n",
              "    <tr style=\"text-align: right;\">\n",
              "      <th></th>\n",
              "      <th>pm10</th>\n",
              "      <th>neighborhood</th>\n",
              "    </tr>\n",
              "  </thead>\n",
              "  <tbody>\n",
              "    <tr>\n",
              "      <th>0</th>\n",
              "      <td>11.35</td>\n",
              "      <td>Bronx Park</td>\n",
              "    </tr>\n",
              "    <tr>\n",
              "      <th>1</th>\n",
              "      <td>1.18</td>\n",
              "      <td>Bronx Park</td>\n",
              "    </tr>\n",
              "    <tr>\n",
              "      <th>2</th>\n",
              "      <td>0.76</td>\n",
              "      <td>Bronx Park</td>\n",
              "    </tr>\n",
              "    <tr>\n",
              "      <th>3</th>\n",
              "      <td>47.36</td>\n",
              "      <td>Bronx Park</td>\n",
              "    </tr>\n",
              "    <tr>\n",
              "      <th>4</th>\n",
              "      <td>6.18</td>\n",
              "      <td>Bronx Park</td>\n",
              "    </tr>\n",
              "    <tr>\n",
              "      <th>...</th>\n",
              "      <td>...</td>\n",
              "      <td>...</td>\n",
              "    </tr>\n",
              "    <tr>\n",
              "      <th>118490</th>\n",
              "      <td>4.03</td>\n",
              "      <td>Longwood</td>\n",
              "    </tr>\n",
              "    <tr>\n",
              "      <th>118491</th>\n",
              "      <td>6.20</td>\n",
              "      <td>Longwood</td>\n",
              "    </tr>\n",
              "    <tr>\n",
              "      <th>118492</th>\n",
              "      <td>0.00</td>\n",
              "      <td>Longwood</td>\n",
              "    </tr>\n",
              "    <tr>\n",
              "      <th>118493</th>\n",
              "      <td>2.49</td>\n",
              "      <td>Longwood</td>\n",
              "    </tr>\n",
              "    <tr>\n",
              "      <th>118494</th>\n",
              "      <td>10.49</td>\n",
              "      <td>Longwood</td>\n",
              "    </tr>\n",
              "  </tbody>\n",
              "</table>\n",
              "<p>118495 rows × 2 columns</p>\n",
              "</div>\n",
              "    <div class=\"colab-df-buttons\">\n",
              "\n",
              "  <div class=\"colab-df-container\">\n",
              "    <button class=\"colab-df-convert\" onclick=\"convertToInteractive('df-3bd36ccc-ad16-4480-b3d2-c6c987f43f0c')\"\n",
              "            title=\"Convert this dataframe to an interactive table.\"\n",
              "            style=\"display:none;\">\n",
              "\n",
              "  <svg xmlns=\"http://www.w3.org/2000/svg\" height=\"24px\" viewBox=\"0 -960 960 960\">\n",
              "    <path d=\"M120-120v-720h720v720H120Zm60-500h600v-160H180v160Zm220 220h160v-160H400v160Zm0 220h160v-160H400v160ZM180-400h160v-160H180v160Zm440 0h160v-160H620v160ZM180-180h160v-160H180v160Zm440 0h160v-160H620v160Z\"/>\n",
              "  </svg>\n",
              "    </button>\n",
              "\n",
              "  <style>\n",
              "    .colab-df-container {\n",
              "      display:flex;\n",
              "      gap: 12px;\n",
              "    }\n",
              "\n",
              "    .colab-df-convert {\n",
              "      background-color: #E8F0FE;\n",
              "      border: none;\n",
              "      border-radius: 50%;\n",
              "      cursor: pointer;\n",
              "      display: none;\n",
              "      fill: #1967D2;\n",
              "      height: 32px;\n",
              "      padding: 0 0 0 0;\n",
              "      width: 32px;\n",
              "    }\n",
              "\n",
              "    .colab-df-convert:hover {\n",
              "      background-color: #E2EBFA;\n",
              "      box-shadow: 0px 1px 2px rgba(60, 64, 67, 0.3), 0px 1px 3px 1px rgba(60, 64, 67, 0.15);\n",
              "      fill: #174EA6;\n",
              "    }\n",
              "\n",
              "    .colab-df-buttons div {\n",
              "      margin-bottom: 4px;\n",
              "    }\n",
              "\n",
              "    [theme=dark] .colab-df-convert {\n",
              "      background-color: #3B4455;\n",
              "      fill: #D2E3FC;\n",
              "    }\n",
              "\n",
              "    [theme=dark] .colab-df-convert:hover {\n",
              "      background-color: #434B5C;\n",
              "      box-shadow: 0px 1px 3px 1px rgba(0, 0, 0, 0.15);\n",
              "      filter: drop-shadow(0px 1px 2px rgba(0, 0, 0, 0.3));\n",
              "      fill: #FFFFFF;\n",
              "    }\n",
              "  </style>\n",
              "\n",
              "    <script>\n",
              "      const buttonEl =\n",
              "        document.querySelector('#df-3bd36ccc-ad16-4480-b3d2-c6c987f43f0c button.colab-df-convert');\n",
              "      buttonEl.style.display =\n",
              "        google.colab.kernel.accessAllowed ? 'block' : 'none';\n",
              "\n",
              "      async function convertToInteractive(key) {\n",
              "        const element = document.querySelector('#df-3bd36ccc-ad16-4480-b3d2-c6c987f43f0c');\n",
              "        const dataTable =\n",
              "          await google.colab.kernel.invokeFunction('convertToInteractive',\n",
              "                                                    [key], {});\n",
              "        if (!dataTable) return;\n",
              "\n",
              "        const docLinkHtml = 'Like what you see? Visit the ' +\n",
              "          '<a target=\"_blank\" href=https://colab.research.google.com/notebooks/data_table.ipynb>data table notebook</a>'\n",
              "          + ' to learn more about interactive tables.';\n",
              "        element.innerHTML = '';\n",
              "        dataTable['output_type'] = 'display_data';\n",
              "        await google.colab.output.renderOutput(dataTable, element);\n",
              "        const docLink = document.createElement('div');\n",
              "        docLink.innerHTML = docLinkHtml;\n",
              "        element.appendChild(docLink);\n",
              "      }\n",
              "    </script>\n",
              "  </div>\n",
              "\n",
              "\n",
              "<div id=\"df-87efa757-e025-488e-8b5c-deebd9b2c26e\">\n",
              "  <button class=\"colab-df-quickchart\" onclick=\"quickchart('df-87efa757-e025-488e-8b5c-deebd9b2c26e')\"\n",
              "            title=\"Suggest charts\"\n",
              "            style=\"display:none;\">\n",
              "\n",
              "<svg xmlns=\"http://www.w3.org/2000/svg\" height=\"24px\"viewBox=\"0 0 24 24\"\n",
              "     width=\"24px\">\n",
              "    <g>\n",
              "        <path d=\"M19 3H5c-1.1 0-2 .9-2 2v14c0 1.1.9 2 2 2h14c1.1 0 2-.9 2-2V5c0-1.1-.9-2-2-2zM9 17H7v-7h2v7zm4 0h-2V7h2v10zm4 0h-2v-4h2v4z\"/>\n",
              "    </g>\n",
              "</svg>\n",
              "  </button>\n",
              "\n",
              "<style>\n",
              "  .colab-df-quickchart {\n",
              "      --bg-color: #E8F0FE;\n",
              "      --fill-color: #1967D2;\n",
              "      --hover-bg-color: #E2EBFA;\n",
              "      --hover-fill-color: #174EA6;\n",
              "      --disabled-fill-color: #AAA;\n",
              "      --disabled-bg-color: #DDD;\n",
              "  }\n",
              "\n",
              "  [theme=dark] .colab-df-quickchart {\n",
              "      --bg-color: #3B4455;\n",
              "      --fill-color: #D2E3FC;\n",
              "      --hover-bg-color: #434B5C;\n",
              "      --hover-fill-color: #FFFFFF;\n",
              "      --disabled-bg-color: #3B4455;\n",
              "      --disabled-fill-color: #666;\n",
              "  }\n",
              "\n",
              "  .colab-df-quickchart {\n",
              "    background-color: var(--bg-color);\n",
              "    border: none;\n",
              "    border-radius: 50%;\n",
              "    cursor: pointer;\n",
              "    display: none;\n",
              "    fill: var(--fill-color);\n",
              "    height: 32px;\n",
              "    padding: 0;\n",
              "    width: 32px;\n",
              "  }\n",
              "\n",
              "  .colab-df-quickchart:hover {\n",
              "    background-color: var(--hover-bg-color);\n",
              "    box-shadow: 0 1px 2px rgba(60, 64, 67, 0.3), 0 1px 3px 1px rgba(60, 64, 67, 0.15);\n",
              "    fill: var(--button-hover-fill-color);\n",
              "  }\n",
              "\n",
              "  .colab-df-quickchart-complete:disabled,\n",
              "  .colab-df-quickchart-complete:disabled:hover {\n",
              "    background-color: var(--disabled-bg-color);\n",
              "    fill: var(--disabled-fill-color);\n",
              "    box-shadow: none;\n",
              "  }\n",
              "\n",
              "  .colab-df-spinner {\n",
              "    border: 2px solid var(--fill-color);\n",
              "    border-color: transparent;\n",
              "    border-bottom-color: var(--fill-color);\n",
              "    animation:\n",
              "      spin 1s steps(1) infinite;\n",
              "  }\n",
              "\n",
              "  @keyframes spin {\n",
              "    0% {\n",
              "      border-color: transparent;\n",
              "      border-bottom-color: var(--fill-color);\n",
              "      border-left-color: var(--fill-color);\n",
              "    }\n",
              "    20% {\n",
              "      border-color: transparent;\n",
              "      border-left-color: var(--fill-color);\n",
              "      border-top-color: var(--fill-color);\n",
              "    }\n",
              "    30% {\n",
              "      border-color: transparent;\n",
              "      border-left-color: var(--fill-color);\n",
              "      border-top-color: var(--fill-color);\n",
              "      border-right-color: var(--fill-color);\n",
              "    }\n",
              "    40% {\n",
              "      border-color: transparent;\n",
              "      border-right-color: var(--fill-color);\n",
              "      border-top-color: var(--fill-color);\n",
              "    }\n",
              "    60% {\n",
              "      border-color: transparent;\n",
              "      border-right-color: var(--fill-color);\n",
              "    }\n",
              "    80% {\n",
              "      border-color: transparent;\n",
              "      border-right-color: var(--fill-color);\n",
              "      border-bottom-color: var(--fill-color);\n",
              "    }\n",
              "    90% {\n",
              "      border-color: transparent;\n",
              "      border-bottom-color: var(--fill-color);\n",
              "    }\n",
              "  }\n",
              "</style>\n",
              "\n",
              "  <script>\n",
              "    async function quickchart(key) {\n",
              "      const quickchartButtonEl =\n",
              "        document.querySelector('#' + key + ' button');\n",
              "      quickchartButtonEl.disabled = true;  // To prevent multiple clicks.\n",
              "      quickchartButtonEl.classList.add('colab-df-spinner');\n",
              "      try {\n",
              "        const charts = await google.colab.kernel.invokeFunction(\n",
              "            'suggestCharts', [key], {});\n",
              "      } catch (error) {\n",
              "        console.error('Error during call to suggestCharts:', error);\n",
              "      }\n",
              "      quickchartButtonEl.classList.remove('colab-df-spinner');\n",
              "      quickchartButtonEl.classList.add('colab-df-quickchart-complete');\n",
              "    }\n",
              "    (() => {\n",
              "      let quickchartButtonEl =\n",
              "        document.querySelector('#df-87efa757-e025-488e-8b5c-deebd9b2c26e button');\n",
              "      quickchartButtonEl.style.display =\n",
              "        google.colab.kernel.accessAllowed ? 'block' : 'none';\n",
              "    })();\n",
              "  </script>\n",
              "</div>\n",
              "\n",
              "    </div>\n",
              "  </div>\n"
            ],
            "application/vnd.google.colaboratory.intrinsic+json": {
              "type": "dataframe"
            }
          },
          "metadata": {},
          "execution_count": 148
        }
      ]
    },
    {
      "cell_type": "markdown",
      "source": [
        "# Task 2: Create Summary Statistics Using Table Operations (1 Mark)\n",
        "\n",
        "- Compute summary statistics (mean, median, min, max) for the attributes temperature, humidity, and pm25 using table operations like .column() and .apply().\n",
        "- Group the data by borough and calculate the average pm25 levels for each borough using .group() or .pivot().\n",
        "- Display the results in a new table."
      ],
      "metadata": {
        "id": "XTjfxfG209Ia"
      }
    },
    {
      "cell_type": "code",
      "source": [
        " #converting merged data from data frame to table\n",
        " merged_data_table = Table().from_df(merged_data)\n",
        " merged_data_table.show(2)"
      ],
      "metadata": {
        "colab": {
          "base_uri": "https://localhost:8080/",
          "height": 231
        },
        "id": "F2fMibuoX3H6",
        "outputId": "46c58aa0-eeea-44be-d164-6d64b490829b"
      },
      "execution_count": 76,
      "outputs": [
        {
          "output_type": "display_data",
          "data": {
            "text/plain": [
              "<IPython.core.display.HTML object>"
            ],
            "text/html": [
              "<table border=\"1\" class=\"dataframe\">\n",
              "    <thead>\n",
              "        <tr>\n",
              "            <th>SensorID</th> <th>time</th> <th>latitude</th> <th>longitude</th> <th>bin0</th> <th>bin1</th> <th>bin2</th> <th>bin3</th> <th>bin4</th> <th>bin5</th> <th>bin6</th> <th>bin7</th> <th>bin8</th> <th>bin9</th> <th>bin10</th> <th>bin11</th> <th>bin12</th> <th>bin13</th> <th>bin14</th> <th>bin15</th> <th>bin16</th> <th>bin17</th> <th>bin18</th> <th>bin19</th> <th>bin20</th> <th>bin21</th> <th>bin22</th> <th>bin23</th> <th>temperature</th> <th>humidity</th> <th>pm1</th> <th>pm25</th> <th>pm10</th> <th>geometry</th> <th>index_right</th> <th>neighborhood</th> <th>boroughCode</th> <th>borough</th> <th>@id</th>\n",
              "        </tr>\n",
              "    </thead>\n",
              "    <tbody>\n",
              "        <tr>\n",
              "            <td>NYCP1_01A</td> <td>1579618560</td> <td>40.8472 </td> <td>-73.8701 </td> <td>23  </td> <td>1   </td> <td>2   </td> <td>0   </td> <td>0   </td> <td>0   </td> <td>1   </td> <td>0   </td> <td>0   </td> <td>0   </td> <td>0    </td> <td>0    </td> <td>0    </td> <td>0    </td> <td>0    </td> <td>0    </td> <td>0    </td> <td>0    </td> <td>0    </td> <td>0    </td> <td>0    </td> <td>0    </td> <td>0    </td> <td>0    </td> <td>16.3       </td> <td>15.2    </td> <td>1.44</td> <td>5.91</td> <td>11.35</td> <td>POINT (-73.870087 40.847183)</td> <td>38         </td> <td>Bronx Park  </td> <td>2          </td> <td>Bronx  </td> <td>http://nyc.pediacities.com/Resource/Neighborhood/Bronx_Park</td>\n",
              "        </tr>\n",
              "        <tr>\n",
              "            <td>NYCP1_01A</td> <td>1579618560</td> <td>40.8472 </td> <td>-73.8701 </td> <td>18  </td> <td>2   </td> <td>1   </td> <td>0   </td> <td>0   </td> <td>0   </td> <td>0   </td> <td>0   </td> <td>0   </td> <td>0   </td> <td>0    </td> <td>0    </td> <td>0    </td> <td>0    </td> <td>0    </td> <td>0    </td> <td>0    </td> <td>0    </td> <td>0    </td> <td>0    </td> <td>0    </td> <td>0    </td> <td>0    </td> <td>0    </td> <td>16.2       </td> <td>15.1    </td> <td>1.05</td> <td>1.18</td> <td>1.18 </td> <td>POINT (-73.870094 40.847183)</td> <td>38         </td> <td>Bronx Park  </td> <td>2          </td> <td>Bronx  </td> <td>http://nyc.pediacities.com/Resource/Neighborhood/Bronx_Park</td>\n",
              "        </tr>\n",
              "    </tbody>\n",
              "</table>\n",
              "<p>... (118493 rows omitted)</p>"
            ]
          },
          "metadata": {}
        }
      ]
    },
    {
      "cell_type": "code",
      "source": [
        "Summary_Statistics = Table().with_columns(\"Attribute\", make_array(\"temperature\", \"humidity\", \"pm25\"),\n",
        "                                          \"mean\", make_array(merged_data_table.column(\"temperature\").mean(), merged_data_table.column(\"humidity\").mean(), merged_data_table.column(\"pm25\").mean()),\n",
        "                                          \"median\", make_array(np.median(merged_data_table.column('temperature')), np.median(merged_data_table.column('humidity')), np.median(merged_data_table.column('pm25'))),\n",
        "                                          \"min\", make_array(merged_data_table.column(\"temperature\").min(), merged_data_table.column(\"humidity\").min(), merged_data_table.column(\"pm25\").min()),\n",
        "                                          \"max\", make_array(merged_data_table.column(\"temperature\").max(), merged_data_table.column(\"humidity\").max(), merged_data_table.column(\"pm25\").max()))\n",
        "Summary_Statistics"
      ],
      "metadata": {
        "colab": {
          "base_uri": "https://localhost:8080/",
          "height": 143
        },
        "id": "eu7p1hL8Wdcg",
        "outputId": "1e5c69d0-1fa2-4c61-e378-14677fd6da73"
      },
      "execution_count": 104,
      "outputs": [
        {
          "output_type": "execute_result",
          "data": {
            "text/plain": [
              "Attribute   | mean    | median | min  | max\n",
              "temperature | 8.24158 | 7.2    | -7.9 | 10471\n",
              "humidity    | 50.1549 | 46.2   | 0    | 104.2\n",
              "pm25        | 7.37452 | 3.02   | 0    | 3267.02"
            ],
            "text/html": [
              "<table border=\"1\" class=\"dataframe\">\n",
              "    <thead>\n",
              "        <tr>\n",
              "            <th>Attribute</th> <th>mean</th> <th>median</th> <th>min</th> <th>max</th>\n",
              "        </tr>\n",
              "    </thead>\n",
              "    <tbody>\n",
              "        <tr>\n",
              "            <td>temperature</td> <td>8.24158</td> <td>7.2   </td> <td>-7.9</td> <td>10471  </td>\n",
              "        </tr>\n",
              "        <tr>\n",
              "            <td>humidity   </td> <td>50.1549</td> <td>46.2  </td> <td>0   </td> <td>104.2  </td>\n",
              "        </tr>\n",
              "        <tr>\n",
              "            <td>pm25       </td> <td>7.37452</td> <td>3.02  </td> <td>0   </td> <td>3267.02</td>\n",
              "        </tr>\n",
              "    </tbody>\n",
              "</table>"
            ]
          },
          "metadata": {},
          "execution_count": 104
        }
      ]
    },
    {
      "cell_type": "code",
      "source": [
        "pm25_average_by_borough = merged_data_table.select(\"borough\", \"pm25\").group(\"borough\", np.average)\n",
        "pm25_average_by_borough"
      ],
      "metadata": {
        "colab": {
          "base_uri": "https://localhost:8080/",
          "height": 175
        },
        "id": "0GG9HA2fZwUT",
        "outputId": "51e91244-d800-472e-ef36-268a71273e1c"
      },
      "execution_count": 83,
      "outputs": [
        {
          "output_type": "execute_result",
          "data": {
            "text/plain": [
              "borough   | pm25 average\n",
              "Bronx     | 7.795\n",
              "Brooklyn  | 1.99695\n",
              "Manhattan | 2.37332\n",
              "Queens    | 2.07253"
            ],
            "text/html": [
              "<table border=\"1\" class=\"dataframe\">\n",
              "    <thead>\n",
              "        <tr>\n",
              "            <th>borough</th> <th>pm25 average</th>\n",
              "        </tr>\n",
              "    </thead>\n",
              "    <tbody>\n",
              "        <tr>\n",
              "            <td>Bronx    </td> <td>7.795       </td>\n",
              "        </tr>\n",
              "        <tr>\n",
              "            <td>Brooklyn </td> <td>1.99695     </td>\n",
              "        </tr>\n",
              "        <tr>\n",
              "            <td>Manhattan</td> <td>2.37332     </td>\n",
              "        </tr>\n",
              "        <tr>\n",
              "            <td>Queens   </td> <td>2.07253     </td>\n",
              "        </tr>\n",
              "    </tbody>\n",
              "</table>"
            ]
          },
          "metadata": {},
          "execution_count": 83
        }
      ]
    },
    {
      "cell_type": "markdown",
      "source": [
        "# Task 3: Visualize the Data Using Table-Based Plots (1 Mark)\n",
        "\n",
        "- Create a bar chart showing the average pm25 levels for each borough using .barh().\n",
        "- Create a scatter plot to visualize the relationship between temperature and pm25 using .scatter(). Add appropriate labels and a title to the plot.\n",
        "- Create a histogram of humidity values across all neighborhoods using .hist()."
      ],
      "metadata": {
        "id": "2SD9uVHI1oNW"
      }
    },
    {
      "cell_type": "code",
      "source": [
        "pm25_average_by_borough.barh(\"borough\", \"pm25 average\")"
      ],
      "metadata": {
        "colab": {
          "base_uri": "https://localhost:8080/",
          "height": 410
        },
        "id": "ZcM3N6ZjiPju",
        "outputId": "89b76af6-e8e4-4ecb-f4d9-4cbe8bf19fe8"
      },
      "execution_count": 105,
      "outputs": [
        {
          "output_type": "display_data",
          "data": {
            "text/plain": [
              "<Figure size 600x400 with 1 Axes>"
            ],
            "image/png": "[encoded data removed]"
          },
          "metadata": {}
        }
      ]
    },
    {
      "cell_type": "code",
      "source": [
        "merged_data_table.scatter(\"temperature\", \"pm25\")\n",
        "plt.title(\"Temperature vs PM25\")"
      ],
      "metadata": {
        "colab": {
          "base_uri": "https://localhost:8080/",
          "height": 538
        },
        "id": "IqNd1-GPikCa",
        "outputId": "55f23b8c-f13f-49c1-ecdc-21720bebab5d"
      },
      "execution_count": 110,
      "outputs": [
        {
          "output_type": "execute_result",
          "data": {
            "text/plain": [
              "Text(0.5, 1.0, 'Temperature vs PM25')"
            ]
          },
          "metadata": {},
          "execution_count": 110
        },
        {
          "output_type": "display_data",
          "data": {
            "text/plain": [
              "<Figure size 500x500 with 1 Axes>"
            ],
            "image/png": "[encoded data removed]"
          },
          "metadata": {}
        }
      ]
    },
    {
      "cell_type": "code",
      "source": [
        "merged_data_table.where(\"temperature\", are.below(10000)).where(\"pm25\", are.below(3000)).scatter(\"temperature\", \"pm25\")\n",
        "plt.title(\"Temperature vs PM25 without outliers\")"
      ],
      "metadata": {
        "colab": {
          "base_uri": "https://localhost:8080/",
          "height": 538
        },
        "id": "QvV8rY7vkTc7",
        "outputId": "5074d135-cc81-4ad6-b61c-e466ae3069c8"
      },
      "execution_count": 112,
      "outputs": [
        {
          "output_type": "execute_result",
          "data": {
            "text/plain": [
              "Text(0.5, 1.0, 'Temperature vs PM25 without outliers')"
            ]
          },
          "metadata": {},
          "execution_count": 112
        },
        {
          "output_type": "display_data",
          "data": {
            "text/plain": [
              "<Figure size 500x500 with 1 Axes>"
            ],
            "image/png": "[encoded data removed]"
          },
          "metadata": {}
        }
      ]
    },
    {
      "cell_type": "code",
      "source": [
        "merged_data_table.hist(\"humidity\")"
      ],
      "metadata": {
        "colab": {
          "base_uri": "https://localhost:8080/",
          "height": 410
        },
        "id": "p-zGr-ojlB0X",
        "outputId": "6f576f3c-31a0-4d00-8108-9ceaa3749c54"
      },
      "execution_count": 113,
      "outputs": [
        {
          "output_type": "display_data",
          "data": {
            "text/plain": [
              "<Figure size 600x400 with 1 Axes>"
            ],
            "image/png": "[encoded data removed]"
          },
          "metadata": {}
        }
      ]
    },
    {
      "cell_type": "markdown",
      "source": [
        "# Task 4: Define and Use Functions with Tables (1 Mark)\n",
        "\n",
        "- Write a function calculate_pm25_category(pm25) that categorizes PM2.5 levels as follows:\n",
        "\"Good\" if pm25 < 12\n",
        "\"Moderate\" if 12 <= pm25 < 35\n",
        "\"Unhealthy\" if pm25 >= 35\n",
        "- Apply this function to the pm25 column in the table using .apply() to create a new column called PM25_Category.\n",
        "- Count the number of sensors in each PM2.5 category and display the results using .group().\n"
      ],
      "metadata": {
        "id": "xTWFUDGX1v1F"
      }
    },
    {
      "cell_type": "code",
      "source": [
        "def calculate_pm25_category(pm25):\n",
        "  if pm25 < 12:\n",
        "    return \"Good\"\n",
        "  elif pm25 >= 35:\n",
        "    return \"Unhealthy\"\n",
        "  else:\n",
        "    return \"Moderate\""
      ],
      "metadata": {
        "id": "--tj_wsWmFzP"
      },
      "execution_count": 118,
      "outputs": []
    },
    {
      "cell_type": "code",
      "source": [
        "merged_data_category = merged_data_table.with_columns(\"PM25_Category\", merged_data_table.apply(calculate_pm25_category, \"pm25\"))\n",
        "merged_data_category"
      ],
      "metadata": {
        "colab": {
          "base_uri": "https://localhost:8080/",
          "height": 760
        },
        "id": "l7mGONZzmesO",
        "outputId": "08295709-592e-44da-d354-144caa8d0f6e"
      },
      "execution_count": 126,
      "outputs": [
        {
          "output_type": "execute_result",
          "data": {
            "text/plain": [
              "SensorID  | time       | latitude | longitude | bin0 | bin1 | bin2 | bin3 | bin4 | bin5 | bin6 | bin7 | bin8 | bin9 | bin10 | bin11 | bin12 | bin13 | bin14 | bin15 | bin16 | bin17 | bin18 | bin19 | bin20 | bin21 | bin22 | bin23 | temperature | humidity | pm1  | pm25 | pm10  | geometry                     | index_right | neighborhood | boroughCode | borough | @id                                                         | PM25_Category\n",
              "NYCP1_01A | 1579618560 | 40.8472  | -73.8701  | 23   | 1    | 2    | 0    | 0    | 0    | 1    | 0    | 0    | 0    | 0     | 0     | 0     | 0     | 0     | 0     | 0     | 0     | 0     | 0     | 0     | 0     | 0     | 0     | 16.3        | 15.2     | 1.44 | 5.91 | 11.35 | POINT (-73.870087 40.847183) | 38          | Bronx Park   | 2           | Bronx   | http://nyc.pediacities.com/Resource/Neighborhood/Bronx_Park | Good\n",
              "NYCP1_01A | 1579618560 | 40.8472  | -73.8701  | 18   | 2    | 1    | 0    | 0    | 0    | 0    | 0    | 0    | 0    | 0     | 0     | 0     | 0     | 0     | 0     | 0     | 0     | 0     | 0     | 0     | 0     | 0     | 0     | 16.2        | 15.1     | 1.05 | 1.18 | 1.18  | POINT (-73.870094 40.847183) | 38          | Bronx Park   | 2           | Bronx   | http://nyc.pediacities.com/Resource/Neighborhood/Bronx_Park | Good\n",
              "NYCP1_01A | 1579618560 | 40.8472  | -73.8701  | 18   | 1    | 0    | 0    | 0    | 0    | 0    | 0    | 0    | 0    | 0     | 0     | 0     | 0     | 0     | 0     | 0     | 0     | 0     | 0     | 0     | 0     | 0     | 0     | 16.1        | 15.1     | 0.74 | 0.76 | 0.76  | POINT (-73.870094 40.847179) | 38          | Bronx Park   | 2           | Bronx   | http://nyc.pediacities.com/Resource/Neighborhood/Bronx_Park | Good\n",
              "NYCP1_01A | 1579618560 | 40.8472  | -73.8701  | 18   | 1    | 2    | 0    | 0    | 0    | 0    | 0    | 1    | 0    | 0     | 0     | 0     | 0     | 0     | 0     | 0     | 0     | 0     | 0     | 0     | 0     | 0     | 0     | 16.1        | 15.2     | 1.15 | 4.48 | 47.36 | POINT (-73.870094 40.847179) | 38          | Bronx Park   | 2           | Bronx   | http://nyc.pediacities.com/Resource/Neighborhood/Bronx_Park | Good\n",
              "NYCP1_01A | 1579618560 | 40.8472  | -73.8701  | 20   | 3    | 0    | 2    | 2    | 0    | 0    | 0    | 0    | 0    | 0     | 0     | 0     | 0     | 0     | 0     | 0     | 0     | 0     | 0     | 0     | 0     | 0     | 0     | 16          | 15.2     | 2.13 | 5.77 | 6.18  | POINT (-73.870094 40.847179) | 38          | Bronx Park   | 2           | Bronx   | http://nyc.pediacities.com/Resource/Neighborhood/Bronx_Park | Good\n",
              "NYCP1_01A | 1579618560 | 40.8472  | -73.8701  | 20   | 0    | 0    | 0    | 0    | 0    | 0    | 0    | 0    | 0    | 0     | 0     | 0     | 0     | 0     | 0     | 0     | 0     | 0     | 0     | 0     | 0     | 0     | 0     | 15.9        | 15.3     | 0.72 | 0.73 | 0.73  | POINT (-73.870094 40.847176) | 38          | Bronx Park   | 2           | Bronx   | http://nyc.pediacities.com/Resource/Neighborhood/Bronx_Park | Good\n",
              "NYCP1_01A | 1579618560 | 40.8472  | -73.8701  | 17   | 3    | 1    | 0    | 0    | 0    | 0    | 0    | 0    | 0    | 0     | 0     | 0     | 0     | 0     | 0     | 0     | 0     | 0     | 0     | 0     | 0     | 0     | 0     | 15.8        | 15.4     | 1.09 | 1.22 | 1.22  | POINT (-73.870102 40.847172) | 38          | Bronx Park   | 2           | Bronx   | http://nyc.pediacities.com/Resource/Neighborhood/Bronx_Park | Good\n",
              "NYCP1_01A | 1579618560 | 40.8472  | -73.8701  | 31   | 4    | 0    | 0    | 0    | 1    | 0    | 0    | 0    | 0    | 0     | 0     | 0     | 0     | 0     | 0     | 0     | 0     | 0     | 0     | 0     | 0     | 0     | 0     | 15.8        | 15.4     | 1.69 | 4.57 | 5.82  | POINT (-73.870094 40.847176) | 38          | Bronx Park   | 2           | Bronx   | http://nyc.pediacities.com/Resource/Neighborhood/Bronx_Park | Good\n",
              "NYCP1_01A | 1579618560 | 40.8472  | -73.8701  | 22   | 5    | 0    | 0    | 0    | 0    | 1    | 0    | 0    | 0    | 0     | 0     | 0     | 0     | 0     | 0     | 0     | 0     | 0     | 0     | 0     | 0     | 0     | 0     | 15.7        | 15.5     | 1.33 | 5.61 | 11.04 | POINT (-73.870102 40.847172) | 38          | Bronx Park   | 2           | Bronx   | http://nyc.pediacities.com/Resource/Neighborhood/Bronx_Park | Good\n",
              "NYCP1_01A | 1579618560 | 40.8472  | -73.8701  | 22   | 5    | 0    | 0    | 0    | 0    | 0    | 0    | 0    | 0    | 0     | 0     | 0     | 0     | 0     | 0     | 0     | 0     | 0     | 0     | 0     | 0     | 0     | 0     | 15.6        | 15.6     | 1.24 | 1.29 | 1.29  | POINT (-73.870094 40.847168) | 38          | Bronx Park   | 2           | Bronx   | http://nyc.pediacities.com/Resource/Neighborhood/Bronx_Park | Good\n",
              "... (118485 rows omitted)"
            ],
            "text/html": [
              "<table border=\"1\" class=\"dataframe\">\n",
              "    <thead>\n",
              "        <tr>\n",
              "            <th>SensorID</th> <th>time</th> <th>latitude</th> <th>longitude</th> <th>bin0</th> <th>bin1</th> <th>bin2</th> <th>bin3</th> <th>bin4</th> <th>bin5</th> <th>bin6</th> <th>bin7</th> <th>bin8</th> <th>bin9</th> <th>bin10</th> <th>bin11</th> <th>bin12</th> <th>bin13</th> <th>bin14</th> <th>bin15</th> <th>bin16</th> <th>bin17</th> <th>bin18</th> <th>bin19</th> <th>bin20</th> <th>bin21</th> <th>bin22</th> <th>bin23</th> <th>temperature</th> <th>humidity</th> <th>pm1</th> <th>pm25</th> <th>pm10</th> <th>geometry</th> <th>index_right</th> <th>neighborhood</th> <th>boroughCode</th> <th>borough</th> <th>@id</th> <th>PM25_Category</th>\n",
              "        </tr>\n",
              "    </thead>\n",
              "    <tbody>\n",
              "        <tr>\n",
              "            <td>NYCP1_01A</td> <td>1579618560</td> <td>40.8472 </td> <td>-73.8701 </td> <td>23  </td> <td>1   </td> <td>2   </td> <td>0   </td> <td>0   </td> <td>0   </td> <td>1   </td> <td>0   </td> <td>0   </td> <td>0   </td> <td>0    </td> <td>0    </td> <td>0    </td> <td>0    </td> <td>0    </td> <td>0    </td> <td>0    </td> <td>0    </td> <td>0    </td> <td>0    </td> <td>0    </td> <td>0    </td> <td>0    </td> <td>0    </td> <td>16.3       </td> <td>15.2    </td> <td>1.44</td> <td>5.91</td> <td>11.35</td> <td>POINT (-73.870087 40.847183)</td> <td>38         </td> <td>Bronx Park  </td> <td>2          </td> <td>Bronx  </td> <td>http://nyc.pediacities.com/Resource/Neighborhood/Bronx_Park</td> <td>Good         </td>\n",
              "        </tr>\n",
              "        <tr>\n",
              "            <td>NYCP1_01A</td> <td>1579618560</td> <td>40.8472 </td> <td>-73.8701 </td> <td>18  </td> <td>2   </td> <td>1   </td> <td>0   </td> <td>0   </td> <td>0   </td> <td>0   </td> <td>0   </td> <td>0   </td> <td>0   </td> <td>0    </td> <td>0    </td> <td>0    </td> <td>0    </td> <td>0    </td> <td>0    </td> <td>0    </td> <td>0    </td> <td>0    </td> <td>0    </td> <td>0    </td> <td>0    </td> <td>0    </td> <td>0    </td> <td>16.2       </td> <td>15.1    </td> <td>1.05</td> <td>1.18</td> <td>1.18 </td> <td>POINT (-73.870094 40.847183)</td> <td>38         </td> <td>Bronx Park  </td> <td>2          </td> <td>Bronx  </td> <td>http://nyc.pediacities.com/Resource/Neighborhood/Bronx_Park</td> <td>Good         </td>\n",
              "        </tr>\n",
              "        <tr>\n",
              "            <td>NYCP1_01A</td> <td>1579618560</td> <td>40.8472 </td> <td>-73.8701 </td> <td>18  </td> <td>1   </td> <td>0   </td> <td>0   </td> <td>0   </td> <td>0   </td> <td>0   </td> <td>0   </td> <td>0   </td> <td>0   </td> <td>0    </td> <td>0    </td> <td>0    </td> <td>0    </td> <td>0    </td> <td>0    </td> <td>0    </td> <td>0    </td> <td>0    </td> <td>0    </td> <td>0    </td> <td>0    </td> <td>0    </td> <td>0    </td> <td>16.1       </td> <td>15.1    </td> <td>0.74</td> <td>0.76</td> <td>0.76 </td> <td>POINT (-73.870094 40.847179)</td> <td>38         </td> <td>Bronx Park  </td> <td>2          </td> <td>Bronx  </td> <td>http://nyc.pediacities.com/Resource/Neighborhood/Bronx_Park</td> <td>Good         </td>\n",
              "        </tr>\n",
              "        <tr>\n",
              "            <td>NYCP1_01A</td> <td>1579618560</td> <td>40.8472 </td> <td>-73.8701 </td> <td>18  </td> <td>1   </td> <td>2   </td> <td>0   </td> <td>0   </td> <td>0   </td> <td>0   </td> <td>0   </td> <td>1   </td> <td>0   </td> <td>0    </td> <td>0    </td> <td>0    </td> <td>0    </td> <td>0    </td> <td>0    </td> <td>0    </td> <td>0    </td> <td>0    </td> <td>0    </td> <td>0    </td> <td>0    </td> <td>0    </td> <td>0    </td> <td>16.1       </td> <td>15.2    </td> <td>1.15</td> <td>4.48</td> <td>47.36</td> <td>POINT (-73.870094 40.847179)</td> <td>38         </td> <td>Bronx Park  </td> <td>2          </td> <td>Bronx  </td> <td>http://nyc.pediacities.com/Resource/Neighborhood/Bronx_Park</td> <td>Good         </td>\n",
              "        </tr>\n",
              "        <tr>\n",
              "            <td>NYCP1_01A</td> <td>1579618560</td> <td>40.8472 </td> <td>-73.8701 </td> <td>20  </td> <td>3   </td> <td>0   </td> <td>2   </td> <td>2   </td> <td>0   </td> <td>0   </td> <td>0   </td> <td>0   </td> <td>0   </td> <td>0    </td> <td>0    </td> <td>0    </td> <td>0    </td> <td>0    </td> <td>0    </td> <td>0    </td> <td>0    </td> <td>0    </td> <td>0    </td> <td>0    </td> <td>0    </td> <td>0    </td> <td>0    </td> <td>16         </td> <td>15.2    </td> <td>2.13</td> <td>5.77</td> <td>6.18 </td> <td>POINT (-73.870094 40.847179)</td> <td>38         </td> <td>Bronx Park  </td> <td>2          </td> <td>Bronx  </td> <td>http://nyc.pediacities.com/Resource/Neighborhood/Bronx_Park</td> <td>Good         </td>\n",
              "        </tr>\n",
              "        <tr>\n",
              "            <td>NYCP1_01A</td> <td>1579618560</td> <td>40.8472 </td> <td>-73.8701 </td> <td>20  </td> <td>0   </td> <td>0   </td> <td>0   </td> <td>0   </td> <td>0   </td> <td>0   </td> <td>0   </td> <td>0   </td> <td>0   </td> <td>0    </td> <td>0    </td> <td>0    </td> <td>0    </td> <td>0    </td> <td>0    </td> <td>0    </td> <td>0    </td> <td>0    </td> <td>0    </td> <td>0    </td> <td>0    </td> <td>0    </td> <td>0    </td> <td>15.9       </td> <td>15.3    </td> <td>0.72</td> <td>0.73</td> <td>0.73 </td> <td>POINT (-73.870094 40.847176)</td> <td>38         </td> <td>Bronx Park  </td> <td>2          </td> <td>Bronx  </td> <td>http://nyc.pediacities.com/Resource/Neighborhood/Bronx_Park</td> <td>Good         </td>\n",
              "        </tr>\n",
              "        <tr>\n",
              "            <td>NYCP1_01A</td> <td>1579618560</td> <td>40.8472 </td> <td>-73.8701 </td> <td>17  </td> <td>3   </td> <td>1   </td> <td>0   </td> <td>0   </td> <td>0   </td> <td>0   </td> <td>0   </td> <td>0   </td> <td>0   </td> <td>0    </td> <td>0    </td> <td>0    </td> <td>0    </td> <td>0    </td> <td>0    </td> <td>0    </td> <td>0    </td> <td>0    </td> <td>0    </td> <td>0    </td> <td>0    </td> <td>0    </td> <td>0    </td> <td>15.8       </td> <td>15.4    </td> <td>1.09</td> <td>1.22</td> <td>1.22 </td> <td>POINT (-73.870102 40.847172)</td> <td>38         </td> <td>Bronx Park  </td> <td>2          </td> <td>Bronx  </td> <td>http://nyc.pediacities.com/Resource/Neighborhood/Bronx_Park</td> <td>Good         </td>\n",
              "        </tr>\n",
              "        <tr>\n",
              "            <td>NYCP1_01A</td> <td>1579618560</td> <td>40.8472 </td> <td>-73.8701 </td> <td>31  </td> <td>4   </td> <td>0   </td> <td>0   </td> <td>0   </td> <td>1   </td> <td>0   </td> <td>0   </td> <td>0   </td> <td>0   </td> <td>0    </td> <td>0    </td> <td>0    </td> <td>0    </td> <td>0    </td> <td>0    </td> <td>0    </td> <td>0    </td> <td>0    </td> <td>0    </td> <td>0    </td> <td>0    </td> <td>0    </td> <td>0    </td> <td>15.8       </td> <td>15.4    </td> <td>1.69</td> <td>4.57</td> <td>5.82 </td> <td>POINT (-73.870094 40.847176)</td> <td>38         </td> <td>Bronx Park  </td> <td>2          </td> <td>Bronx  </td> <td>http://nyc.pediacities.com/Resource/Neighborhood/Bronx_Park</td> <td>Good         </td>\n",
              "        </tr>\n",
              "        <tr>\n",
              "            <td>NYCP1_01A</td> <td>1579618560</td> <td>40.8472 </td> <td>-73.8701 </td> <td>22  </td> <td>5   </td> <td>0   </td> <td>0   </td> <td>0   </td> <td>0   </td> <td>1   </td> <td>0   </td> <td>0   </td> <td>0   </td> <td>0    </td> <td>0    </td> <td>0    </td> <td>0    </td> <td>0    </td> <td>0    </td> <td>0    </td> <td>0    </td> <td>0    </td> <td>0    </td> <td>0    </td> <td>0    </td> <td>0    </td> <td>0    </td> <td>15.7       </td> <td>15.5    </td> <td>1.33</td> <td>5.61</td> <td>11.04</td> <td>POINT (-73.870102 40.847172)</td> <td>38         </td> <td>Bronx Park  </td> <td>2          </td> <td>Bronx  </td> <td>http://nyc.pediacities.com/Resource/Neighborhood/Bronx_Park</td> <td>Good         </td>\n",
              "        </tr>\n",
              "        <tr>\n",
              "            <td>NYCP1_01A</td> <td>1579618560</td> <td>40.8472 </td> <td>-73.8701 </td> <td>22  </td> <td>5   </td> <td>0   </td> <td>0   </td> <td>0   </td> <td>0   </td> <td>0   </td> <td>0   </td> <td>0   </td> <td>0   </td> <td>0    </td> <td>0    </td> <td>0    </td> <td>0    </td> <td>0    </td> <td>0    </td> <td>0    </td> <td>0    </td> <td>0    </td> <td>0    </td> <td>0    </td> <td>0    </td> <td>0    </td> <td>0    </td> <td>15.6       </td> <td>15.6    </td> <td>1.24</td> <td>1.29</td> <td>1.29 </td> <td>POINT (-73.870094 40.847168)</td> <td>38         </td> <td>Bronx Park  </td> <td>2          </td> <td>Bronx  </td> <td>http://nyc.pediacities.com/Resource/Neighborhood/Bronx_Park</td> <td>Good         </td>\n",
              "        </tr>\n",
              "    </tbody>\n",
              "</table>\n",
              "<p>... (118485 rows omitted)</p>"
            ]
          },
          "metadata": {},
          "execution_count": 126
        }
      ]
    },
    {
      "cell_type": "code",
      "source": [
        "merged_data_category.group(\"PM25_Category\")"
      ],
      "metadata": {
        "colab": {
          "base_uri": "https://localhost:8080/",
          "height": 143
        },
        "id": "QXDbLSqLntKo",
        "outputId": "b8530d05-0186-4c03-e7dd-d313b309e490"
      },
      "execution_count": 127,
      "outputs": [
        {
          "output_type": "execute_result",
          "data": {
            "text/plain": [
              "PM25_Category | count\n",
              "Good          | 101851\n",
              "Moderate      | 12651\n",
              "Unhealthy     | 3993"
            ],
            "text/html": [
              "<table border=\"1\" class=\"dataframe\">\n",
              "    <thead>\n",
              "        <tr>\n",
              "            <th>PM25_Category</th> <th>count</th>\n",
              "        </tr>\n",
              "    </thead>\n",
              "    <tbody>\n",
              "        <tr>\n",
              "            <td>Good         </td> <td>101851</td>\n",
              "        </tr>\n",
              "        <tr>\n",
              "            <td>Moderate     </td> <td>12651 </td>\n",
              "        </tr>\n",
              "        <tr>\n",
              "            <td>Unhealthy    </td> <td>3993  </td>\n",
              "        </tr>\n",
              "    </tbody>\n",
              "</table>"
            ]
          },
          "metadata": {},
          "execution_count": 127
        }
      ]
    },
    {
      "cell_type": "markdown",
      "source": [
        "# Task 5: Simulate Random Sampling Using Tables (1 Mark)\n",
        "- Randomly sample 10% of the rows from the table without replacement using .sample().\n",
        "- Calculate the mean pm25 level for the sampled data.\n",
        "- Repeat the random sampling process 100 times and store the mean pm25 values from each iteration in a list.\n",
        "- Create a histogram of the 100 mean pm25 values to visualize the distribution of sample means."
      ],
      "metadata": {
        "id": "QPc8TD9i2CCu"
      }
    },
    {
      "cell_type": "code",
      "source": [
        "sample_data = merged_data_table.sample(round(0.10*merged_data_table.num_rows))\n",
        "sample_data"
      ],
      "metadata": {
        "colab": {
          "base_uri": "https://localhost:8080/",
          "height": 760
        },
        "id": "hU69bjl-n45e",
        "outputId": "d0820502-e73a-46a9-eb8c-7edd488001b8"
      },
      "execution_count": 132,
      "outputs": [
        {
          "output_type": "execute_result",
          "data": {
            "text/plain": [
              "SensorID  | time       | latitude | longitude | bin0 | bin1 | bin2 | bin3 | bin4 | bin5 | bin6 | bin7 | bin8 | bin9 | bin10 | bin11 | bin12 | bin13 | bin14 | bin15 | bin16 | bin17 | bin18 | bin19 | bin20 | bin21 | bin22 | bin23 | temperature | humidity | pm1  | pm25  | pm10  | geometry                     | index_right | neighborhood | boroughCode | borough | @id\n",
              "NYCP1_01A | 1579625820 | 40.8287  | -73.8985  | 18   | 3    | 1    | 1    | 0    | 0    | 0    | 0    | 0    | 0    | 0     | 0     | 0     | 0     | 0     | 0     | 0     | 0     | 0     | 0     | 0     | 0     | 0     | 0     | 1.7         | 32.2     | 1.98 | 2.85  | 2.88  | POINT (-73.898483 40.828701) | 194         | Morrisania   | 2           | Bronx   | http://nyc.pediacities.com/Resource/Neighborhood/Morrisania\n",
              "NYCP1_01A | 1580400960 | 40.817   | -73.8974  | 21   | 3    | 1    | 1    | 0    | 0    | 0    | 0    | 0    | 0    | 0     | 0     | 0     | 0     | 0     | 0     | 0     | 0     | 0     | 0     | 0     | 0     | 0     | 0     | 5.5         | 32.7     | 2.17 | 3.05  | 3.09  | POINT (-73.897385 40.817001) | 176         | Longwood     | 2           | Bronx   | http://nyc.pediacities.com/Resource/Neighborhood/Longwood\n",
              "NYCP1_01A | 1580940000 | 40.8474  | -73.8703  | 12   | 0    | 0    | 0    | 0    | 0    | 0    | 0    | 0    | 0    | 0     | 0     | 0     | 0     | 0     | 0     | 0     | 0     | 0     | 0     | 0     | 0     | 0     | 0     | 19          | 18.8     | 0.36 | 0.36  | 0.36  | POINT (-73.87027 40.847355)  | 38          | Bronx Park   | 2           | Bronx   | http://nyc.pediacities.com/Resource/Neighborhood/Bronx_Park\n",
              "NYCP1_01A | 1579713660 | 40.8189  | -73.8984  | 36   | 5    | 0    | 0    | 1    | 2    | 0    | 0    | 0    | 0    | 0     | 0     | 0     | 0     | 0     | 0     | 0     | 0     | 0     | 0     | 0     | 0     | 0     | 0     | 15.5        | 22.2     | 2.15 | 8.39  | 10.76 | POINT (-73.898361 40.818859) | 176         | Longwood     | 2           | Bronx   | http://nyc.pediacities.com/Resource/Neighborhood/Longwood\n",
              "NYCP1_01A | 1580992680 | 40.8454  | -73.8705  | 70   | 15   | 4    | 1    | 0    | 0    | 0    | 0    | 0    | 0    | 0     | 0     | 0     | 0     | 0     | 0     | 0     | 0     | 0     | 0     | 0     | 0     | 0     | 0     | 3.7         | 102.4    | 5.07 | 6.12  | 6.15  | POINT (-73.870483 40.845352) | 292         | Van Nest     | 2           | Bronx   | http://nyc.pediacities.com/Resource/Neighborhood/Van Nest\n",
              "NYCP1_01A | 1580329560 | 40.847   | -73.871   | 6    | 1    | 0    | 0    | 0    | 1    | 0    | 0    | 0    | 0    | 0     | 0     | 0     | 0     | 0     | 0     | 0     | 0     | 0     | 0     | 0     | 0     | 0     | 0     | 6.7         | 33.7     | 1.91 | 12.86 | 17.65 | POINT (-73.871017 40.846985) | 38          | Bronx Park   | 2           | Bronx   | http://nyc.pediacities.com/Resource/Neighborhood/Bronx_Park\n",
              "NYCP1_01A | 1580417820 | 40.8648  | -73.8989  | 28   | 2    | 1    | 0    | 1    | 0    | 0    | 0    | 0    | 0    | 0     | 0     | 0     | 0     | 0     | 0     | 0     | 0     | 0     | 0     | 0     | 0     | 0     | 0     | 3.2         | 37.9     | 1.8  | 3.36  | 3.57  | POINT (-73.89888 40.864769)  | 105         | Fordham      | 2           | Bronx   | http://nyc.pediacities.com/Resource/Neighborhood/Fordham\n",
              "NYCP1_01A | 1580758320 | 40.8245  | -73.8978  | 9    | 2    | 0    | 0    | 0    | 0    | 0    | 0    | 0    | 0    | 0     | 0     | 0     | 0     | 0     | 0     | 0     | 0     | 0     | 0     | 0     | 0     | 0     | 0     | 16.6        | 36       | 0.44 | 0.45  | 0.45  | POINT (-73.897797 40.824474) | 176         | Longwood     | 2           | Bronx   | http://nyc.pediacities.com/Resource/Neighborhood/Longwood\n",
              "NYCP1_01A | 1580761020 | 40.8063  | -73.8892  | 4    | 0    | 0    | 0    | 0    | 0    | 0    | 1    | 0    | 0    | 0     | 0     | 0     | 0     | 0     | 0     | 0     | 0     | 0     | 0     | 0     | 0     | 0     | 0     | 15.4        | 38.8     | 0.23 | 7.26  | 34.59 | POINT (-73.88916 40.806252)  | 140         | Hunts Point  | 2           | Bronx   | http://nyc.pediacities.com/Resource/Neighborhood/Hunts_Point\n",
              "NYCP1_01A | 1579952880 | 40.846   | -73.8703  | 1    | 0    | 0    | 0    | 0    | 0    | 0    | 0    | 0    | 0    | 0     | 0     | 0     | 0     | 0     | 0     | 0     | 0     | 0     | 0     | 0     | 0     | 0     | 0     | 3.8         | 94.2     | 0.06 | 0.06  | 0.06  | POINT (-73.870323 40.845985) | 38          | Bronx Park   | 2           | Bronx   | http://nyc.pediacities.com/Resource/Neighborhood/Bronx_Park\n",
              "... (11840 rows omitted)"
            ],
            "text/html": [
              "<table border=\"1\" class=\"dataframe\">\n",
              "    <thead>\n",
              "        <tr>\n",
              "            <th>SensorID</th> <th>time</th> <th>latitude</th> <th>longitude</th> <th>bin0</th> <th>bin1</th> <th>bin2</th> <th>bin3</th> <th>bin4</th> <th>bin5</th> <th>bin6</th> <th>bin7</th> <th>bin8</th> <th>bin9</th> <th>bin10</th> <th>bin11</th> <th>bin12</th> <th>bin13</th> <th>bin14</th> <th>bin15</th> <th>bin16</th> <th>bin17</th> <th>bin18</th> <th>bin19</th> <th>bin20</th> <th>bin21</th> <th>bin22</th> <th>bin23</th> <th>temperature</th> <th>humidity</th> <th>pm1</th> <th>pm25</th> <th>pm10</th> <th>geometry</th> <th>index_right</th> <th>neighborhood</th> <th>boroughCode</th> <th>borough</th> <th>@id</th>\n",
              "        </tr>\n",
              "    </thead>\n",
              "    <tbody>\n",
              "        <tr>\n",
              "            <td>NYCP1_01A</td> <td>1579625820</td> <td>40.8287 </td> <td>-73.8985 </td> <td>18  </td> <td>3   </td> <td>1   </td> <td>1   </td> <td>0   </td> <td>0   </td> <td>0   </td> <td>0   </td> <td>0   </td> <td>0   </td> <td>0    </td> <td>0    </td> <td>0    </td> <td>0    </td> <td>0    </td> <td>0    </td> <td>0    </td> <td>0    </td> <td>0    </td> <td>0    </td> <td>0    </td> <td>0    </td> <td>0    </td> <td>0    </td> <td>1.7        </td> <td>32.2    </td> <td>1.98</td> <td>2.85 </td> <td>2.88 </td> <td>POINT (-73.898483 40.828701)</td> <td>194        </td> <td>Morrisania  </td> <td>2          </td> <td>Bronx  </td> <td>http://nyc.pediacities.com/Resource/Neighborhood/Morrisania </td>\n",
              "        </tr>\n",
              "        <tr>\n",
              "            <td>NYCP1_01A</td> <td>1580400960</td> <td>40.817  </td> <td>-73.8974 </td> <td>21  </td> <td>3   </td> <td>1   </td> <td>1   </td> <td>0   </td> <td>0   </td> <td>0   </td> <td>0   </td> <td>0   </td> <td>0   </td> <td>0    </td> <td>0    </td> <td>0    </td> <td>0    </td> <td>0    </td> <td>0    </td> <td>0    </td> <td>0    </td> <td>0    </td> <td>0    </td> <td>0    </td> <td>0    </td> <td>0    </td> <td>0    </td> <td>5.5        </td> <td>32.7    </td> <td>2.17</td> <td>3.05 </td> <td>3.09 </td> <td>POINT (-73.897385 40.817001)</td> <td>176        </td> <td>Longwood    </td> <td>2          </td> <td>Bronx  </td> <td>http://nyc.pediacities.com/Resource/Neighborhood/Longwood   </td>\n",
              "        </tr>\n",
              "        <tr>\n",
              "            <td>NYCP1_01A</td> <td>1580940000</td> <td>40.8474 </td> <td>-73.8703 </td> <td>12  </td> <td>0   </td> <td>0   </td> <td>0   </td> <td>0   </td> <td>0   </td> <td>0   </td> <td>0   </td> <td>0   </td> <td>0   </td> <td>0    </td> <td>0    </td> <td>0    </td> <td>0    </td> <td>0    </td> <td>0    </td> <td>0    </td> <td>0    </td> <td>0    </td> <td>0    </td> <td>0    </td> <td>0    </td> <td>0    </td> <td>0    </td> <td>19         </td> <td>18.8    </td> <td>0.36</td> <td>0.36 </td> <td>0.36 </td> <td>POINT (-73.87027 40.847355) </td> <td>38         </td> <td>Bronx Park  </td> <td>2          </td> <td>Bronx  </td> <td>http://nyc.pediacities.com/Resource/Neighborhood/Bronx_Park </td>\n",
              "        </tr>\n",
              "        <tr>\n",
              "            <td>NYCP1_01A</td> <td>1579713660</td> <td>40.8189 </td> <td>-73.8984 </td> <td>36  </td> <td>5   </td> <td>0   </td> <td>0   </td> <td>1   </td> <td>2   </td> <td>0   </td> <td>0   </td> <td>0   </td> <td>0   </td> <td>0    </td> <td>0    </td> <td>0    </td> <td>0    </td> <td>0    </td> <td>0    </td> <td>0    </td> <td>0    </td> <td>0    </td> <td>0    </td> <td>0    </td> <td>0    </td> <td>0    </td> <td>0    </td> <td>15.5       </td> <td>22.2    </td> <td>2.15</td> <td>8.39 </td> <td>10.76</td> <td>POINT (-73.898361 40.818859)</td> <td>176        </td> <td>Longwood    </td> <td>2          </td> <td>Bronx  </td> <td>http://nyc.pediacities.com/Resource/Neighborhood/Longwood   </td>\n",
              "        </tr>\n",
              "        <tr>\n",
              "            <td>NYCP1_01A</td> <td>1580992680</td> <td>40.8454 </td> <td>-73.8705 </td> <td>70  </td> <td>15  </td> <td>4   </td> <td>1   </td> <td>0   </td> <td>0   </td> <td>0   </td> <td>0   </td> <td>0   </td> <td>0   </td> <td>0    </td> <td>0    </td> <td>0    </td> <td>0    </td> <td>0    </td> <td>0    </td> <td>0    </td> <td>0    </td> <td>0    </td> <td>0    </td> <td>0    </td> <td>0    </td> <td>0    </td> <td>0    </td> <td>3.7        </td> <td>102.4   </td> <td>5.07</td> <td>6.12 </td> <td>6.15 </td> <td>POINT (-73.870483 40.845352)</td> <td>292        </td> <td>Van Nest    </td> <td>2          </td> <td>Bronx  </td> <td>http://nyc.pediacities.com/Resource/Neighborhood/Van Nest   </td>\n",
              "        </tr>\n",
              "        <tr>\n",
              "            <td>NYCP1_01A</td> <td>1580329560</td> <td>40.847  </td> <td>-73.871  </td> <td>6   </td> <td>1   </td> <td>0   </td> <td>0   </td> <td>0   </td> <td>1   </td> <td>0   </td> <td>0   </td> <td>0   </td> <td>0   </td> <td>0    </td> <td>0    </td> <td>0    </td> <td>0    </td> <td>0    </td> <td>0    </td> <td>0    </td> <td>0    </td> <td>0    </td> <td>0    </td> <td>0    </td> <td>0    </td> <td>0    </td> <td>0    </td> <td>6.7        </td> <td>33.7    </td> <td>1.91</td> <td>12.86</td> <td>17.65</td> <td>POINT (-73.871017 40.846985)</td> <td>38         </td> <td>Bronx Park  </td> <td>2          </td> <td>Bronx  </td> <td>http://nyc.pediacities.com/Resource/Neighborhood/Bronx_Park </td>\n",
              "        </tr>\n",
              "        <tr>\n",
              "            <td>NYCP1_01A</td> <td>1580417820</td> <td>40.8648 </td> <td>-73.8989 </td> <td>28  </td> <td>2   </td> <td>1   </td> <td>0   </td> <td>1   </td> <td>0   </td> <td>0   </td> <td>0   </td> <td>0   </td> <td>0   </td> <td>0    </td> <td>0    </td> <td>0    </td> <td>0    </td> <td>0    </td> <td>0    </td> <td>0    </td> <td>0    </td> <td>0    </td> <td>0    </td> <td>0    </td> <td>0    </td> <td>0    </td> <td>0    </td> <td>3.2        </td> <td>37.9    </td> <td>1.8 </td> <td>3.36 </td> <td>3.57 </td> <td>POINT (-73.89888 40.864769) </td> <td>105        </td> <td>Fordham     </td> <td>2          </td> <td>Bronx  </td> <td>http://nyc.pediacities.com/Resource/Neighborhood/Fordham    </td>\n",
              "        </tr>\n",
              "        <tr>\n",
              "            <td>NYCP1_01A</td> <td>1580758320</td> <td>40.8245 </td> <td>-73.8978 </td> <td>9   </td> <td>2   </td> <td>0   </td> <td>0   </td> <td>0   </td> <td>0   </td> <td>0   </td> <td>0   </td> <td>0   </td> <td>0   </td> <td>0    </td> <td>0    </td> <td>0    </td> <td>0    </td> <td>0    </td> <td>0    </td> <td>0    </td> <td>0    </td> <td>0    </td> <td>0    </td> <td>0    </td> <td>0    </td> <td>0    </td> <td>0    </td> <td>16.6       </td> <td>36      </td> <td>0.44</td> <td>0.45 </td> <td>0.45 </td> <td>POINT (-73.897797 40.824474)</td> <td>176        </td> <td>Longwood    </td> <td>2          </td> <td>Bronx  </td> <td>http://nyc.pediacities.com/Resource/Neighborhood/Longwood   </td>\n",
              "        </tr>\n",
              "        <tr>\n",
              "            <td>NYCP1_01A</td> <td>1580761020</td> <td>40.8063 </td> <td>-73.8892 </td> <td>4   </td> <td>0   </td> <td>0   </td> <td>0   </td> <td>0   </td> <td>0   </td> <td>0   </td> <td>1   </td> <td>0   </td> <td>0   </td> <td>0    </td> <td>0    </td> <td>0    </td> <td>0    </td> <td>0    </td> <td>0    </td> <td>0    </td> <td>0    </td> <td>0    </td> <td>0    </td> <td>0    </td> <td>0    </td> <td>0    </td> <td>0    </td> <td>15.4       </td> <td>38.8    </td> <td>0.23</td> <td>7.26 </td> <td>34.59</td> <td>POINT (-73.88916 40.806252) </td> <td>140        </td> <td>Hunts Point </td> <td>2          </td> <td>Bronx  </td> <td>http://nyc.pediacities.com/Resource/Neighborhood/Hunts_Point</td>\n",
              "        </tr>\n",
              "        <tr>\n",
              "            <td>NYCP1_01A</td> <td>1579952880</td> <td>40.846  </td> <td>-73.8703 </td> <td>1   </td> <td>0   </td> <td>0   </td> <td>0   </td> <td>0   </td> <td>0   </td> <td>0   </td> <td>0   </td> <td>0   </td> <td>0   </td> <td>0    </td> <td>0    </td> <td>0    </td> <td>0    </td> <td>0    </td> <td>0    </td> <td>0    </td> <td>0    </td> <td>0    </td> <td>0    </td> <td>0    </td> <td>0    </td> <td>0    </td> <td>0    </td> <td>3.8        </td> <td>94.2    </td> <td>0.06</td> <td>0.06 </td> <td>0.06 </td> <td>POINT (-73.870323 40.845985)</td> <td>38         </td> <td>Bronx Park  </td> <td>2          </td> <td>Bronx  </td> <td>http://nyc.pediacities.com/Resource/Neighborhood/Bronx_Park </td>\n",
              "        </tr>\n",
              "    </tbody>\n",
              "</table>\n",
              "<p>... (11840 rows omitted)</p>"
            ]
          },
          "metadata": {},
          "execution_count": 132
        }
      ]
    },
    {
      "cell_type": "code",
      "source": [
        "sample_data.column(\"pm25\").mean()"
      ],
      "metadata": {
        "colab": {
          "base_uri": "https://localhost:8080/"
        },
        "id": "2SKVBj4hotpP",
        "outputId": "659e1f6d-0fb5-463f-8d16-e9dcda5ed257"
      },
      "execution_count": 133,
      "outputs": [
        {
          "output_type": "execute_result",
          "data": {
            "text/plain": [
              "7.2741729957805914"
            ]
          },
          "metadata": {},
          "execution_count": 133
        }
      ]
    },
    {
      "cell_type": "code",
      "source": [
        "PM25_mean = []\n",
        "for i in range(100):\n",
        "  sample_data = merged_data_table.sample(round(0.10*merged_data_table.num_rows))\n",
        "  PM25_mean.append(sample_data.column(\"pm25\").mean())\n",
        "\n",
        "PM25_mean"
      ],
      "metadata": {
        "colab": {
          "base_uri": "https://localhost:8080/"
        },
        "id": "LF_VCdYJo2AP",
        "outputId": "fd4116c5-14b5-442f-80de-811d6647e335"
      },
      "execution_count": 135,
      "outputs": [
        {
          "output_type": "execute_result",
          "data": {
            "text/plain": [
              "[7.6858059071729947,\n",
              " 7.8262050632911393,\n",
              " 7.6195358649789027,\n",
              " 7.9386742616033761,\n",
              " 7.6151721518987348,\n",
              " 7.1229814345991551,\n",
              " 7.2924067510548527,\n",
              " 7.5559544303797468,\n",
              " 7.3997063291139247,\n",
              " 7.4941822784810128,\n",
              " 7.2728118143459923,\n",
              " 7.4086936708860751,\n",
              " 7.4538025316455698,\n",
              " 7.2368717299578051,\n",
              " 7.4244379746835456,\n",
              " 7.459837130801688,\n",
              " 7.0519063291139235,\n",
              " 7.1292751054852328,\n",
              " 7.4054345991561172,\n",
              " 7.4573510548523192,\n",
              " 7.4311966244725731,\n",
              " 7.4390827004219418,\n",
              " 6.8992025316455683,\n",
              " 7.0593915611814353,\n",
              " 7.2706481012658219,\n",
              " 7.3726210970464132,\n",
              " 7.2380455696202528,\n",
              " 8.0065493670886081,\n",
              " 7.4942438818565398,\n",
              " 7.5973189873417715,\n",
              " 7.4149021097046415,\n",
              " 7.2139443037974678,\n",
              " 7.368637974683546,\n",
              " 7.565966244725737,\n",
              " 7.3540362869198317,\n",
              " 7.5272607594936716,\n",
              " 7.8887729957805899,\n",
              " 7.3358624472573837,\n",
              " 7.0862852320675103,\n",
              " 7.267213502109704,\n",
              " 7.3101535864978908,\n",
              " 7.3454278481012665,\n",
              " 7.1495586497890296,\n",
              " 7.3996666666666666,\n",
              " 7.4093746835443035,\n",
              " 7.577988185654009,\n",
              " 7.3696455696202534,\n",
              " 7.4320751054852314,\n",
              " 7.2103189873417719,\n",
              " 7.3973468354430381,\n",
              " 7.6807139240506324,\n",
              " 7.3424582278481019,\n",
              " 7.3638362869198302,\n",
              " 7.4809291139240512,\n",
              " 7.3679949367088602,\n",
              " 7.1938151898734173,\n",
              " 7.4333729957805907,\n",
              " 7.0849746835443037,\n",
              " 7.8256126582278487,\n",
              " 7.2012025316455697,\n",
              " 7.3609957805907165,\n",
              " 7.3531696202531656,\n",
              " 7.4733139240506334,\n",
              " 7.2993257383966244,\n",
              " 7.4145004219409287,\n",
              " 7.2777966244725736,\n",
              " 7.0252236286919825,\n",
              " 7.5692540084388185,\n",
              " 7.3565341772151891,\n",
              " 7.0830717299578057,\n",
              " 7.3288632911392408,\n",
              " 7.27759746835443,\n",
              " 7.4423907172995785,\n",
              " 7.4309434599156123,\n",
              " 7.1062413502109694,\n",
              " 7.3075029535864982,\n",
              " 7.4638396624472572,\n",
              " 7.2302945147679321,\n",
              " 7.1890126582278482,\n",
              " 7.5156725738396624,\n",
              " 7.6847493670886076,\n",
              " 7.1972371308016889,\n",
              " 7.3593130801687749,\n",
              " 7.7197898734177208,\n",
              " 7.4301097046413505,\n",
              " 7.3838185654008441,\n",
              " 7.3354286919831226,\n",
              " 7.2296751054852315,\n",
              " 7.7667299578059072,\n",
              " 7.2218303797468355,\n",
              " 7.4004042194092836,\n",
              " 7.3990160337552737,\n",
              " 7.1119156118143456,\n",
              " 7.008833755274261,\n",
              " 7.2621147679324896,\n",
              " 7.5104016877637125,\n",
              " 7.3837021097046414,\n",
              " 7.5643687763713068,\n",
              " 7.3898599156118143,\n",
              " 7.459640506329114]"
            ]
          },
          "metadata": {},
          "execution_count": 135
        }
      ]
    },
    {
      "cell_type": "code",
      "source": [
        "plt.hist(PM25_mean)\n",
        "plt.title(\"Sample pm25 mean\")\n",
        "plt.xlabel(\"pm25 mean\")"
      ],
      "metadata": {
        "colab": {
          "base_uri": "https://localhost:8080/",
          "height": 525
        },
        "id": "e1w05lwDpbfP",
        "outputId": "f1f272e1-4d1f-4cde-cadc-f9c7aab310df"
      },
      "execution_count": 139,
      "outputs": [
        {
          "output_type": "execute_result",
          "data": {
            "text/plain": [
              "Text(0.5, 0, 'pm25 mean')"
            ]
          },
          "metadata": {},
          "execution_count": 139
        },
        {
          "output_type": "display_data",
          "data": {
            "text/plain": [
              "<Figure size 640x480 with 1 Axes>"
            ],
            "image/png": "[encoded data removed]"
          },
          "metadata": {}
        }
      ]
    },
    {
      "cell_type": "markdown",
      "source": [
        "# Submission Guidelines\n",
        "- Add a \"Open in Colab\" button at the top of your notebook using the following Markdown code:\n",
        "[![Open In Colab](https://colab.research.google.com/assets/colab-badge.svg)](https://colab.research.google.com/github/your-repo-path/notebook.ipynb)\n",
        "\n",
        "- Upload your completed Jupyter Notebook to a GitHub repository.\n",
        "- Submit the link to your GitHub repository in the Blackboard LMS along with the Jupyter solution file.\n",
        "- <font color = red size = 6> ATTENTION!!! </font> Students are encouraged to work on groups, however the submission should be individual and each student should have her/his own unique final assignment solution, which is to be submitted in BB"
      ],
      "metadata": {
        "id": "kM16Gy602H1X"
      }
    },
    {
      "cell_type": "markdown",
      "source": [
        "# Grading Rubric\n",
        "- Each task is worth 1 mark , based on the following criteria:\n",
        "\n",
        "- Correctness : The solution produces the expected output using the Table abstraction .\n",
        "- Clarity : Code is well-organized, readable, and includes comments explaining key steps.\n",
        "- Creativity : Visualizations and analyses are presented in an engaging and insightful manner."
      ],
      "metadata": {
        "id": "dY2-OB4A2huX"
      }
    },
    {
      "cell_type": "markdown",
      "source": [
        "# Hints for Success\n",
        "- Use the Table abstraction methods like .select(), .where(), .group(), .apply(), and .sample() for data manipulation.\n",
        "- Refer to the slides and examples from book Chapters 6, 7, 8, and 9 for guidance on tables, functions, visualizations, and randomness.\n",
        "- Test your code frequently to ensure it runs without errors."
      ],
      "metadata": {
        "id": "0GlfWQnV2r9v"
      }
    }
  ]
}